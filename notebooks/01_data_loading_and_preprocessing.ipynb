{
 "cells": [
  {
   "cell_type": "code",
   "execution_count": 2,
   "metadata": {},
   "outputs": [],
   "source": [
    "import sys\n",
    "from pathlib import Path\n",
    "\n",
    "# Define o caminho para o diretório raiz do projeto\n",
    "project_root = Path(\"/home/igor/github-projects/book-review\")\n",
    "\n",
    "# Adiciona o diretório raiz do projeto ao sys.path\n",
    "if str(project_root) not in sys.path:\n",
    "    sys.path.append(str(project_root))\n"
   ]
  },
  {
   "cell_type": "code",
   "execution_count": 51,
   "metadata": {},
   "outputs": [],
   "source": [
    "import polars as pl\n",
    "\n",
    "\n",
    "from src.config import BOOKS_DATA_PATH, BOOKS_RATING_PATH\n",
    "\n",
    "# Load the books_data.csv file\n",
    "books_data = pl.read_csv(BOOKS_DATA_PATH)\n",
    "\n",
    "# Load the books_rating.csv file\n",
    "books_rating = pl.read_csv(BOOKS_RATING_PATH)"
   ]
  },
  {
   "cell_type": "markdown",
   "metadata": {},
   "source": [
    "# Data Description"
   ]
  },
  {
   "cell_type": "code",
   "execution_count": 17,
   "metadata": {},
   "outputs": [
    {
     "name": "stdout",
     "output_type": "stream",
     "text": [
      "Books Data columns:\n"
     ]
    },
    {
     "data": {
      "text/plain": [
       "['Title',\n",
       " 'description',\n",
       " 'authors',\n",
       " 'image',\n",
       " 'previewLink',\n",
       " 'publisher',\n",
       " 'publishedDate',\n",
       " 'infoLink',\n",
       " 'categories',\n",
       " 'ratingsCount']"
      ]
     },
     "execution_count": 17,
     "metadata": {},
     "output_type": "execute_result"
    }
   ],
   "source": [
    "print(\"Books Data columns:\")\n",
    "books_data.columns"
   ]
  },
  {
   "cell_type": "code",
   "execution_count": 19,
   "metadata": {},
   "outputs": [
    {
     "data": {
      "text/html": [
       "<div><style>\n",
       ".dataframe > thead > tr,\n",
       ".dataframe > tbody > tr {\n",
       "  text-align: right;\n",
       "  white-space: pre-wrap;\n",
       "}\n",
       "</style>\n",
       "<small>shape: (9, 11)</small><table border=\"1\" class=\"dataframe\"><thead><tr><th>statistic</th><th>Title</th><th>description</th><th>authors</th><th>image</th><th>previewLink</th><th>publisher</th><th>publishedDate</th><th>infoLink</th><th>categories</th><th>ratingsCount</th></tr><tr><td>str</td><td>str</td><td>str</td><td>str</td><td>str</td><td>str</td><td>str</td><td>str</td><td>str</td><td>str</td><td>f64</td></tr></thead><tbody><tr><td>&quot;count&quot;</td><td>&quot;212403&quot;</td><td>&quot;143962&quot;</td><td>&quot;180991&quot;</td><td>&quot;160329&quot;</td><td>&quot;188568&quot;</td><td>&quot;136518&quot;</td><td>&quot;187099&quot;</td><td>&quot;188568&quot;</td><td>&quot;171205&quot;</td><td>49752.0</td></tr><tr><td>&quot;null_count&quot;</td><td>&quot;1&quot;</td><td>&quot;68442&quot;</td><td>&quot;31413&quot;</td><td>&quot;52075&quot;</td><td>&quot;23836&quot;</td><td>&quot;75886&quot;</td><td>&quot;25305&quot;</td><td>&quot;23836&quot;</td><td>&quot;41199&quot;</td><td>162652.0</td></tr><tr><td>&quot;mean&quot;</td><td>null</td><td>null</td><td>null</td><td>null</td><td>null</td><td>null</td><td>null</td><td>null</td><td>null</td><td>21.252975</td></tr><tr><td>&quot;std&quot;</td><td>null</td><td>null</td><td>null</td><td>null</td><td>null</td><td>null</td><td>null</td><td>null</td><td>null</td><td>201.340431</td></tr><tr><td>&quot;min&quot;</td><td>&quot;&quot; Film technique, &quot; and, &quot; Fil…</td><td>&quot;!! ALL NEW CAMPGROUND GUIDE CO…</td><td>&quot;[&quot;&#x27;Abd al-Samih Abu &#x27;Umar&quot;]&quot;</td><td>&quot;http://books.google.com/books/…</td><td>&quot;http://books.google.com/books?…</td><td>&quot;&quot;O&#x27;Reilly Media, Inc.&quot;&quot;</td><td>&quot;101-01-01&quot;</td><td>&quot;http://books.google.com/books?…</td><td>&quot;[&quot;&#x27;Abd al-Bah̄a, 1844-1921&quot;]&quot;</td><td>1.0</td></tr><tr><td>&quot;25%&quot;</td><td>null</td><td>null</td><td>null</td><td>null</td><td>null</td><td>null</td><td>null</td><td>null</td><td>null</td><td>1.0</td></tr><tr><td>&quot;50%&quot;</td><td>null</td><td>null</td><td>null</td><td>null</td><td>null</td><td>null</td><td>null</td><td>null</td><td>null</td><td>2.0</td></tr><tr><td>&quot;75%&quot;</td><td>null</td><td>null</td><td>null</td><td>null</td><td>null</td><td>null</td><td>null</td><td>null</td><td>null</td><td>5.0</td></tr><tr><td>&quot;max&quot;</td><td>&quot;you can do anything with crepe…</td><td>&quot;�Una novela llam�mosle existen…</td><td>&quot;[&#x27;편집부편&#x27;]&quot;</td><td>&quot;http://books.google.com/books/…</td><td>&quot;http://books.google.nl/books?i…</td><td>&quot;펜립&quot;</td><td>&quot;20??&quot;</td><td>&quot;https://play.google.com/store/…</td><td>&quot;[&#x27;Śaivism&#x27;]&quot;</td><td>4895.0</td></tr></tbody></table></div>"
      ],
      "text/plain": [
       "shape: (9, 11)\n",
       "┌───────────┬───────────┬───────────┬───────────┬───┬───────────┬───────────┬───────────┬──────────┐\n",
       "│ statistic ┆ Title     ┆ descripti ┆ authors   ┆ … ┆ published ┆ infoLink  ┆ categorie ┆ ratingsC │\n",
       "│ ---       ┆ ---       ┆ on        ┆ ---       ┆   ┆ Date      ┆ ---       ┆ s         ┆ ount     │\n",
       "│ str       ┆ str       ┆ ---       ┆ str       ┆   ┆ ---       ┆ str       ┆ ---       ┆ ---      │\n",
       "│           ┆           ┆ str       ┆           ┆   ┆ str       ┆           ┆ str       ┆ f64      │\n",
       "╞═══════════╪═══════════╪═══════════╪═══════════╪═══╪═══════════╪═══════════╪═══════════╪══════════╡\n",
       "│ count     ┆ 212403    ┆ 143962    ┆ 180991    ┆ … ┆ 187099    ┆ 188568    ┆ 171205    ┆ 49752.0  │\n",
       "│ null_coun ┆ 1         ┆ 68442     ┆ 31413     ┆ … ┆ 25305     ┆ 23836     ┆ 41199     ┆ 162652.0 │\n",
       "│ t         ┆           ┆           ┆           ┆   ┆           ┆           ┆           ┆          │\n",
       "│ mean      ┆ null      ┆ null      ┆ null      ┆ … ┆ null      ┆ null      ┆ null      ┆ 21.25297 │\n",
       "│           ┆           ┆           ┆           ┆   ┆           ┆           ┆           ┆ 5        │\n",
       "│ std       ┆ null      ┆ null      ┆ null      ┆ … ┆ null      ┆ null      ┆ null      ┆ 201.3404 │\n",
       "│           ┆           ┆           ┆           ┆   ┆           ┆           ┆           ┆ 31       │\n",
       "│ min       ┆ \" Film    ┆ !! ALL    ┆ [\"'Abd    ┆ … ┆ 101-01-01 ┆ http://bo ┆ [\"'Abd    ┆ 1.0      │\n",
       "│           ┆ technique ┆ NEW CAMPG ┆ al-Samih  ┆   ┆           ┆ oks.googl ┆ al-Bah̄a,  ┆          │\n",
       "│           ┆ , \" and,  ┆ ROUND     ┆ Abu       ┆   ┆           ┆ e.com/boo ┆ 1844-1921 ┆          │\n",
       "│           ┆ \" Fil…    ┆ GUIDE CO… ┆ 'Umar\"]   ┆   ┆           ┆ ks?…      ┆ \"]        ┆          │\n",
       "│ 25%       ┆ null      ┆ null      ┆ null      ┆ … ┆ null      ┆ null      ┆ null      ┆ 1.0      │\n",
       "│ 50%       ┆ null      ┆ null      ┆ null      ┆ … ┆ null      ┆ null      ┆ null      ┆ 2.0      │\n",
       "│ 75%       ┆ null      ┆ null      ┆ null      ┆ … ┆ null      ┆ null      ┆ null      ┆ 5.0      │\n",
       "│ max       ┆ you can   ┆ �Una      ┆ ['편집부  ┆ … ┆ 20??      ┆ https://p ┆ ['Śaivism ┆ 4895.0   │\n",
       "│           ┆ do        ┆ novela    ┆ 편']      ┆   ┆           ┆ lay.googl ┆ ']        ┆          │\n",
       "│           ┆ anything  ┆ llam�mosl ┆           ┆   ┆           ┆ e.com/sto ┆           ┆          │\n",
       "│           ┆ with      ┆ e         ┆           ┆   ┆           ┆ re/…      ┆           ┆          │\n",
       "│           ┆ crepe…    ┆ existen…  ┆           ┆   ┆           ┆           ┆           ┆          │\n",
       "└───────────┴───────────┴───────────┴───────────┴───┴───────────┴───────────┴───────────┴──────────┘"
      ]
     },
     "execution_count": 19,
     "metadata": {},
     "output_type": "execute_result"
    }
   ],
   "source": [
    "books_data.describe()"
   ]
  },
  {
   "cell_type": "code",
   "execution_count": 20,
   "metadata": {},
   "outputs": [
    {
     "data": {
      "text/html": [
       "<div><style>\n",
       ".dataframe > thead > tr,\n",
       ".dataframe > tbody > tr {\n",
       "  text-align: right;\n",
       "  white-space: pre-wrap;\n",
       "}\n",
       "</style>\n",
       "<small>shape: (9, 10)</small><table border=\"1\" class=\"dataframe\"><thead><tr><th>statistic</th><th>Id</th><th>Title</th><th>Price</th><th>User_id</th><th>profileName</th><th>score</th><th>time</th><th>summary</th><th>text</th></tr><tr><td>str</td><td>str</td><td>str</td><td>f64</td><td>str</td><td>str</td><td>f64</td><td>f64</td><td>str</td><td>str</td></tr></thead><tbody><tr><td>&quot;count&quot;</td><td>&quot;3000000&quot;</td><td>&quot;2999792&quot;</td><td>481171.0</td><td>&quot;2438213&quot;</td><td>&quot;2438095&quot;</td><td>3e6</td><td>3e6</td><td>&quot;2999593&quot;</td><td>&quot;2999992&quot;</td></tr><tr><td>&quot;null_count&quot;</td><td>&quot;0&quot;</td><td>&quot;208&quot;</td><td>2.518829e6</td><td>&quot;561787&quot;</td><td>&quot;561905&quot;</td><td>0.0</td><td>0.0</td><td>&quot;407&quot;</td><td>&quot;8&quot;</td></tr><tr><td>&quot;mean&quot;</td><td>null</td><td>null</td><td>21.762656</td><td>null</td><td>null</td><td>4.215289</td><td>1.1323e9</td><td>null</td><td>null</td></tr><tr><td>&quot;std&quot;</td><td>null</td><td>null</td><td>26.206541</td><td>null</td><td>null</td><td>1.203054</td><td>1.4932e8</td><td>null</td><td>null</td></tr><tr><td>&quot;min&quot;</td><td>&quot;0001047604&quot;</td><td>&quot;&quot; Film technique, &quot; and, &quot; Fil…</td><td>1.0</td><td>&quot;A00109803PZJ91RLT7DPN&quot;</td><td>&quot;\u001a&quot;</td><td>1.0</td><td>-1.0</td><td>&quot;!&quot;</td><td>&quot;\u0011The Tao of Muhammad Ali\u0012 is t…</td></tr><tr><td>&quot;25%&quot;</td><td>null</td><td>null</td><td>10.78</td><td>null</td><td>null</td><td>4.0</td><td>9.999072e8</td><td>null</td><td>null</td></tr><tr><td>&quot;50%&quot;</td><td>null</td><td>null</td><td>14.93</td><td>null</td><td>null</td><td>5.0</td><td>1.1283e9</td><td>null</td><td>null</td></tr><tr><td>&quot;75%&quot;</td><td>null</td><td>null</td><td>23.95</td><td>null</td><td>null</td><td>5.0</td><td>1.2691e9</td><td>null</td><td>null</td></tr><tr><td>&quot;max&quot;</td><td>&quot;B0064P287I&quot;</td><td>&quot;you can do anything with crepe…</td><td>995.0</td><td>&quot;AZZZZW74AAX75&quot;</td><td>&quot;~~~~~~~&quot;</td><td>5.0</td><td>1.3624e9</td><td>&quot;~~~~~~~~~~~~~~~~~~~~~~~~~~&quot;</td><td>&quot;~~~~~~~~~~~~~~~~~~~~~~~~~~~~~~…</td></tr></tbody></table></div>"
      ],
      "text/plain": [
       "shape: (9, 10)\n",
       "┌───────────┬───────────┬───────────┬───────────┬───┬──────────┬───────────┬───────────┬───────────┐\n",
       "│ statistic ┆ Id        ┆ Title     ┆ Price     ┆ … ┆ score    ┆ time      ┆ summary   ┆ text      │\n",
       "│ ---       ┆ ---       ┆ ---       ┆ ---       ┆   ┆ ---      ┆ ---       ┆ ---       ┆ ---       │\n",
       "│ str       ┆ str       ┆ str       ┆ f64       ┆   ┆ f64      ┆ f64       ┆ str       ┆ str       │\n",
       "╞═══════════╪═══════════╪═══════════╪═══════════╪═══╪══════════╪═══════════╪═══════════╪═══════════╡\n",
       "│ count     ┆ 3000000   ┆ 2999792   ┆ 481171.0  ┆ … ┆ 3e6      ┆ 3e6       ┆ 2999593   ┆ 2999992   │\n",
       "│ null_coun ┆ 0         ┆ 208       ┆ 2.518829e ┆ … ┆ 0.0      ┆ 0.0       ┆ 407       ┆ 8         │\n",
       "│ t         ┆           ┆           ┆ 6         ┆   ┆          ┆           ┆           ┆           │\n",
       "│ mean      ┆ null      ┆ null      ┆ 21.762656 ┆ … ┆ 4.215289 ┆ 1.1323e9  ┆ null      ┆ null      │\n",
       "│ std       ┆ null      ┆ null      ┆ 26.206541 ┆ … ┆ 1.203054 ┆ 1.4932e8  ┆ null      ┆ null      │\n",
       "│ min       ┆ 000104760 ┆ \" Film    ┆ 1.0       ┆ … ┆ 1.0      ┆ -1.0      ┆ !         ┆ \u0011The Tao  │\n",
       "│           ┆ 4         ┆ technique ┆           ┆   ┆          ┆           ┆           ┆ of        │\n",
       "│           ┆           ┆ , \" and,  ┆           ┆   ┆          ┆           ┆           ┆ Muhammad  │\n",
       "│           ┆           ┆ \" Fil…    ┆           ┆   ┆          ┆           ┆           ┆ Ali\u0012 is   │\n",
       "│           ┆           ┆           ┆           ┆   ┆          ┆           ┆           ┆ t…        │\n",
       "│ 25%       ┆ null      ┆ null      ┆ 10.78     ┆ … ┆ 4.0      ┆ 9.999072e ┆ null      ┆ null      │\n",
       "│           ┆           ┆           ┆           ┆   ┆          ┆ 8         ┆           ┆           │\n",
       "│ 50%       ┆ null      ┆ null      ┆ 14.93     ┆ … ┆ 5.0      ┆ 1.1283e9  ┆ null      ┆ null      │\n",
       "│ 75%       ┆ null      ┆ null      ┆ 23.95     ┆ … ┆ 5.0      ┆ 1.2691e9  ┆ null      ┆ null      │\n",
       "│ max       ┆ B0064P287 ┆ you can   ┆ 995.0     ┆ … ┆ 5.0      ┆ 1.3624e9  ┆ ~~~~~~~~~ ┆ ~~~~~~~~~ │\n",
       "│           ┆ I         ┆ do        ┆           ┆   ┆          ┆           ┆ ~~~~~~~~~ ┆ ~~~~~~~~~ │\n",
       "│           ┆           ┆ anything  ┆           ┆   ┆          ┆           ┆ ~~~~~~~~  ┆ ~~~~~~~~~ │\n",
       "│           ┆           ┆ with      ┆           ┆   ┆          ┆           ┆           ┆ ~~~…      │\n",
       "│           ┆           ┆ crepe…    ┆           ┆   ┆          ┆           ┆           ┆           │\n",
       "└───────────┴───────────┴───────────┴───────────┴───┴──────────┴───────────┴───────────┴───────────┘"
      ]
     },
     "execution_count": 20,
     "metadata": {},
     "output_type": "execute_result"
    }
   ],
   "source": [
    "books_rating.describe()"
   ]
  },
  {
   "cell_type": "code",
   "execution_count": 16,
   "metadata": {},
   "outputs": [
    {
     "name": "stdout",
     "output_type": "stream",
     "text": [
      "Books Rating columns:\n"
     ]
    },
    {
     "data": {
      "text/plain": [
       "['Id',\n",
       " 'Title',\n",
       " 'Price',\n",
       " 'User_id',\n",
       " 'profileName',\n",
       " 'score',\n",
       " 'time',\n",
       " 'summary',\n",
       " 'text']"
      ]
     },
     "execution_count": 16,
     "metadata": {},
     "output_type": "execute_result"
    }
   ],
   "source": [
    "print(\"Books Rating columns:\")\n",
    "books_rating.columns"
   ]
  },
  {
   "cell_type": "code",
   "execution_count": 4,
   "metadata": {},
   "outputs": [
    {
     "data": {
      "text/html": [
       "<div><style>\n",
       ".dataframe > thead > tr,\n",
       ".dataframe > tbody > tr {\n",
       "  text-align: right;\n",
       "  white-space: pre-wrap;\n",
       "}\n",
       "</style>\n",
       "<small>shape: (5, 10)</small><table border=\"1\" class=\"dataframe\"><thead><tr><th>Title</th><th>description</th><th>authors</th><th>image</th><th>previewLink</th><th>publisher</th><th>publishedDate</th><th>infoLink</th><th>categories</th><th>ratingsCount</th></tr><tr><td>str</td><td>str</td><td>str</td><td>str</td><td>str</td><td>str</td><td>str</td><td>str</td><td>str</td><td>f64</td></tr></thead><tbody><tr><td>&quot;Its Only Art If Its Well Hung!&quot;</td><td>null</td><td>&quot;[&#x27;Julie Strain&#x27;]&quot;</td><td>&quot;http://books.google.com/books/…</td><td>&quot;http://books.google.nl/books?i…</td><td>null</td><td>&quot;1996&quot;</td><td>&quot;http://books.google.nl/books?i…</td><td>&quot;[&#x27;Comics &amp; Graphic Novels&#x27;]&quot;</td><td>null</td></tr><tr><td>&quot;Dr. Seuss: American Icon&quot;</td><td>&quot;Philip Nel takes a fascinating…</td><td>&quot;[&#x27;Philip Nel&#x27;]&quot;</td><td>&quot;http://books.google.com/books/…</td><td>&quot;http://books.google.nl/books?i…</td><td>&quot;A&amp;C Black&quot;</td><td>&quot;2005-01-01&quot;</td><td>&quot;http://books.google.nl/books?i…</td><td>&quot;[&#x27;Biography &amp; Autobiography&#x27;]&quot;</td><td>null</td></tr><tr><td>&quot;Wonderful Worship in Smaller C…</td><td>&quot;This resource includes twelve …</td><td>&quot;[&#x27;David R. Ray&#x27;]&quot;</td><td>&quot;http://books.google.com/books/…</td><td>&quot;http://books.google.nl/books?i…</td><td>null</td><td>&quot;2000&quot;</td><td>&quot;http://books.google.nl/books?i…</td><td>&quot;[&#x27;Religion&#x27;]&quot;</td><td>null</td></tr><tr><td>&quot;Whispers of the Wicked Saints&quot;</td><td>&quot;Julia Thomas finds her life sp…</td><td>&quot;[&#x27;Veronica Haddon&#x27;]&quot;</td><td>&quot;http://books.google.com/books/…</td><td>&quot;http://books.google.nl/books?i…</td><td>&quot;iUniverse&quot;</td><td>&quot;2005-02&quot;</td><td>&quot;http://books.google.nl/books?i…</td><td>&quot;[&#x27;Fiction&#x27;]&quot;</td><td>null</td></tr><tr><td>&quot;Nation Dance: Religion, Identi…</td><td>null</td><td>&quot;[&#x27;Edward Long&#x27;]&quot;</td><td>null</td><td>&quot;http://books.google.nl/books?i…</td><td>null</td><td>&quot;2003-03-01&quot;</td><td>&quot;http://books.google.nl/books?i…</td><td>null</td><td>null</td></tr></tbody></table></div>"
      ],
      "text/plain": [
       "shape: (5, 10)\n",
       "┌───────────┬───────────┬───────────┬───────────┬───┬───────────┬───────────┬───────────┬──────────┐\n",
       "│ Title     ┆ descripti ┆ authors   ┆ image     ┆ … ┆ published ┆ infoLink  ┆ categorie ┆ ratingsC │\n",
       "│ ---       ┆ on        ┆ ---       ┆ ---       ┆   ┆ Date      ┆ ---       ┆ s         ┆ ount     │\n",
       "│ str       ┆ ---       ┆ str       ┆ str       ┆   ┆ ---       ┆ str       ┆ ---       ┆ ---      │\n",
       "│           ┆ str       ┆           ┆           ┆   ┆ str       ┆           ┆ str       ┆ f64      │\n",
       "╞═══════════╪═══════════╪═══════════╪═══════════╪═══╪═══════════╪═══════════╪═══════════╪══════════╡\n",
       "│ Its Only  ┆ null      ┆ ['Julie   ┆ http://bo ┆ … ┆ 1996      ┆ http://bo ┆ ['Comics  ┆ null     │\n",
       "│ Art If    ┆           ┆ Strain']  ┆ oks.googl ┆   ┆           ┆ oks.googl ┆ & Graphic ┆          │\n",
       "│ Its Well  ┆           ┆           ┆ e.com/boo ┆   ┆           ┆ e.nl/book ┆ Novels']  ┆          │\n",
       "│ Hung!     ┆           ┆           ┆ ks/…      ┆   ┆           ┆ s?i…      ┆           ┆          │\n",
       "│ Dr.       ┆ Philip    ┆ ['Philip  ┆ http://bo ┆ … ┆ 2005-01-0 ┆ http://bo ┆ ['Biograp ┆ null     │\n",
       "│ Seuss:    ┆ Nel takes ┆ Nel']     ┆ oks.googl ┆   ┆ 1         ┆ oks.googl ┆ hy & Auto ┆          │\n",
       "│ American  ┆ a fascina ┆           ┆ e.com/boo ┆   ┆           ┆ e.nl/book ┆ biography ┆          │\n",
       "│ Icon      ┆ ting…     ┆           ┆ ks/…      ┆   ┆           ┆ s?i…      ┆ ']        ┆          │\n",
       "│ Wonderful ┆ This      ┆ ['David   ┆ http://bo ┆ … ┆ 2000      ┆ http://bo ┆ ['Religio ┆ null     │\n",
       "│ Worship   ┆ resource  ┆ R. Ray']  ┆ oks.googl ┆   ┆           ┆ oks.googl ┆ n']       ┆          │\n",
       "│ in        ┆ includes  ┆           ┆ e.com/boo ┆   ┆           ┆ e.nl/book ┆           ┆          │\n",
       "│ Smaller   ┆ twelve …  ┆           ┆ ks/…      ┆   ┆           ┆ s?i…      ┆           ┆          │\n",
       "│ C…        ┆           ┆           ┆           ┆   ┆           ┆           ┆           ┆          │\n",
       "│ Whispers  ┆ Julia     ┆ ['Veronic ┆ http://bo ┆ … ┆ 2005-02   ┆ http://bo ┆ ['Fiction ┆ null     │\n",
       "│ of the    ┆ Thomas    ┆ a         ┆ oks.googl ┆   ┆           ┆ oks.googl ┆ ']        ┆          │\n",
       "│ Wicked    ┆ finds her ┆ Haddon']  ┆ e.com/boo ┆   ┆           ┆ e.nl/book ┆           ┆          │\n",
       "│ Saints    ┆ life sp…  ┆           ┆ ks/…      ┆   ┆           ┆ s?i…      ┆           ┆          │\n",
       "│ Nation    ┆ null      ┆ ['Edward  ┆ null      ┆ … ┆ 2003-03-0 ┆ http://bo ┆ null      ┆ null     │\n",
       "│ Dance:    ┆           ┆ Long']    ┆           ┆   ┆ 1         ┆ oks.googl ┆           ┆          │\n",
       "│ Religion, ┆           ┆           ┆           ┆   ┆           ┆ e.nl/book ┆           ┆          │\n",
       "│ Identi…   ┆           ┆           ┆           ┆   ┆           ┆ s?i…      ┆           ┆          │\n",
       "└───────────┴───────────┴───────────┴───────────┴───┴───────────┴───────────┴───────────┴──────────┘"
      ]
     },
     "execution_count": 4,
     "metadata": {},
     "output_type": "execute_result"
    }
   ],
   "source": [
    "# Display the first five rows of books_data\n",
    "books_data.head()"
   ]
  },
  {
   "cell_type": "code",
   "execution_count": 6,
   "metadata": {},
   "outputs": [
    {
     "data": {
      "text/html": [
       "<div><style>\n",
       ".dataframe > thead > tr,\n",
       ".dataframe > tbody > tr {\n",
       "  text-align: right;\n",
       "  white-space: pre-wrap;\n",
       "}\n",
       "</style>\n",
       "<small>shape: (5, 9)</small><table border=\"1\" class=\"dataframe\"><thead><tr><th>Id</th><th>Title</th><th>Price</th><th>User_id</th><th>profileName</th><th>score</th><th>time</th><th>summary</th><th>text</th></tr><tr><td>str</td><td>str</td><td>f64</td><td>str</td><td>str</td><td>f64</td><td>i64</td><td>str</td><td>str</td></tr></thead><tbody><tr><td>&quot;1882931173&quot;</td><td>&quot;Its Only Art If Its Well Hung!&quot;</td><td>null</td><td>&quot;AVCGYZL8FQQTD&quot;</td><td>&quot;Jim of Oz &quot;jim-of-oz&quot;&quot;</td><td>4.0</td><td>940636800</td><td>&quot;Nice collection of Julie Strai…</td><td>&quot;This is only for Julie Strain …</td></tr><tr><td>&quot;0826414346&quot;</td><td>&quot;Dr. Seuss: American Icon&quot;</td><td>null</td><td>&quot;A30TK6U7DNS82R&quot;</td><td>&quot;Kevin Killian&quot;</td><td>5.0</td><td>1095724800</td><td>&quot;Really Enjoyed It&quot;</td><td>&quot;I don&#x27;t care much for Dr. Seus…</td></tr><tr><td>&quot;0826414346&quot;</td><td>&quot;Dr. Seuss: American Icon&quot;</td><td>null</td><td>&quot;A3UH4UZ4RSVO82&quot;</td><td>&quot;John Granger&quot;</td><td>5.0</td><td>1078790400</td><td>&quot;Essential for every personal a…</td><td>&quot;If people become the books the…</td></tr><tr><td>&quot;0826414346&quot;</td><td>&quot;Dr. Seuss: American Icon&quot;</td><td>null</td><td>&quot;A2MVUWT453QH61&quot;</td><td>&quot;Roy E. Perry &quot;amateur philosop…</td><td>4.0</td><td>1090713600</td><td>&quot;Phlip Nel gives silly Seuss a …</td><td>&quot;Theodore Seuss Geisel (1904-19…</td></tr><tr><td>&quot;0826414346&quot;</td><td>&quot;Dr. Seuss: American Icon&quot;</td><td>null</td><td>&quot;A22X4XUPKF66MR&quot;</td><td>&quot;D. H. Richards &quot;ninthwavestore…</td><td>4.0</td><td>1107993600</td><td>&quot;Good academic overview&quot;</td><td>&quot;Philip Nel - Dr. Seuss: Americ…</td></tr></tbody></table></div>"
      ],
      "text/plain": [
       "shape: (5, 9)\n",
       "┌────────────┬─────────────┬───────┬────────────┬───┬───────┬────────────┬────────────┬────────────┐\n",
       "│ Id         ┆ Title       ┆ Price ┆ User_id    ┆ … ┆ score ┆ time       ┆ summary    ┆ text       │\n",
       "│ ---        ┆ ---         ┆ ---   ┆ ---        ┆   ┆ ---   ┆ ---        ┆ ---        ┆ ---        │\n",
       "│ str        ┆ str         ┆ f64   ┆ str        ┆   ┆ f64   ┆ i64        ┆ str        ┆ str        │\n",
       "╞════════════╪═════════════╪═══════╪════════════╪═══╪═══════╪════════════╪════════════╪════════════╡\n",
       "│ 1882931173 ┆ Its Only    ┆ null  ┆ AVCGYZL8FQ ┆ … ┆ 4.0   ┆ 940636800  ┆ Nice       ┆ This is    │\n",
       "│            ┆ Art If Its  ┆       ┆ QTD        ┆   ┆       ┆            ┆ collection ┆ only for   │\n",
       "│            ┆ Well Hung!  ┆       ┆            ┆   ┆       ┆            ┆ of Julie   ┆ Julie      │\n",
       "│            ┆             ┆       ┆            ┆   ┆       ┆            ┆ Strai…     ┆ Strain …   │\n",
       "│ 0826414346 ┆ Dr. Seuss:  ┆ null  ┆ A30TK6U7DN ┆ … ┆ 5.0   ┆ 1095724800 ┆ Really     ┆ I don't    │\n",
       "│            ┆ American    ┆       ┆ S82R       ┆   ┆       ┆            ┆ Enjoyed It ┆ care much  │\n",
       "│            ┆ Icon        ┆       ┆            ┆   ┆       ┆            ┆            ┆ for Dr.    │\n",
       "│            ┆             ┆       ┆            ┆   ┆       ┆            ┆            ┆ Seus…      │\n",
       "│ 0826414346 ┆ Dr. Seuss:  ┆ null  ┆ A3UH4UZ4RS ┆ … ┆ 5.0   ┆ 1078790400 ┆ Essential  ┆ If people  │\n",
       "│            ┆ American    ┆       ┆ VO82       ┆   ┆       ┆            ┆ for every  ┆ become the │\n",
       "│            ┆ Icon        ┆       ┆            ┆   ┆       ┆            ┆ personal   ┆ books the… │\n",
       "│            ┆             ┆       ┆            ┆   ┆       ┆            ┆ a…         ┆            │\n",
       "│ 0826414346 ┆ Dr. Seuss:  ┆ null  ┆ A2MVUWT453 ┆ … ┆ 4.0   ┆ 1090713600 ┆ Phlip Nel  ┆ Theodore   │\n",
       "│            ┆ American    ┆       ┆ QH61       ┆   ┆       ┆            ┆ gives      ┆ Seuss      │\n",
       "│            ┆ Icon        ┆       ┆            ┆   ┆       ┆            ┆ silly      ┆ Geisel     │\n",
       "│            ┆             ┆       ┆            ┆   ┆       ┆            ┆ Seuss a …  ┆ (1904-19…  │\n",
       "│ 0826414346 ┆ Dr. Seuss:  ┆ null  ┆ A22X4XUPKF ┆ … ┆ 4.0   ┆ 1107993600 ┆ Good       ┆ Philip Nel │\n",
       "│            ┆ American    ┆       ┆ 66MR       ┆   ┆       ┆            ┆ academic   ┆ - Dr.      │\n",
       "│            ┆ Icon        ┆       ┆            ┆   ┆       ┆            ┆ overview   ┆ Seuss:     │\n",
       "│            ┆             ┆       ┆            ┆   ┆       ┆            ┆            ┆ Americ…    │\n",
       "└────────────┴─────────────┴───────┴────────────┴───┴───────┴────────────┴────────────┴────────────┘"
      ]
     },
     "execution_count": 6,
     "metadata": {},
     "output_type": "execute_result"
    }
   ],
   "source": [
    "# Display the first five rows of books_rating\n",
    "books_rating.head()"
   ]
  },
  {
   "cell_type": "code",
   "execution_count": 59,
   "metadata": {},
   "outputs": [],
   "source": [
    "books_rating_test = books_rating.__copy__()"
   ]
  },
  {
   "cell_type": "code",
   "execution_count": 71,
   "metadata": {},
   "outputs": [],
   "source": [
    "books_data_test = books_data.__copy__()"
   ]
  },
  {
   "cell_type": "code",
   "execution_count": null,
   "metadata": {},
   "outputs": [],
   "source": [
    "# Convert the 'time' column from Unix timestamp to datetime format\n",
    "books_rating_test = books_rating_test.with_columns(\n",
    "    (pl.col(\"time\")* 1_000).cast(pl.Datetime(\"ms\")).alias(\"time\")\n",
    ")\n",
    "\n"
   ]
  },
  {
   "cell_type": "code",
   "execution_count": 62,
   "metadata": {},
   "outputs": [],
   "source": [
    "import polars as pl\n",
    "from src.config import DATA_DIR\n",
    "\n",
    "# Directory path for saving intermediate CSVs\n",
    "intermediate_dir = DATA_DIR / \"intermediate\"\n",
    "\n",
    "def convert_time_column(df):\n",
    "    \"\"\"Converts the 'time' column from Unix timestamp (seconds) to datetime format (milliseconds).\"\"\"\n",
    "    return df.with_columns(\n",
    "        (pl.col(\"time\") * 1_000).cast(pl.Datetime(\"ms\")).alias(\"time\")\n",
    "    )\n",
    "\n",
    "def get_unique_books(df):\n",
    "    \"\"\"Returns a DataFrame with unique Id and Title values without nulls.\"\"\"\n",
    "    unique_books = df.filter(\n",
    "        pl.col(\"Id\").is_not_null() & pl.col(\"Title\").is_not_null()\n",
    "    ).select([\"Id\", \"Title\"]).unique()\n",
    "    return unique_books\n",
    "\n",
    "def get_unique_users(df):\n",
    "    \"\"\"Returns a DataFrame with unique User_id and profileName values without nulls.\"\"\"\n",
    "    unique_users = df.filter(\n",
    "        pl.col(\"User_id\").is_not_null() & pl.col(\"profileName\").is_not_null()\n",
    "    ).select([\"User_id\", \"profileName\"]).unique()\n",
    "    return unique_users\n",
    "\n",
    "def get_reviews(df):\n",
    "    \"\"\"Returns a DataFrame with selected review columns, excluding 'Price'.\"\"\"\n",
    "    reviews = df.select([\"Title\", \"User_id\", \"score\", \"time\", \"summary\", \"text\"]).filter(\n",
    "        pl.col(\"Title\").is_not_null()\n",
    "    )\n",
    "    return reviews\n"
   ]
  },
  {
   "cell_type": "code",
   "execution_count": 68,
   "metadata": {},
   "outputs": [],
   "source": [
    "# Ensure the intermediate directory exists\n",
    "intermediate_dir.mkdir(parents=True, exist_ok=True)"
   ]
  },
  {
   "cell_type": "code",
   "execution_count": 63,
   "metadata": {},
   "outputs": [],
   "source": [
    "# Apply the transformation functions\n",
    "books_rating_test = convert_time_column(books_rating)\n",
    "unique_books = get_unique_books(books_rating_test)\n",
    "unique_users = get_unique_users(books_rating_test)\n",
    "reviews = get_reviews(books_rating_test)"
   ]
  },
  {
   "cell_type": "code",
   "execution_count": 65,
   "metadata": {},
   "outputs": [
    {
     "data": {
      "text/html": [
       "<div><style>\n",
       ".dataframe > thead > tr,\n",
       ".dataframe > tbody > tr {\n",
       "  text-align: right;\n",
       "  white-space: pre-wrap;\n",
       "}\n",
       "</style>\n",
       "<small>shape: (221_989, 2)</small><table border=\"1\" class=\"dataframe\"><thead><tr><th>Id</th><th>Title</th></tr><tr><td>str</td><td>str</td></tr></thead><tbody><tr><td>&quot;0876044410&quot;</td><td>&quot;Edgar Cayce on Healing Foods f…</td></tr><tr><td>&quot;0820306940&quot;</td><td>&quot;The Moon Seen As a Slice of Pi…</td></tr><tr><td>&quot;082174898X&quot;</td><td>&quot;Apache Heartsong (Zebra Lovegr…</td></tr><tr><td>&quot;B000NQLP7I&quot;</td><td>&quot;A HAUNTED WOMAN&quot;</td></tr><tr><td>&quot;0380009307&quot;</td><td>&quot;Fox Running&quot;</td></tr><tr><td>&hellip;</td><td>&hellip;</td></tr><tr><td>&quot;0810933144&quot;</td><td>&quot;Festival in My Heart: Poems by…</td></tr><tr><td>&quot;B0007EPRMK&quot;</td><td>&quot;Syrian Yankee&quot;</td></tr><tr><td>&quot;B000FC1ULQ&quot;</td><td>&quot;Father Brown Omnibus&quot;</td></tr><tr><td>&quot;0877549354&quot;</td><td>&quot;William Shakespeare&#x27;s Othello …</td></tr><tr><td>&quot;0890817332&quot;</td><td>&quot;The Facts on Jehovah&#x27;s Witness…</td></tr></tbody></table></div>"
      ],
      "text/plain": [
       "shape: (221_989, 2)\n",
       "┌────────────┬─────────────────────────────────┐\n",
       "│ Id         ┆ Title                           │\n",
       "│ ---        ┆ ---                             │\n",
       "│ str        ┆ str                             │\n",
       "╞════════════╪═════════════════════════════════╡\n",
       "│ 0876044410 ┆ Edgar Cayce on Healing Foods f… │\n",
       "│ 0820306940 ┆ The Moon Seen As a Slice of Pi… │\n",
       "│ 082174898X ┆ Apache Heartsong (Zebra Lovegr… │\n",
       "│ B000NQLP7I ┆ A HAUNTED WOMAN                 │\n",
       "│ 0380009307 ┆ Fox Running                     │\n",
       "│ …          ┆ …                               │\n",
       "│ 0810933144 ┆ Festival in My Heart: Poems by… │\n",
       "│ B0007EPRMK ┆ Syrian Yankee                   │\n",
       "│ B000FC1ULQ ┆ Father Brown Omnibus            │\n",
       "│ 0877549354 ┆ William Shakespeare's Othello … │\n",
       "│ 0890817332 ┆ The Facts on Jehovah's Witness… │\n",
       "└────────────┴─────────────────────────────────┘"
      ]
     },
     "execution_count": 65,
     "metadata": {},
     "output_type": "execute_result"
    }
   ],
   "source": [
    "unique_books"
   ]
  },
  {
   "cell_type": "code",
   "execution_count": 66,
   "metadata": {},
   "outputs": [
    {
     "data": {
      "text/html": [
       "<div><style>\n",
       ".dataframe > thead > tr,\n",
       ".dataframe > tbody > tr {\n",
       "  text-align: right;\n",
       "  white-space: pre-wrap;\n",
       "}\n",
       "</style>\n",
       "<small>shape: (1_009_311, 2)</small><table border=\"1\" class=\"dataframe\"><thead><tr><th>User_id</th><th>profileName</th></tr><tr><td>str</td><td>str</td></tr></thead><tbody><tr><td>&quot;A1VD926XG5MVQ2&quot;</td><td>&quot;Timothy Lancelot&quot;</td></tr><tr><td>&quot;A11QOAP5RD5XQS&quot;</td><td>&quot;Jon P Patterson&quot;</td></tr><tr><td>&quot;A119GY9GR6UVIY&quot;</td><td>&quot;Michelle Argyropoulos&quot;</td></tr><tr><td>&quot;A1HOA9HZ5CQ72N&quot;</td><td>&quot;nt&quot;</td></tr><tr><td>&quot;AXVTXJOKZRD8M&quot;</td><td>&quot;Ana Laura Lopez&quot;</td></tr><tr><td>&hellip;</td><td>&hellip;</td></tr><tr><td>&quot;A2UDDI9VLDLORO&quot;</td><td>&quot;&quot;zenta&quot;&quot;</td></tr><tr><td>&quot;A2DJZH3C1J9F5A&quot;</td><td>&quot;Bing Lu&quot;</td></tr><tr><td>&quot;A1PPXKQOEDELFU&quot;</td><td>&quot;Corina James&quot;</td></tr><tr><td>&quot;A39GKM8W1KSRHY&quot;</td><td>&quot;J. Hart&quot;</td></tr><tr><td>&quot;A27D8MRL438SIF&quot;</td><td>&quot;&quot;apisano6&quot;&quot;</td></tr></tbody></table></div>"
      ],
      "text/plain": [
       "shape: (1_009_311, 2)\n",
       "┌────────────────┬───────────────────────┐\n",
       "│ User_id        ┆ profileName           │\n",
       "│ ---            ┆ ---                   │\n",
       "│ str            ┆ str                   │\n",
       "╞════════════════╪═══════════════════════╡\n",
       "│ A1VD926XG5MVQ2 ┆ Timothy Lancelot      │\n",
       "│ A11QOAP5RD5XQS ┆ Jon P Patterson       │\n",
       "│ A119GY9GR6UVIY ┆ Michelle Argyropoulos │\n",
       "│ A1HOA9HZ5CQ72N ┆ nt                    │\n",
       "│ AXVTXJOKZRD8M  ┆ Ana Laura Lopez       │\n",
       "│ …              ┆ …                     │\n",
       "│ A2UDDI9VLDLORO ┆ \"zenta\"               │\n",
       "│ A2DJZH3C1J9F5A ┆ Bing Lu               │\n",
       "│ A1PPXKQOEDELFU ┆ Corina James          │\n",
       "│ A39GKM8W1KSRHY ┆ J. Hart               │\n",
       "│ A27D8MRL438SIF ┆ \"apisano6\"            │\n",
       "└────────────────┴───────────────────────┘"
      ]
     },
     "execution_count": 66,
     "metadata": {},
     "output_type": "execute_result"
    }
   ],
   "source": [
    "unique_users"
   ]
  },
  {
   "cell_type": "code",
   "execution_count": 64,
   "metadata": {},
   "outputs": [
    {
     "data": {
      "text/html": [
       "<div><style>\n",
       ".dataframe > thead > tr,\n",
       ".dataframe > tbody > tr {\n",
       "  text-align: right;\n",
       "  white-space: pre-wrap;\n",
       "}\n",
       "</style>\n",
       "<small>shape: (2_999_792, 6)</small><table border=\"1\" class=\"dataframe\"><thead><tr><th>Title</th><th>User_id</th><th>score</th><th>time</th><th>summary</th><th>text</th></tr><tr><td>str</td><td>str</td><td>f64</td><td>datetime[ms]</td><td>str</td><td>str</td></tr></thead><tbody><tr><td>&quot;Its Only Art If Its Well Hung!&quot;</td><td>&quot;AVCGYZL8FQQTD&quot;</td><td>4.0</td><td>1999-10-23 00:00:00</td><td>&quot;Nice collection of Julie Strai…</td><td>&quot;This is only for Julie Strain …</td></tr><tr><td>&quot;Dr. Seuss: American Icon&quot;</td><td>&quot;A30TK6U7DNS82R&quot;</td><td>5.0</td><td>2004-09-21 00:00:00</td><td>&quot;Really Enjoyed It&quot;</td><td>&quot;I don&#x27;t care much for Dr. Seus…</td></tr><tr><td>&quot;Dr. Seuss: American Icon&quot;</td><td>&quot;A3UH4UZ4RSVO82&quot;</td><td>5.0</td><td>2004-03-09 00:00:00</td><td>&quot;Essential for every personal a…</td><td>&quot;If people become the books the…</td></tr><tr><td>&quot;Dr. Seuss: American Icon&quot;</td><td>&quot;A2MVUWT453QH61&quot;</td><td>4.0</td><td>2004-07-25 00:00:00</td><td>&quot;Phlip Nel gives silly Seuss a …</td><td>&quot;Theodore Seuss Geisel (1904-19…</td></tr><tr><td>&quot;Dr. Seuss: American Icon&quot;</td><td>&quot;A22X4XUPKF66MR&quot;</td><td>4.0</td><td>2005-02-10 00:00:00</td><td>&quot;Good academic overview&quot;</td><td>&quot;Philip Nel - Dr. Seuss: Americ…</td></tr><tr><td>&hellip;</td><td>&hellip;</td><td>&hellip;</td><td>&hellip;</td><td>&hellip;</td><td>&hellip;</td></tr><tr><td>&quot;The Idea of History&quot;</td><td>null</td><td>4.0</td><td>1999-09-18 00:00:00</td><td>&quot;Difficult&quot;</td><td>&quot;This is an extremely difficult…</td></tr><tr><td>&quot;The Idea of History&quot;</td><td>&quot;A1SMUB9ASL5L9Y&quot;</td><td>4.0</td><td>2012-03-14 00:00:00</td><td>&quot;Quite good and ahead of its ti…</td><td>&quot;This is pretty interesting. Co…</td></tr><tr><td>&quot;The Idea of History&quot;</td><td>&quot;A2AQMEKZKK5EE4&quot;</td><td>4.0</td><td>2007-05-27 00:00:00</td><td>&quot;Easier reads of those not well…</td><td>&quot;This is a good book but very e…</td></tr><tr><td>&quot;The Idea of History&quot;</td><td>&quot;A18SQGYBKS852K&quot;</td><td>5.0</td><td>2006-11-09 00:00:00</td><td>&quot;Yes, it is cheaper than the Un…</td><td>&quot;My daughter, a freshman at Ind…</td></tr><tr><td>&quot;The Idea of History&quot;</td><td>null</td><td>1.0</td><td>1998-09-10 00:00:00</td><td>&quot;Collingwood&#x27;s ideas sink in a …</td><td>&quot;The guy has a few good ideas b…</td></tr></tbody></table></div>"
      ],
      "text/plain": [
       "shape: (2_999_792, 6)\n",
       "┌───────────────────┬────────────────┬───────┬──────────────┬───────────────────┬──────────────────┐\n",
       "│ Title             ┆ User_id        ┆ score ┆ time         ┆ summary           ┆ text             │\n",
       "│ ---               ┆ ---            ┆ ---   ┆ ---          ┆ ---               ┆ ---              │\n",
       "│ str               ┆ str            ┆ f64   ┆ datetime[ms] ┆ str               ┆ str              │\n",
       "╞═══════════════════╪════════════════╪═══════╪══════════════╪═══════════════════╪══════════════════╡\n",
       "│ Its Only Art If   ┆ AVCGYZL8FQQTD  ┆ 4.0   ┆ 1999-10-23   ┆ Nice collection   ┆ This is only for │\n",
       "│ Its Well Hung!    ┆                ┆       ┆ 00:00:00     ┆ of Julie Strai…   ┆ Julie Strain …   │\n",
       "│ Dr. Seuss:        ┆ A30TK6U7DNS82R ┆ 5.0   ┆ 2004-09-21   ┆ Really Enjoyed It ┆ I don't care     │\n",
       "│ American Icon     ┆                ┆       ┆ 00:00:00     ┆                   ┆ much for Dr.     │\n",
       "│                   ┆                ┆       ┆              ┆                   ┆ Seus…            │\n",
       "│ Dr. Seuss:        ┆ A3UH4UZ4RSVO82 ┆ 5.0   ┆ 2004-03-09   ┆ Essential for     ┆ If people become │\n",
       "│ American Icon     ┆                ┆       ┆ 00:00:00     ┆ every personal a… ┆ the books the…   │\n",
       "│ Dr. Seuss:        ┆ A2MVUWT453QH61 ┆ 4.0   ┆ 2004-07-25   ┆ Phlip Nel gives   ┆ Theodore Seuss   │\n",
       "│ American Icon     ┆                ┆       ┆ 00:00:00     ┆ silly Seuss a …   ┆ Geisel (1904-19… │\n",
       "│ Dr. Seuss:        ┆ A22X4XUPKF66MR ┆ 4.0   ┆ 2005-02-10   ┆ Good academic     ┆ Philip Nel - Dr. │\n",
       "│ American Icon     ┆                ┆       ┆ 00:00:00     ┆ overview          ┆ Seuss: Americ…   │\n",
       "│ …                 ┆ …              ┆ …     ┆ …            ┆ …                 ┆ …                │\n",
       "│ The Idea of       ┆ null           ┆ 4.0   ┆ 1999-09-18   ┆ Difficult         ┆ This is an       │\n",
       "│ History           ┆                ┆       ┆ 00:00:00     ┆                   ┆ extremely        │\n",
       "│                   ┆                ┆       ┆              ┆                   ┆ difficult…       │\n",
       "│ The Idea of       ┆ A1SMUB9ASL5L9Y ┆ 4.0   ┆ 2012-03-14   ┆ Quite good and    ┆ This is pretty   │\n",
       "│ History           ┆                ┆       ┆ 00:00:00     ┆ ahead of its ti…  ┆ interesting. Co… │\n",
       "│ The Idea of       ┆ A2AQMEKZKK5EE4 ┆ 4.0   ┆ 2007-05-27   ┆ Easier reads of   ┆ This is a good   │\n",
       "│ History           ┆                ┆       ┆ 00:00:00     ┆ those not well…   ┆ book but very e… │\n",
       "│ The Idea of       ┆ A18SQGYBKS852K ┆ 5.0   ┆ 2006-11-09   ┆ Yes, it is        ┆ My daughter, a   │\n",
       "│ History           ┆                ┆       ┆ 00:00:00     ┆ cheaper than the  ┆ freshman at Ind… │\n",
       "│                   ┆                ┆       ┆              ┆ Un…               ┆                  │\n",
       "│ The Idea of       ┆ null           ┆ 1.0   ┆ 1998-09-10   ┆ Collingwood's     ┆ The guy has a    │\n",
       "│ History           ┆                ┆       ┆ 00:00:00     ┆ ideas sink in a … ┆ few good ideas   │\n",
       "│                   ┆                ┆       ┆              ┆                   ┆ b…               │\n",
       "└───────────────────┴────────────────┴───────┴──────────────┴───────────────────┴──────────────────┘"
      ]
     },
     "execution_count": 64,
     "metadata": {},
     "output_type": "execute_result"
    }
   ],
   "source": [
    "reviews"
   ]
  },
  {
   "cell_type": "code",
   "execution_count": 70,
   "metadata": {},
   "outputs": [],
   "source": [
    "from src.utils import save_to_csv\n",
    "# Save to intermediate folder\n",
    "save_to_csv(unique_books, intermediate_dir / \"rating_unique_books.csv\")\n",
    "save_to_csv(unique_users, intermediate_dir / \"rating_unique_users.csv\")\n",
    "save_to_csv(reviews, intermediate_dir / \"rating_reviews.csv\")"
   ]
  },
  {
   "cell_type": "code",
   "execution_count": 72,
   "metadata": {},
   "outputs": [],
   "source": [
    "def extract_books_outside_info(df):\n",
    "    \"\"\"\n",
    "    Extracts columns related to external information about books.\n",
    "    \n",
    "    Parameters:\n",
    "        df (pl.DataFrame): Input DataFrame containing book data.\n",
    "        \n",
    "    Returns:\n",
    "        pl.DataFrame: DataFrame with Title, image, previewLink, and infoLink columns.\n",
    "    \"\"\"\n",
    "    return df.select([\"Title\", \"image\", \"previewLink\", \"infoLink\"])\n",
    "\n",
    "def extract_books_info(df):\n",
    "    \"\"\"\n",
    "    Extracts core descriptive columns for books.\n",
    "    \n",
    "    Parameters:\n",
    "        df (pl.DataFrame): Input DataFrame containing book data.\n",
    "        \n",
    "    Returns:\n",
    "        pl.DataFrame: DataFrame with Title, description, authors, publisher, publishedDate, and categories columns.\n",
    "    \"\"\"\n",
    "    return df.select([\"Title\", \"description\", \"authors\", \"publisher\", \"publishedDate\", \"categories\"])\n"
   ]
  },
  {
   "cell_type": "code",
   "execution_count": 73,
   "metadata": {},
   "outputs": [],
   "source": [
    "# Extract `books_outside_info` and `books_info` DataFrames\n",
    "books_outside_info = extract_books_outside_info(books_data_test)\n",
    "books_info = extract_books_info(books_data_test)"
   ]
  },
  {
   "cell_type": "code",
   "execution_count": 74,
   "metadata": {},
   "outputs": [],
   "source": [
    "save_to_csv(books_outside_info, intermediate_dir / \"books_outside_info.csv\")\n",
    "save_to_csv(books_info, intermediate_dir / \"books_info.csv\")"
   ]
  },
  {
   "cell_type": "code",
   "execution_count": 61,
   "metadata": {},
   "outputs": [
    {
     "data": {
      "text/html": [
       "<div><style>\n",
       ".dataframe > thead > tr,\n",
       ".dataframe > tbody > tr {\n",
       "  text-align: right;\n",
       "  white-space: pre-wrap;\n",
       "}\n",
       "</style>\n",
       "<small>shape: (5, 9)</small><table border=\"1\" class=\"dataframe\"><thead><tr><th>Id</th><th>Title</th><th>Price</th><th>User_id</th><th>profileName</th><th>score</th><th>time</th><th>summary</th><th>text</th></tr><tr><td>str</td><td>str</td><td>f64</td><td>str</td><td>str</td><td>f64</td><td>datetime[ms]</td><td>str</td><td>str</td></tr></thead><tbody><tr><td>&quot;1882931173&quot;</td><td>&quot;Its Only Art If Its Well Hung!&quot;</td><td>null</td><td>&quot;AVCGYZL8FQQTD&quot;</td><td>&quot;Jim of Oz &quot;jim-of-oz&quot;&quot;</td><td>4.0</td><td>1999-10-23 00:00:00</td><td>&quot;Nice collection of Julie Strai…</td><td>&quot;This is only for Julie Strain …</td></tr><tr><td>&quot;0826414346&quot;</td><td>&quot;Dr. Seuss: American Icon&quot;</td><td>null</td><td>&quot;A30TK6U7DNS82R&quot;</td><td>&quot;Kevin Killian&quot;</td><td>5.0</td><td>2004-09-21 00:00:00</td><td>&quot;Really Enjoyed It&quot;</td><td>&quot;I don&#x27;t care much for Dr. Seus…</td></tr><tr><td>&quot;0826414346&quot;</td><td>&quot;Dr. Seuss: American Icon&quot;</td><td>null</td><td>&quot;A3UH4UZ4RSVO82&quot;</td><td>&quot;John Granger&quot;</td><td>5.0</td><td>2004-03-09 00:00:00</td><td>&quot;Essential for every personal a…</td><td>&quot;If people become the books the…</td></tr><tr><td>&quot;0826414346&quot;</td><td>&quot;Dr. Seuss: American Icon&quot;</td><td>null</td><td>&quot;A2MVUWT453QH61&quot;</td><td>&quot;Roy E. Perry &quot;amateur philosop…</td><td>4.0</td><td>2004-07-25 00:00:00</td><td>&quot;Phlip Nel gives silly Seuss a …</td><td>&quot;Theodore Seuss Geisel (1904-19…</td></tr><tr><td>&quot;0826414346&quot;</td><td>&quot;Dr. Seuss: American Icon&quot;</td><td>null</td><td>&quot;A22X4XUPKF66MR&quot;</td><td>&quot;D. H. Richards &quot;ninthwavestore…</td><td>4.0</td><td>2005-02-10 00:00:00</td><td>&quot;Good academic overview&quot;</td><td>&quot;Philip Nel - Dr. Seuss: Americ…</td></tr></tbody></table></div>"
      ],
      "text/plain": [
       "shape: (5, 9)\n",
       "┌────────────┬─────────────┬───────┬────────────┬───┬───────┬────────────┬────────────┬────────────┐\n",
       "│ Id         ┆ Title       ┆ Price ┆ User_id    ┆ … ┆ score ┆ time       ┆ summary    ┆ text       │\n",
       "│ ---        ┆ ---         ┆ ---   ┆ ---        ┆   ┆ ---   ┆ ---        ┆ ---        ┆ ---        │\n",
       "│ str        ┆ str         ┆ f64   ┆ str        ┆   ┆ f64   ┆ datetime[m ┆ str        ┆ str        │\n",
       "│            ┆             ┆       ┆            ┆   ┆       ┆ s]         ┆            ┆            │\n",
       "╞════════════╪═════════════╪═══════╪════════════╪═══╪═══════╪════════════╪════════════╪════════════╡\n",
       "│ 1882931173 ┆ Its Only    ┆ null  ┆ AVCGYZL8FQ ┆ … ┆ 4.0   ┆ 1999-10-23 ┆ Nice       ┆ This is    │\n",
       "│            ┆ Art If Its  ┆       ┆ QTD        ┆   ┆       ┆ 00:00:00   ┆ collection ┆ only for   │\n",
       "│            ┆ Well Hung!  ┆       ┆            ┆   ┆       ┆            ┆ of Julie   ┆ Julie      │\n",
       "│            ┆             ┆       ┆            ┆   ┆       ┆            ┆ Strai…     ┆ Strain …   │\n",
       "│ 0826414346 ┆ Dr. Seuss:  ┆ null  ┆ A30TK6U7DN ┆ … ┆ 5.0   ┆ 2004-09-21 ┆ Really     ┆ I don't    │\n",
       "│            ┆ American    ┆       ┆ S82R       ┆   ┆       ┆ 00:00:00   ┆ Enjoyed It ┆ care much  │\n",
       "│            ┆ Icon        ┆       ┆            ┆   ┆       ┆            ┆            ┆ for Dr.    │\n",
       "│            ┆             ┆       ┆            ┆   ┆       ┆            ┆            ┆ Seus…      │\n",
       "│ 0826414346 ┆ Dr. Seuss:  ┆ null  ┆ A3UH4UZ4RS ┆ … ┆ 5.0   ┆ 2004-03-09 ┆ Essential  ┆ If people  │\n",
       "│            ┆ American    ┆       ┆ VO82       ┆   ┆       ┆ 00:00:00   ┆ for every  ┆ become the │\n",
       "│            ┆ Icon        ┆       ┆            ┆   ┆       ┆            ┆ personal   ┆ books the… │\n",
       "│            ┆             ┆       ┆            ┆   ┆       ┆            ┆ a…         ┆            │\n",
       "│ 0826414346 ┆ Dr. Seuss:  ┆ null  ┆ A2MVUWT453 ┆ … ┆ 4.0   ┆ 2004-07-25 ┆ Phlip Nel  ┆ Theodore   │\n",
       "│            ┆ American    ┆       ┆ QH61       ┆   ┆       ┆ 00:00:00   ┆ gives      ┆ Seuss      │\n",
       "│            ┆ Icon        ┆       ┆            ┆   ┆       ┆            ┆ silly      ┆ Geisel     │\n",
       "│            ┆             ┆       ┆            ┆   ┆       ┆            ┆ Seuss a …  ┆ (1904-19…  │\n",
       "│ 0826414346 ┆ Dr. Seuss:  ┆ null  ┆ A22X4XUPKF ┆ … ┆ 4.0   ┆ 2005-02-10 ┆ Good       ┆ Philip Nel │\n",
       "│            ┆ American    ┆       ┆ 66MR       ┆   ┆       ┆ 00:00:00   ┆ academic   ┆ - Dr.      │\n",
       "│            ┆ Icon        ┆       ┆            ┆   ┆       ┆            ┆ overview   ┆ Seuss:     │\n",
       "│            ┆             ┆       ┆            ┆   ┆       ┆            ┆            ┆ Americ…    │\n",
       "└────────────┴─────────────┴───────┴────────────┴───┴───────┴────────────┴────────────┴────────────┘"
      ]
     },
     "execution_count": 61,
     "metadata": {},
     "output_type": "execute_result"
    }
   ],
   "source": [
    "books_rating_test.head()"
   ]
  },
  {
   "cell_type": "code",
   "execution_count": 6,
   "metadata": {},
   "outputs": [
    {
     "name": "stdout",
     "output_type": "stream",
     "text": [
      "Books Data Summary\n",
      "------------------\n",
      "Shape (rows, columns): (212404, 10)\n",
      "------------------\n"
     ]
    },
    {
     "data": {
      "text/html": [
       "<div><style>\n",
       ".dataframe > thead > tr,\n",
       ".dataframe > tbody > tr {\n",
       "  text-align: right;\n",
       "  white-space: pre-wrap;\n",
       "}\n",
       "</style>\n",
       "<small>shape: (9, 11)</small><table border=\"1\" class=\"dataframe\"><thead><tr><th>statistic</th><th>Title</th><th>description</th><th>authors</th><th>image</th><th>previewLink</th><th>publisher</th><th>publishedDate</th><th>infoLink</th><th>categories</th><th>ratingsCount</th></tr><tr><td>str</td><td>str</td><td>str</td><td>str</td><td>str</td><td>str</td><td>str</td><td>str</td><td>str</td><td>str</td><td>f64</td></tr></thead><tbody><tr><td>&quot;count&quot;</td><td>&quot;212403&quot;</td><td>&quot;143962&quot;</td><td>&quot;180991&quot;</td><td>&quot;160329&quot;</td><td>&quot;188568&quot;</td><td>&quot;136518&quot;</td><td>&quot;187099&quot;</td><td>&quot;188568&quot;</td><td>&quot;171205&quot;</td><td>49752.0</td></tr><tr><td>&quot;null_count&quot;</td><td>&quot;1&quot;</td><td>&quot;68442&quot;</td><td>&quot;31413&quot;</td><td>&quot;52075&quot;</td><td>&quot;23836&quot;</td><td>&quot;75886&quot;</td><td>&quot;25305&quot;</td><td>&quot;23836&quot;</td><td>&quot;41199&quot;</td><td>162652.0</td></tr><tr><td>&quot;mean&quot;</td><td>null</td><td>null</td><td>null</td><td>null</td><td>null</td><td>null</td><td>null</td><td>null</td><td>null</td><td>21.252975</td></tr><tr><td>&quot;std&quot;</td><td>null</td><td>null</td><td>null</td><td>null</td><td>null</td><td>null</td><td>null</td><td>null</td><td>null</td><td>201.340431</td></tr><tr><td>&quot;min&quot;</td><td>&quot;&quot; Film technique, &quot; and, &quot; Fil…</td><td>&quot;!! ALL NEW CAMPGROUND GUIDE CO…</td><td>&quot;[&quot;&#x27;Abd al-Samih Abu &#x27;Umar&quot;]&quot;</td><td>&quot;http://books.google.com/books/…</td><td>&quot;http://books.google.com/books?…</td><td>&quot;&quot;O&#x27;Reilly Media, Inc.&quot;&quot;</td><td>&quot;101-01-01&quot;</td><td>&quot;http://books.google.com/books?…</td><td>&quot;[&quot;&#x27;Abd al-Bah̄a, 1844-1921&quot;]&quot;</td><td>1.0</td></tr><tr><td>&quot;25%&quot;</td><td>null</td><td>null</td><td>null</td><td>null</td><td>null</td><td>null</td><td>null</td><td>null</td><td>null</td><td>1.0</td></tr><tr><td>&quot;50%&quot;</td><td>null</td><td>null</td><td>null</td><td>null</td><td>null</td><td>null</td><td>null</td><td>null</td><td>null</td><td>2.0</td></tr><tr><td>&quot;75%&quot;</td><td>null</td><td>null</td><td>null</td><td>null</td><td>null</td><td>null</td><td>null</td><td>null</td><td>null</td><td>5.0</td></tr><tr><td>&quot;max&quot;</td><td>&quot;you can do anything with crepe…</td><td>&quot;�Una novela llam�mosle existen…</td><td>&quot;[&#x27;편집부편&#x27;]&quot;</td><td>&quot;http://books.google.com/books/…</td><td>&quot;http://books.google.nl/books?i…</td><td>&quot;펜립&quot;</td><td>&quot;20??&quot;</td><td>&quot;https://play.google.com/store/…</td><td>&quot;[&#x27;Śaivism&#x27;]&quot;</td><td>4895.0</td></tr></tbody></table></div>"
      ],
      "text/plain": [
       "shape: (9, 11)\n",
       "┌───────────┬───────────┬───────────┬───────────┬───┬───────────┬───────────┬───────────┬──────────┐\n",
       "│ statistic ┆ Title     ┆ descripti ┆ authors   ┆ … ┆ published ┆ infoLink  ┆ categorie ┆ ratingsC │\n",
       "│ ---       ┆ ---       ┆ on        ┆ ---       ┆   ┆ Date      ┆ ---       ┆ s         ┆ ount     │\n",
       "│ str       ┆ str       ┆ ---       ┆ str       ┆   ┆ ---       ┆ str       ┆ ---       ┆ ---      │\n",
       "│           ┆           ┆ str       ┆           ┆   ┆ str       ┆           ┆ str       ┆ f64      │\n",
       "╞═══════════╪═══════════╪═══════════╪═══════════╪═══╪═══════════╪═══════════╪═══════════╪══════════╡\n",
       "│ count     ┆ 212403    ┆ 143962    ┆ 180991    ┆ … ┆ 187099    ┆ 188568    ┆ 171205    ┆ 49752.0  │\n",
       "│ null_coun ┆ 1         ┆ 68442     ┆ 31413     ┆ … ┆ 25305     ┆ 23836     ┆ 41199     ┆ 162652.0 │\n",
       "│ t         ┆           ┆           ┆           ┆   ┆           ┆           ┆           ┆          │\n",
       "│ mean      ┆ null      ┆ null      ┆ null      ┆ … ┆ null      ┆ null      ┆ null      ┆ 21.25297 │\n",
       "│           ┆           ┆           ┆           ┆   ┆           ┆           ┆           ┆ 5        │\n",
       "│ std       ┆ null      ┆ null      ┆ null      ┆ … ┆ null      ┆ null      ┆ null      ┆ 201.3404 │\n",
       "│           ┆           ┆           ┆           ┆   ┆           ┆           ┆           ┆ 31       │\n",
       "│ min       ┆ \" Film    ┆ !! ALL    ┆ [\"'Abd    ┆ … ┆ 101-01-01 ┆ http://bo ┆ [\"'Abd    ┆ 1.0      │\n",
       "│           ┆ technique ┆ NEW CAMPG ┆ al-Samih  ┆   ┆           ┆ oks.googl ┆ al-Bah̄a,  ┆          │\n",
       "│           ┆ , \" and,  ┆ ROUND     ┆ Abu       ┆   ┆           ┆ e.com/boo ┆ 1844-1921 ┆          │\n",
       "│           ┆ \" Fil…    ┆ GUIDE CO… ┆ 'Umar\"]   ┆   ┆           ┆ ks?…      ┆ \"]        ┆          │\n",
       "│ 25%       ┆ null      ┆ null      ┆ null      ┆ … ┆ null      ┆ null      ┆ null      ┆ 1.0      │\n",
       "│ 50%       ┆ null      ┆ null      ┆ null      ┆ … ┆ null      ┆ null      ┆ null      ┆ 2.0      │\n",
       "│ 75%       ┆ null      ┆ null      ┆ null      ┆ … ┆ null      ┆ null      ┆ null      ┆ 5.0      │\n",
       "│ max       ┆ you can   ┆ �Una      ┆ ['편집부  ┆ … ┆ 20??      ┆ https://p ┆ ['Śaivism ┆ 4895.0   │\n",
       "│           ┆ do        ┆ novela    ┆ 편']      ┆   ┆           ┆ lay.googl ┆ ']        ┆          │\n",
       "│           ┆ anything  ┆ llam�mosl ┆           ┆   ┆           ┆ e.com/sto ┆           ┆          │\n",
       "│           ┆ with      ┆ e         ┆           ┆   ┆           ┆ re/…      ┆           ┆          │\n",
       "│           ┆ crepe…    ┆ existen…  ┆           ┆   ┆           ┆           ┆           ┆          │\n",
       "└───────────┴───────────┴───────────┴───────────┴───┴───────────┴───────────┴───────────┴──────────┘"
      ]
     },
     "execution_count": 6,
     "metadata": {},
     "output_type": "execute_result"
    }
   ],
   "source": [
    "# General information for the books_data dataset\n",
    "print(\"Books Data Summary\")\n",
    "print(\"------------------\")\n",
    "print(f\"Shape (rows, columns): {books_data.shape}\")\n",
    "print(\"------------------\")\n",
    "books_data.describe()  # Descriptive statistics for numerical columns"
   ]
  },
  {
   "cell_type": "code",
   "execution_count": 7,
   "metadata": {},
   "outputs": [
    {
     "name": "stdout",
     "output_type": "stream",
     "text": [
      "\n",
      "Books Rating Summary\n",
      "---------------------\n",
      "Shape (rows, columns): (3000000, 9)\n",
      "---------------------\n"
     ]
    },
    {
     "data": {
      "text/html": [
       "<div><style>\n",
       ".dataframe > thead > tr,\n",
       ".dataframe > tbody > tr {\n",
       "  text-align: right;\n",
       "  white-space: pre-wrap;\n",
       "}\n",
       "</style>\n",
       "<small>shape: (9, 10)</small><table border=\"1\" class=\"dataframe\"><thead><tr><th>statistic</th><th>Id</th><th>Title</th><th>Price</th><th>User_id</th><th>profileName</th><th>score</th><th>time</th><th>summary</th><th>text</th></tr><tr><td>str</td><td>str</td><td>str</td><td>f64</td><td>str</td><td>str</td><td>f64</td><td>f64</td><td>str</td><td>str</td></tr></thead><tbody><tr><td>&quot;count&quot;</td><td>&quot;3000000&quot;</td><td>&quot;2999792&quot;</td><td>481171.0</td><td>&quot;2438213&quot;</td><td>&quot;2438095&quot;</td><td>3e6</td><td>3e6</td><td>&quot;2999593&quot;</td><td>&quot;2999992&quot;</td></tr><tr><td>&quot;null_count&quot;</td><td>&quot;0&quot;</td><td>&quot;208&quot;</td><td>2.518829e6</td><td>&quot;561787&quot;</td><td>&quot;561905&quot;</td><td>0.0</td><td>0.0</td><td>&quot;407&quot;</td><td>&quot;8&quot;</td></tr><tr><td>&quot;mean&quot;</td><td>null</td><td>null</td><td>21.762656</td><td>null</td><td>null</td><td>4.215289</td><td>1.1323e9</td><td>null</td><td>null</td></tr><tr><td>&quot;std&quot;</td><td>null</td><td>null</td><td>26.206541</td><td>null</td><td>null</td><td>1.203054</td><td>1.4932e8</td><td>null</td><td>null</td></tr><tr><td>&quot;min&quot;</td><td>&quot;0001047604&quot;</td><td>&quot;&quot; Film technique, &quot; and, &quot; Fil…</td><td>1.0</td><td>&quot;A00109803PZJ91RLT7DPN&quot;</td><td>&quot;\u001a&quot;</td><td>1.0</td><td>-1.0</td><td>&quot;!&quot;</td><td>&quot;\u0011The Tao of Muhammad Ali\u0012 is t…</td></tr><tr><td>&quot;25%&quot;</td><td>null</td><td>null</td><td>10.78</td><td>null</td><td>null</td><td>4.0</td><td>9.999072e8</td><td>null</td><td>null</td></tr><tr><td>&quot;50%&quot;</td><td>null</td><td>null</td><td>14.93</td><td>null</td><td>null</td><td>5.0</td><td>1.1283e9</td><td>null</td><td>null</td></tr><tr><td>&quot;75%&quot;</td><td>null</td><td>null</td><td>23.95</td><td>null</td><td>null</td><td>5.0</td><td>1.2691e9</td><td>null</td><td>null</td></tr><tr><td>&quot;max&quot;</td><td>&quot;B0064P287I&quot;</td><td>&quot;you can do anything with crepe…</td><td>995.0</td><td>&quot;AZZZZW74AAX75&quot;</td><td>&quot;~~~~~~~&quot;</td><td>5.0</td><td>1.3624e9</td><td>&quot;~~~~~~~~~~~~~~~~~~~~~~~~~~&quot;</td><td>&quot;~~~~~~~~~~~~~~~~~~~~~~~~~~~~~~…</td></tr></tbody></table></div>"
      ],
      "text/plain": [
       "shape: (9, 10)\n",
       "┌───────────┬───────────┬───────────┬───────────┬───┬──────────┬───────────┬───────────┬───────────┐\n",
       "│ statistic ┆ Id        ┆ Title     ┆ Price     ┆ … ┆ score    ┆ time      ┆ summary   ┆ text      │\n",
       "│ ---       ┆ ---       ┆ ---       ┆ ---       ┆   ┆ ---      ┆ ---       ┆ ---       ┆ ---       │\n",
       "│ str       ┆ str       ┆ str       ┆ f64       ┆   ┆ f64      ┆ f64       ┆ str       ┆ str       │\n",
       "╞═══════════╪═══════════╪═══════════╪═══════════╪═══╪══════════╪═══════════╪═══════════╪═══════════╡\n",
       "│ count     ┆ 3000000   ┆ 2999792   ┆ 481171.0  ┆ … ┆ 3e6      ┆ 3e6       ┆ 2999593   ┆ 2999992   │\n",
       "│ null_coun ┆ 0         ┆ 208       ┆ 2.518829e ┆ … ┆ 0.0      ┆ 0.0       ┆ 407       ┆ 8         │\n",
       "│ t         ┆           ┆           ┆ 6         ┆   ┆          ┆           ┆           ┆           │\n",
       "│ mean      ┆ null      ┆ null      ┆ 21.762656 ┆ … ┆ 4.215289 ┆ 1.1323e9  ┆ null      ┆ null      │\n",
       "│ std       ┆ null      ┆ null      ┆ 26.206541 ┆ … ┆ 1.203054 ┆ 1.4932e8  ┆ null      ┆ null      │\n",
       "│ min       ┆ 000104760 ┆ \" Film    ┆ 1.0       ┆ … ┆ 1.0      ┆ -1.0      ┆ !         ┆ \u0011The Tao  │\n",
       "│           ┆ 4         ┆ technique ┆           ┆   ┆          ┆           ┆           ┆ of        │\n",
       "│           ┆           ┆ , \" and,  ┆           ┆   ┆          ┆           ┆           ┆ Muhammad  │\n",
       "│           ┆           ┆ \" Fil…    ┆           ┆   ┆          ┆           ┆           ┆ Ali\u0012 is   │\n",
       "│           ┆           ┆           ┆           ┆   ┆          ┆           ┆           ┆ t…        │\n",
       "│ 25%       ┆ null      ┆ null      ┆ 10.78     ┆ … ┆ 4.0      ┆ 9.999072e ┆ null      ┆ null      │\n",
       "│           ┆           ┆           ┆           ┆   ┆          ┆ 8         ┆           ┆           │\n",
       "│ 50%       ┆ null      ┆ null      ┆ 14.93     ┆ … ┆ 5.0      ┆ 1.1283e9  ┆ null      ┆ null      │\n",
       "│ 75%       ┆ null      ┆ null      ┆ 23.95     ┆ … ┆ 5.0      ┆ 1.2691e9  ┆ null      ┆ null      │\n",
       "│ max       ┆ B0064P287 ┆ you can   ┆ 995.0     ┆ … ┆ 5.0      ┆ 1.3624e9  ┆ ~~~~~~~~~ ┆ ~~~~~~~~~ │\n",
       "│           ┆ I         ┆ do        ┆           ┆   ┆          ┆           ┆ ~~~~~~~~~ ┆ ~~~~~~~~~ │\n",
       "│           ┆           ┆ anything  ┆           ┆   ┆          ┆           ┆ ~~~~~~~~  ┆ ~~~~~~~~~ │\n",
       "│           ┆           ┆ with      ┆           ┆   ┆          ┆           ┆           ┆ ~~~…      │\n",
       "│           ┆           ┆ crepe…    ┆           ┆   ┆          ┆           ┆           ┆           │\n",
       "└───────────┴───────────┴───────────┴───────────┴───┴──────────┴───────────┴───────────┴───────────┘"
      ]
     },
     "execution_count": 7,
     "metadata": {},
     "output_type": "execute_result"
    }
   ],
   "source": [
    "# General information for the books_rating dataset\n",
    "print(\"\\nBooks Rating Summary\")\n",
    "print(\"---------------------\")\n",
    "print(f\"Shape (rows, columns): {books_rating.shape}\")\n",
    "print(\"---------------------\")\n",
    "books_rating.describe()  # Descriptive statistics for numerical columns\n"
   ]
  },
  {
   "cell_type": "markdown",
   "metadata": {},
   "source": [
    "# Checking for Missing Values"
   ]
  },
  {
   "cell_type": "code",
   "execution_count": 21,
   "metadata": {},
   "outputs": [],
   "source": [
    "import polars as pl\n",
    "\n",
    "# Function to display the percentage of null values for each column\n",
    "def print_null_percentage(df):\n",
    "    # Calculate the percentage of null values for each column\n",
    "    null_percentage = (df.null_count() / df.shape[0]) * 100\n",
    "    \n",
    "    # Format the output for each column\n",
    "    output = \"Percentage of Null Values per Column:\\n\"\n",
    "    for col in null_percentage.columns:\n",
    "        percentage = null_percentage[col][0]\n",
    "        output += f\"{col}: {percentage:.2f}%\\n\"\n",
    "    \n",
    "    # Print the result in a single output\n",
    "    print(output)\n"
   ]
  },
  {
   "cell_type": "code",
   "execution_count": 22,
   "metadata": {},
   "outputs": [
    {
     "name": "stdout",
     "output_type": "stream",
     "text": [
      "Books Data Null Percentages:\n",
      "Percentage of Null Values per Column:\n",
      "Title: 0.00%\n",
      "description: 32.22%\n",
      "authors: 14.79%\n",
      "image: 24.52%\n",
      "previewLink: 11.22%\n",
      "publisher: 35.73%\n",
      "publishedDate: 11.91%\n",
      "infoLink: 11.22%\n",
      "categories: 19.40%\n",
      "ratingsCount: 76.58%\n",
      "\n"
     ]
    }
   ],
   "source": [
    "# Display the percentage of null values for each column in the books_data dataset\n",
    "print(\"Books Data Null Percentages:\")\n",
    "print_null_percentage(books_data)"
   ]
  },
  {
   "cell_type": "code",
   "execution_count": 23,
   "metadata": {},
   "outputs": [
    {
     "name": "stdout",
     "output_type": "stream",
     "text": [
      "\n",
      "Books Rating Null Percentages:\n",
      "Percentage of Null Values per Column:\n",
      "Id: 0.00%\n",
      "Title: 0.01%\n",
      "Price: 83.96%\n",
      "User_id: 18.73%\n",
      "profileName: 18.73%\n",
      "score: 0.00%\n",
      "time: 0.00%\n",
      "summary: 0.01%\n",
      "text: 0.00%\n",
      "\n"
     ]
    }
   ],
   "source": [
    "print(\"\\nBooks Rating Null Percentages:\")\n",
    "print_null_percentage(books_rating)"
   ]
  },
  {
   "cell_type": "code",
   "execution_count": 26,
   "metadata": {},
   "outputs": [
    {
     "name": "stdout",
     "output_type": "stream",
     "text": [
      "Percentage of rows with both description and infoLink null: 11.22%\n"
     ]
    }
   ],
   "source": [
    "# Filter rows where both description and infoLink are null\n",
    "null_rows = books_data.filter(\n",
    "    pl.col(\"description\").is_null() & pl.col(\"infoLink\").is_null()\n",
    ")\n",
    "\n",
    "# Calculate the percentage of rows with both description and infoLink null\n",
    "null_percentage = (null_rows.shape[0] / books_data.shape[0]) * 100\n",
    "\n",
    "# Display the result\n",
    "print(f\"Percentage of rows with both description and infoLink null: {null_percentage:.2f}%\")"
   ]
  },
  {
   "cell_type": "code",
   "execution_count": 27,
   "metadata": {},
   "outputs": [
    {
     "name": "stdout",
     "output_type": "stream",
     "text": [
      "Percentage of rows with both previewLink and infoLink null: 11.22%\n"
     ]
    }
   ],
   "source": [
    "# Filter rows where both description and infoLink are null\n",
    "null_rows = books_data.filter(\n",
    "    pl.col(\"previewLink\").is_null() & pl.col(\"infoLink\").is_null()\n",
    ")\n",
    "\n",
    "# Calculate the percentage of rows with both description and infoLink null\n",
    "null_percentage = (null_rows.shape[0] / books_data.shape[0]) * 100\n",
    "\n",
    "# Display the result\n",
    "print(f\"Percentage of rows with both previewLink and infoLink null: {null_percentage:.2f}%\")"
   ]
  },
  {
   "cell_type": "code",
   "execution_count": 29,
   "metadata": {},
   "outputs": [
    {
     "name": "stdout",
     "output_type": "stream",
     "text": [
      "Percentage of rows with all specified columns null: 11.22%\n"
     ]
    }
   ],
   "source": [
    "# Filter rows where all specified columns are null\n",
    "null_columns = [\"description\", \"authors\", \"image\", \"previewLink\", \"publisher\", \"publishedDate\", \"infoLink\", \"categories\", \"ratingsCount\"]\n",
    "# Filter for rows where each specified column is null\n",
    "null_rows = books_data.filter(\n",
    "    (pl.col(\"description\").is_null()) &\n",
    "    (pl.col(\"authors\").is_null()) &\n",
    "    (pl.col(\"image\").is_null()) &\n",
    "    (pl.col(\"previewLink\").is_null()) &\n",
    "    (pl.col(\"publisher\").is_null()) &\n",
    "    (pl.col(\"publishedDate\").is_null()) &\n",
    "    (pl.col(\"infoLink\").is_null()) &\n",
    "    (pl.col(\"categories\").is_null()) &\n",
    "    (pl.col(\"ratingsCount\").is_null())\n",
    ")\n",
    "\n",
    "# Calculate the percentage of rows with all specified columns null\n",
    "null_percentage = (null_rows.shape[0] / books_data.shape[0]) * 100\n",
    "\n",
    "# Display the result\n",
    "print(f\"Percentage of rows with all specified columns null: {null_percentage:.2f}%\")"
   ]
  },
  {
   "cell_type": "code",
   "execution_count": null,
   "metadata": {},
   "outputs": [
    {
     "name": "stdout",
     "output_type": "stream",
     "text": [
      "Number of rows after cleaning: 212404\n"
     ]
    }
   ],
   "source": [
    "# Step 1: Filter titles in books_data where all specified columns are null\n",
    "null_columns = [\"description\", \"authors\", \"image\", \"previewLink\", \"publisher\", \"publishedDate\", \"infoLink\", \"categories\", \"ratingsCount\"]\n",
    "null_titles = books_data.filter(\n",
    "    (pl.col(\"description\").is_null()) &\n",
    "    (pl.col(\"authors\").is_null()) &\n",
    "    (pl.col(\"image\").is_null()) &\n",
    "    (pl.col(\"previewLink\").is_null()) &\n",
    "    (pl.col(\"publisher\").is_null()) &\n",
    "    (pl.col(\"publishedDate\").is_null()) &\n",
    "    (pl.col(\"infoLink\").is_null()) &\n",
    "    (pl.col(\"categories\").is_null()) &\n",
    "    (pl.col(\"ratingsCount\").is_null())\n",
    ").select(\"Title\")\n",
    "\n",
    "# Step 2: Cross-reference with books_rating to see if these titles exist\n",
    "titles_in_rating = books_rating.select(\"Title\").unique()\n",
    "titles_to_keep = null_titles.join(titles_in_rating, on=\"Title\", how=\"inner\")\n",
    "\n",
    "# Step 3: Filter out rows in books_data where all specified columns are null and Title is not in books_rating\n",
    "books_data_cleaned = books_data.filter(\n",
    "    ~(\n",
    "        (pl.col(\"description\").is_null()) &\n",
    "        (pl.col(\"authors\").is_null()) &\n",
    "        (pl.col(\"image\").is_null()) &\n",
    "        (pl.col(\"previewLink\").is_null()) &\n",
    "        (pl.col(\"publisher\").is_null()) &\n",
    "        (pl.col(\"publishedDate\").is_null()) &\n",
    "        (pl.col(\"infoLink\").is_null()) &\n",
    "        (pl.col(\"categories\").is_null()) &\n",
    "        (pl.col(\"ratingsCount\").is_null()) &\n",
    "        (~pl.col(\"Title\").is_in(titles_to_keep[\"Title\"]))\n",
    "    )\n",
    ")\n",
    "\n",
    "# Display the result\n",
    "print(f\"Number of rows after cleaning: {books_data_cleaned.shape[0]}\")\n"
   ]
  },
  {
   "cell_type": "code",
   "execution_count": 31,
   "metadata": {},
   "outputs": [
    {
     "name": "stdout",
     "output_type": "stream",
     "text": [
      "Titles with all specified columns null in books_data that exist in books_rating:\n",
      "shape: (23_836, 1)\n",
      "┌─────────────────────────────────┐\n",
      "│ Title                           │\n",
      "│ ---                             │\n",
      "│ str                             │\n",
      "╞═════════════════════════════════╡\n",
      "│ Interpreting the Historical Bo… │\n",
      "│ Encyclopedia of computer scien… │\n",
      "│ Women at Prayer : A Halakhic A… │\n",
      "│ Alabama and Mississippi (Confe… │\n",
      "│ Keep in Touch: Letters, Notes,… │\n",
      "│ …                               │\n",
      "│ The First Named (Servants of A… │\n",
      "│ Sleep thieves: An eye-opening … │\n",
      "│ Extra Large Print New Testamen… │\n",
      "│ The Vineyard : The Pleasures a… │\n",
      "│ Universal Stitches for Weaving… │\n",
      "└─────────────────────────────────┘\n"
     ]
    }
   ],
   "source": [
    "# Step 2: Cross-reference with books_rating to see if these titles exist\n",
    "titles_in_rating = books_rating.select(\"Title\").unique()\n",
    "matching_titles = null_titles.join(titles_in_rating, on=\"Title\", how=\"inner\")\n",
    "\n",
    "# Display matching titles\n",
    "print(\"Titles with all specified columns null in books_data that exist in books_rating:\")\n",
    "print(matching_titles)"
   ]
  },
  {
   "cell_type": "markdown",
   "metadata": {},
   "source": [
    "# Cleaning and Analysis"
   ]
  },
  {
   "cell_type": "code",
   "execution_count": 25,
   "metadata": {},
   "outputs": [
    {
     "name": "stdout",
     "output_type": "stream",
     "text": [
      "Average score per book title:\n"
     ]
    },
    {
     "data": {
      "text/html": [
       "<div><style>\n",
       ".dataframe > thead > tr,\n",
       ".dataframe > tbody > tr {\n",
       "  text-align: right;\n",
       "  white-space: pre-wrap;\n",
       "}\n",
       "</style>\n",
       "<small>shape: (5, 2)</small><table border=\"1\" class=\"dataframe\"><thead><tr><th>Title</th><th>average_score</th></tr><tr><td>str</td><td>f64</td></tr></thead><tbody><tr><td>&quot;21st Century Complete Medical …</td><td>1.0</td></tr><tr><td>&quot;The American Muslim Identity: …</td><td>4.0</td></tr><tr><td>&quot;Just Me and My Little Brother …</td><td>4.472222</td></tr><tr><td>&quot;What&#x27;re You Lookin&#x27; At? (Colle…</td><td>5.0</td></tr><tr><td>&quot;Snow Swan&quot;</td><td>5.0</td></tr></tbody></table></div>"
      ],
      "text/plain": [
       "shape: (5, 2)\n",
       "┌─────────────────────────────────┬───────────────┐\n",
       "│ Title                           ┆ average_score │\n",
       "│ ---                             ┆ ---           │\n",
       "│ str                             ┆ f64           │\n",
       "╞═════════════════════════════════╪═══════════════╡\n",
       "│ 21st Century Complete Medical … ┆ 1.0           │\n",
       "│ The American Muslim Identity: … ┆ 4.0           │\n",
       "│ Just Me and My Little Brother … ┆ 4.472222      │\n",
       "│ What're You Lookin' At? (Colle… ┆ 5.0           │\n",
       "│ Snow Swan                       ┆ 5.0           │\n",
       "└─────────────────────────────────┴───────────────┘"
      ]
     },
     "execution_count": 25,
     "metadata": {},
     "output_type": "execute_result"
    }
   ],
   "source": [
    "import numpy as np\n",
    "\n",
    "# Step 1: Create a new DataFrame with only Title and score\n",
    "score_books_rating = books_rating.select([\"Title\", \"score\"])\n",
    "\n",
    "# Step 2: Group by Title and calculate the average score\n",
    "average_scores = score_books_rating.group_by(\"Title\").agg(\n",
    "    pl.col(\"score\").mean().alias(\"average_score\")\n",
    ")\n",
    "\n",
    "# Display the result\n",
    "print(\"Average score per book title:\")\n",
    "average_scores.head()"
   ]
  },
  {
   "cell_type": "code",
   "execution_count": null,
   "metadata": {},
   "outputs": [],
   "source": [
    "# Step 1: Impute Null Values with the Median\n",
    "# Calculate the median of the ratingsCount column\n",
    "ratings_median = books_data['ratingsCount'].median()\n",
    "# Fill null values with the median\n",
    "books_data = books_data.with_column(\n",
    "    pl.col('ratingsCount').fill_null(ratings_median)\n",
    ")"
   ]
  }
 ],
 "metadata": {
  "kernelspec": {
   "display_name": "book-review-0Q8IVYaC-py3.10",
   "language": "python",
   "name": "python3"
  },
  "language_info": {
   "codemirror_mode": {
    "name": "ipython",
    "version": 3
   },
   "file_extension": ".py",
   "mimetype": "text/x-python",
   "name": "python",
   "nbconvert_exporter": "python",
   "pygments_lexer": "ipython3",
   "version": "3.10.12"
  }
 },
 "nbformat": 4,
 "nbformat_minor": 2
}
