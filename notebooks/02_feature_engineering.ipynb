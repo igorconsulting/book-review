{
 "cells": [
  {
   "cell_type": "code",
   "execution_count": 2,
   "metadata": {},
   "outputs": [
    {
     "name": "stderr",
     "output_type": "stream",
     "text": [
      "/home/igor/.cache/pypoetry/virtualenvs/book-review-0Q8IVYaC-py3.10/lib/python3.10/site-packages/tqdm/auto.py:21: TqdmWarning: IProgress not found. Please update jupyter and ipywidgets. See https://ipywidgets.readthedocs.io/en/stable/user_install.html\n",
      "  from .autonotebook import tqdm as notebook_tqdm\n"
     ]
    }
   ],
   "source": [
    "import polars as pl\n",
    "import sys\n",
    "from pathlib import Path\n",
    "\n",
    "# Define o caminho para o diretório raiz do projeto\n",
    "project_root = Path(\"/home/igor/github-projects/book-review\")\n",
    "\n",
    "# Adiciona o diretório raiz do projeto ao sys.path\n",
    "if str(project_root) not in sys.path:\n",
    "    sys.path.append(str(project_root))\n",
    "from datetime import datetime\n",
    "import logging\n",
    "from src.sentiment_analysis import analyze_sentiment  # Ensure this function is correctly implemented\n",
    "from src.paths import FEATURE_STORE_DIR, FILTERED_DATA_DIR\n",
    "\n",
    "# Logger setup for notebook visualization\n",
    "logger = logging.getLogger(\"feature_engineering_test\")\n",
    "logger.setLevel(logging.INFO)\n",
    "ch = logging.StreamHandler()\n",
    "ch.setLevel(logging.INFO)\n",
    "formatter = logging.Formatter('%(levelname)s - %(message)s')\n",
    "ch.setFormatter(formatter)\n",
    "logger.addHandler(ch)\n"
   ]
  },
  {
   "cell_type": "code",
   "execution_count": 13,
   "metadata": {},
   "outputs": [
    {
     "name": "stderr",
     "output_type": "stream",
     "text": [
      "INFO - Filtered data loaded successfully.\n"
     ]
    }
   ],
   "source": [
    "# Load filtered data\n",
    "try:\n",
    "    reviews = pl.read_csv(project_root / \"data/filtered/rating_reviews_filtered.csv\")\n",
    "    books_info = pl.read_csv(project_root / \"data/filtered/books_info_filtered.csv\")\n",
    "    logger.info(\"Filtered data loaded successfully.\")\n",
    "except Exception as e:\n",
    "    logger.error(f\"Error loading filtered data: {e}\")\n"
   ]
  },
  {
   "cell_type": "code",
   "execution_count": 14,
   "metadata": {},
   "outputs": [
    {
     "name": "stderr",
     "output_type": "stream",
     "text": [
      "INFO - Review and summary length features calculated successfully.\n"
     ]
    }
   ],
   "source": [
    "# Review and summary length features\n",
    "try:\n",
    "    reviews = reviews.with_columns([\n",
    "        pl.col(\"text\").str.len_chars().alias(\"review_length\"),\n",
    "        pl.col(\"summary\").str.len_chars().alias(\"summary_length\")\n",
    "    ])\n",
    "    logger.info(\"Review and summary length features calculated successfully.\")\n",
    "except Exception as e:\n",
    "    logger.error(f\"Error in review length calculation: {e}\")\n"
   ]
  },
  {
   "cell_type": "code",
   "execution_count": 15,
   "metadata": {},
   "outputs": [
    {
     "data": {
      "text/html": [
       "<div><style>\n",
       ".dataframe > thead > tr,\n",
       ".dataframe > tbody > tr {\n",
       "  text-align: right;\n",
       "  white-space: pre-wrap;\n",
       "}\n",
       "</style>\n",
       "<small>shape: (2_438_018, 8)</small><table border=\"1\" class=\"dataframe\"><thead><tr><th>Title</th><th>User_id</th><th>score</th><th>time</th><th>summary</th><th>text</th><th>review_length</th><th>summary_length</th></tr><tr><td>str</td><td>str</td><td>f64</td><td>str</td><td>str</td><td>str</td><td>u32</td><td>u32</td></tr></thead><tbody><tr><td>&quot;Its Only Art If Its Well Hung!&quot;</td><td>&quot;AVCGYZL8FQQTD&quot;</td><td>4.0</td><td>&quot;1999-10-23T00:00:00.000&quot;</td><td>&quot;Nice collection of Julie Strai…</td><td>&quot;This is only for Julie Strain …</td><td>457</td><td>38</td></tr><tr><td>&quot;Dr. Seuss: American Icon&quot;</td><td>&quot;A30TK6U7DNS82R&quot;</td><td>5.0</td><td>&quot;2004-09-21T00:00:00.000&quot;</td><td>&quot;Really Enjoyed It&quot;</td><td>&quot;I don&#x27;t care much for Dr. Seus…</td><td>1423</td><td>17</td></tr><tr><td>&quot;Dr. Seuss: American Icon&quot;</td><td>&quot;A3UH4UZ4RSVO82&quot;</td><td>5.0</td><td>&quot;2004-03-09T00:00:00.000&quot;</td><td>&quot;Essential for every personal a…</td><td>&quot;If people become the books the…</td><td>1752</td><td>47</td></tr><tr><td>&quot;Dr. Seuss: American Icon&quot;</td><td>&quot;A2MVUWT453QH61&quot;</td><td>4.0</td><td>&quot;2004-07-25T00:00:00.000&quot;</td><td>&quot;Phlip Nel gives silly Seuss a …</td><td>&quot;Theodore Seuss Geisel (1904-19…</td><td>3662</td><td>47</td></tr><tr><td>&quot;Dr. Seuss: American Icon&quot;</td><td>&quot;A22X4XUPKF66MR&quot;</td><td>4.0</td><td>&quot;2005-02-10T00:00:00.000&quot;</td><td>&quot;Good academic overview&quot;</td><td>&quot;Philip Nel - Dr. Seuss: Americ…</td><td>1542</td><td>22</td></tr><tr><td>&hellip;</td><td>&hellip;</td><td>&hellip;</td><td>&hellip;</td><td>&hellip;</td><td>&hellip;</td><td>&hellip;</td><td>&hellip;</td></tr><tr><td>&quot;The Idea of History&quot;</td><td>&quot;AI1QNMVF2E3TN&quot;</td><td>5.0</td><td>&quot;2003-07-01T00:00:00.000&quot;</td><td>&quot;R. G. Collingwood&#x27;s Most Famou…</td><td>&quot;Highly Recommended.This book i…</td><td>1632</td><td>36</td></tr><tr><td>&quot;The Idea of History&quot;</td><td>&quot;AOFGOUMXLMVZS&quot;</td><td>4.0</td><td>&quot;2012-07-17T00:00:00.000&quot;</td><td>&quot;Thoughtful Critic of History&quot;</td><td>&quot;History is not a scientific pr…</td><td>12422</td><td>28</td></tr><tr><td>&quot;The Idea of History&quot;</td><td>&quot;A1SMUB9ASL5L9Y&quot;</td><td>4.0</td><td>&quot;2012-03-14T00:00:00.000&quot;</td><td>&quot;Quite good and ahead of its ti…</td><td>&quot;This is pretty interesting. Co…</td><td>597</td><td>45</td></tr><tr><td>&quot;The Idea of History&quot;</td><td>&quot;A2AQMEKZKK5EE4&quot;</td><td>4.0</td><td>&quot;2007-05-27T00:00:00.000&quot;</td><td>&quot;Easier reads of those not well…</td><td>&quot;This is a good book but very e…</td><td>161</td><td>55</td></tr><tr><td>&quot;The Idea of History&quot;</td><td>&quot;A18SQGYBKS852K&quot;</td><td>5.0</td><td>&quot;2006-11-09T00:00:00.000&quot;</td><td>&quot;Yes, it is cheaper than the Un…</td><td>&quot;My daughter, a freshman at Ind…</td><td>258</td><td>48</td></tr></tbody></table></div>"
      ],
      "text/plain": [
       "shape: (2_438_018, 8)\n",
       "┌────────────┬────────────┬───────┬────────────┬────────────┬────────────┬────────────┬────────────┐\n",
       "│ Title      ┆ User_id    ┆ score ┆ time       ┆ summary    ┆ text       ┆ review_len ┆ summary_le │\n",
       "│ ---        ┆ ---        ┆ ---   ┆ ---        ┆ ---        ┆ ---        ┆ gth        ┆ ngth       │\n",
       "│ str        ┆ str        ┆ f64   ┆ str        ┆ str        ┆ str        ┆ ---        ┆ ---        │\n",
       "│            ┆            ┆       ┆            ┆            ┆            ┆ u32        ┆ u32        │\n",
       "╞════════════╪════════════╪═══════╪════════════╪════════════╪════════════╪════════════╪════════════╡\n",
       "│ Its Only   ┆ AVCGYZL8FQ ┆ 4.0   ┆ 1999-10-23 ┆ Nice       ┆ This is    ┆ 457        ┆ 38         │\n",
       "│ Art If Its ┆ QTD        ┆       ┆ T00:00:00. ┆ collection ┆ only for   ┆            ┆            │\n",
       "│ Well Hung! ┆            ┆       ┆ 000        ┆ of Julie   ┆ Julie      ┆            ┆            │\n",
       "│            ┆            ┆       ┆            ┆ Strai…     ┆ Strain …   ┆            ┆            │\n",
       "│ Dr. Seuss: ┆ A30TK6U7DN ┆ 5.0   ┆ 2004-09-21 ┆ Really     ┆ I don't    ┆ 1423       ┆ 17         │\n",
       "│ American   ┆ S82R       ┆       ┆ T00:00:00. ┆ Enjoyed It ┆ care much  ┆            ┆            │\n",
       "│ Icon       ┆            ┆       ┆ 000        ┆            ┆ for Dr.    ┆            ┆            │\n",
       "│            ┆            ┆       ┆            ┆            ┆ Seus…      ┆            ┆            │\n",
       "│ Dr. Seuss: ┆ A3UH4UZ4RS ┆ 5.0   ┆ 2004-03-09 ┆ Essential  ┆ If people  ┆ 1752       ┆ 47         │\n",
       "│ American   ┆ VO82       ┆       ┆ T00:00:00. ┆ for every  ┆ become the ┆            ┆            │\n",
       "│ Icon       ┆            ┆       ┆ 000        ┆ personal   ┆ books the… ┆            ┆            │\n",
       "│            ┆            ┆       ┆            ┆ a…         ┆            ┆            ┆            │\n",
       "│ Dr. Seuss: ┆ A2MVUWT453 ┆ 4.0   ┆ 2004-07-25 ┆ Phlip Nel  ┆ Theodore   ┆ 3662       ┆ 47         │\n",
       "│ American   ┆ QH61       ┆       ┆ T00:00:00. ┆ gives      ┆ Seuss      ┆            ┆            │\n",
       "│ Icon       ┆            ┆       ┆ 000        ┆ silly      ┆ Geisel     ┆            ┆            │\n",
       "│            ┆            ┆       ┆            ┆ Seuss a …  ┆ (1904-19…  ┆            ┆            │\n",
       "│ Dr. Seuss: ┆ A22X4XUPKF ┆ 4.0   ┆ 2005-02-10 ┆ Good       ┆ Philip Nel ┆ 1542       ┆ 22         │\n",
       "│ American   ┆ 66MR       ┆       ┆ T00:00:00. ┆ academic   ┆ - Dr.      ┆            ┆            │\n",
       "│ Icon       ┆            ┆       ┆ 000        ┆ overview   ┆ Seuss:     ┆            ┆            │\n",
       "│            ┆            ┆       ┆            ┆            ┆ Americ…    ┆            ┆            │\n",
       "│ …          ┆ …          ┆ …     ┆ …          ┆ …          ┆ …          ┆ …          ┆ …          │\n",
       "│ The Idea   ┆ AI1QNMVF2E ┆ 5.0   ┆ 2003-07-01 ┆ R. G. Coll ┆ Highly Rec ┆ 1632       ┆ 36         │\n",
       "│ of History ┆ 3TN        ┆       ┆ T00:00:00. ┆ ingwood's  ┆ ommended.T ┆            ┆            │\n",
       "│            ┆            ┆       ┆ 000        ┆ Most       ┆ his book   ┆            ┆            │\n",
       "│            ┆            ┆       ┆            ┆ Famou…     ┆ i…         ┆            ┆            │\n",
       "│ The Idea   ┆ AOFGOUMXLM ┆ 4.0   ┆ 2012-07-17 ┆ Thoughtful ┆ History is ┆ 12422      ┆ 28         │\n",
       "│ of History ┆ VZS        ┆       ┆ T00:00:00. ┆ Critic of  ┆ not a      ┆            ┆            │\n",
       "│            ┆            ┆       ┆ 000        ┆ History    ┆ scientific ┆            ┆            │\n",
       "│            ┆            ┆       ┆            ┆            ┆ pr…        ┆            ┆            │\n",
       "│ The Idea   ┆ A1SMUB9ASL ┆ 4.0   ┆ 2012-03-14 ┆ Quite good ┆ This is    ┆ 597        ┆ 45         │\n",
       "│ of History ┆ 5L9Y       ┆       ┆ T00:00:00. ┆ and ahead  ┆ pretty int ┆            ┆            │\n",
       "│            ┆            ┆       ┆ 000        ┆ of its ti… ┆ eresting.  ┆            ┆            │\n",
       "│            ┆            ┆       ┆            ┆            ┆ Co…        ┆            ┆            │\n",
       "│ The Idea   ┆ A2AQMEKZKK ┆ 4.0   ┆ 2007-05-27 ┆ Easier     ┆ This is a  ┆ 161        ┆ 55         │\n",
       "│ of History ┆ 5EE4       ┆       ┆ T00:00:00. ┆ reads of   ┆ good book  ┆            ┆            │\n",
       "│            ┆            ┆       ┆ 000        ┆ those not  ┆ but very   ┆            ┆            │\n",
       "│            ┆            ┆       ┆            ┆ well…      ┆ e…         ┆            ┆            │\n",
       "│ The Idea   ┆ A18SQGYBKS ┆ 5.0   ┆ 2006-11-09 ┆ Yes, it is ┆ My         ┆ 258        ┆ 48         │\n",
       "│ of History ┆ 852K       ┆       ┆ T00:00:00. ┆ cheaper    ┆ daughter,  ┆            ┆            │\n",
       "│            ┆            ┆       ┆ 000        ┆ than the   ┆ a freshman ┆            ┆            │\n",
       "│            ┆            ┆       ┆            ┆ Un…        ┆ at Ind…    ┆            ┆            │\n",
       "└────────────┴────────────┴───────┴────────────┴────────────┴────────────┴────────────┴────────────┘"
      ]
     },
     "execution_count": 15,
     "metadata": {},
     "output_type": "execute_result"
    }
   ],
   "source": [
    "reviews"
   ]
  },
  {
   "cell_type": "code",
   "execution_count": 16,
   "metadata": {},
   "outputs": [
    {
     "name": "stderr",
     "output_type": "stream",
     "text": [
      "INFO - Sentiment analysis completed successfully.\n"
     ]
    }
   ],
   "source": [
    "try:\n",
    "    sentiment_scores = analyze_sentiment(reviews[\"text\"].to_list())\n",
    "    reviews = reviews.with_columns(\n",
    "        pl.Series(sentiment_scores).alias(\"sentiment_score\")\n",
    "    )\n",
    "    logger.info(\"Sentiment analysis completed successfully.\")\n",
    "except Exception as e:\n",
    "    logger.error(f\"Error in sentiment analysis: {e}\")\n"
   ]
  },
  {
   "cell_type": "code",
   "execution_count": 17,
   "metadata": {},
   "outputs": [
    {
     "data": {
      "text/html": [
       "<div><style>\n",
       ".dataframe > thead > tr,\n",
       ".dataframe > tbody > tr {\n",
       "  text-align: right;\n",
       "  white-space: pre-wrap;\n",
       "}\n",
       "</style>\n",
       "<small>shape: (2_438_018, 9)</small><table border=\"1\" class=\"dataframe\"><thead><tr><th>Title</th><th>User_id</th><th>score</th><th>time</th><th>summary</th><th>text</th><th>review_length</th><th>summary_length</th><th>sentiment_score</th></tr><tr><td>str</td><td>str</td><td>f64</td><td>str</td><td>str</td><td>str</td><td>u32</td><td>u32</td><td>f64</td></tr></thead><tbody><tr><td>&quot;Its Only Art If Its Well Hung!&quot;</td><td>&quot;AVCGYZL8FQQTD&quot;</td><td>4.0</td><td>&quot;1999-10-23T00:00:00.000&quot;</td><td>&quot;Nice collection of Julie Strai…</td><td>&quot;This is only for Julie Strain …</td><td>457</td><td>38</td><td>0.9408</td></tr><tr><td>&quot;Dr. Seuss: American Icon&quot;</td><td>&quot;A30TK6U7DNS82R&quot;</td><td>5.0</td><td>&quot;2004-09-21T00:00:00.000&quot;</td><td>&quot;Really Enjoyed It&quot;</td><td>&quot;I don&#x27;t care much for Dr. Seus…</td><td>1423</td><td>17</td><td>0.9876</td></tr><tr><td>&quot;Dr. Seuss: American Icon&quot;</td><td>&quot;A3UH4UZ4RSVO82&quot;</td><td>5.0</td><td>&quot;2004-03-09T00:00:00.000&quot;</td><td>&quot;Essential for every personal a…</td><td>&quot;If people become the books the…</td><td>1752</td><td>47</td><td>0.9935</td></tr><tr><td>&quot;Dr. Seuss: American Icon&quot;</td><td>&quot;A2MVUWT453QH61&quot;</td><td>4.0</td><td>&quot;2004-07-25T00:00:00.000&quot;</td><td>&quot;Phlip Nel gives silly Seuss a …</td><td>&quot;Theodore Seuss Geisel (1904-19…</td><td>3662</td><td>47</td><td>0.9807</td></tr><tr><td>&quot;Dr. Seuss: American Icon&quot;</td><td>&quot;A22X4XUPKF66MR&quot;</td><td>4.0</td><td>&quot;2005-02-10T00:00:00.000&quot;</td><td>&quot;Good academic overview&quot;</td><td>&quot;Philip Nel - Dr. Seuss: Americ…</td><td>1542</td><td>22</td><td>0.9803</td></tr><tr><td>&hellip;</td><td>&hellip;</td><td>&hellip;</td><td>&hellip;</td><td>&hellip;</td><td>&hellip;</td><td>&hellip;</td><td>&hellip;</td><td>&hellip;</td></tr><tr><td>&quot;The Idea of History&quot;</td><td>&quot;AI1QNMVF2E3TN&quot;</td><td>5.0</td><td>&quot;2003-07-01T00:00:00.000&quot;</td><td>&quot;R. G. Collingwood&#x27;s Most Famou…</td><td>&quot;Highly Recommended.This book i…</td><td>1632</td><td>36</td><td>0.9595</td></tr><tr><td>&quot;The Idea of History&quot;</td><td>&quot;AOFGOUMXLMVZS&quot;</td><td>4.0</td><td>&quot;2012-07-17T00:00:00.000&quot;</td><td>&quot;Thoughtful Critic of History&quot;</td><td>&quot;History is not a scientific pr…</td><td>12422</td><td>28</td><td>-0.9643</td></tr><tr><td>&quot;The Idea of History&quot;</td><td>&quot;A1SMUB9ASL5L9Y&quot;</td><td>4.0</td><td>&quot;2012-03-14T00:00:00.000&quot;</td><td>&quot;Quite good and ahead of its ti…</td><td>&quot;This is pretty interesting. Co…</td><td>597</td><td>45</td><td>0.875</td></tr><tr><td>&quot;The Idea of History&quot;</td><td>&quot;A2AQMEKZKK5EE4&quot;</td><td>4.0</td><td>&quot;2007-05-27T00:00:00.000&quot;</td><td>&quot;Easier reads of those not well…</td><td>&quot;This is a good book but very e…</td><td>161</td><td>55</td><td>0.6858</td></tr><tr><td>&quot;The Idea of History&quot;</td><td>&quot;A18SQGYBKS852K&quot;</td><td>5.0</td><td>&quot;2006-11-09T00:00:00.000&quot;</td><td>&quot;Yes, it is cheaper than the Un…</td><td>&quot;My daughter, a freshman at Ind…</td><td>258</td><td>48</td><td>0.0</td></tr></tbody></table></div>"
      ],
      "text/plain": [
       "shape: (2_438_018, 9)\n",
       "┌────────────┬────────────┬───────┬────────────┬───┬───────────┬───────────┬───────────┬───────────┐\n",
       "│ Title      ┆ User_id    ┆ score ┆ time       ┆ … ┆ text      ┆ review_le ┆ summary_l ┆ sentiment │\n",
       "│ ---        ┆ ---        ┆ ---   ┆ ---        ┆   ┆ ---       ┆ ngth      ┆ ength     ┆ _score    │\n",
       "│ str        ┆ str        ┆ f64   ┆ str        ┆   ┆ str       ┆ ---       ┆ ---       ┆ ---       │\n",
       "│            ┆            ┆       ┆            ┆   ┆           ┆ u32       ┆ u32       ┆ f64       │\n",
       "╞════════════╪════════════╪═══════╪════════════╪═══╪═══════════╪═══════════╪═══════════╪═══════════╡\n",
       "│ Its Only   ┆ AVCGYZL8FQ ┆ 4.0   ┆ 1999-10-23 ┆ … ┆ This is   ┆ 457       ┆ 38        ┆ 0.9408    │\n",
       "│ Art If Its ┆ QTD        ┆       ┆ T00:00:00. ┆   ┆ only for  ┆           ┆           ┆           │\n",
       "│ Well Hung! ┆            ┆       ┆ 000        ┆   ┆ Julie     ┆           ┆           ┆           │\n",
       "│            ┆            ┆       ┆            ┆   ┆ Strain …  ┆           ┆           ┆           │\n",
       "│ Dr. Seuss: ┆ A30TK6U7DN ┆ 5.0   ┆ 2004-09-21 ┆ … ┆ I don't   ┆ 1423      ┆ 17        ┆ 0.9876    │\n",
       "│ American   ┆ S82R       ┆       ┆ T00:00:00. ┆   ┆ care much ┆           ┆           ┆           │\n",
       "│ Icon       ┆            ┆       ┆ 000        ┆   ┆ for Dr.   ┆           ┆           ┆           │\n",
       "│            ┆            ┆       ┆            ┆   ┆ Seus…     ┆           ┆           ┆           │\n",
       "│ Dr. Seuss: ┆ A3UH4UZ4RS ┆ 5.0   ┆ 2004-03-09 ┆ … ┆ If people ┆ 1752      ┆ 47        ┆ 0.9935    │\n",
       "│ American   ┆ VO82       ┆       ┆ T00:00:00. ┆   ┆ become    ┆           ┆           ┆           │\n",
       "│ Icon       ┆            ┆       ┆ 000        ┆   ┆ the books ┆           ┆           ┆           │\n",
       "│            ┆            ┆       ┆            ┆   ┆ the…      ┆           ┆           ┆           │\n",
       "│ Dr. Seuss: ┆ A2MVUWT453 ┆ 4.0   ┆ 2004-07-25 ┆ … ┆ Theodore  ┆ 3662      ┆ 47        ┆ 0.9807    │\n",
       "│ American   ┆ QH61       ┆       ┆ T00:00:00. ┆   ┆ Seuss     ┆           ┆           ┆           │\n",
       "│ Icon       ┆            ┆       ┆ 000        ┆   ┆ Geisel    ┆           ┆           ┆           │\n",
       "│            ┆            ┆       ┆            ┆   ┆ (1904-19… ┆           ┆           ┆           │\n",
       "│ Dr. Seuss: ┆ A22X4XUPKF ┆ 4.0   ┆ 2005-02-10 ┆ … ┆ Philip    ┆ 1542      ┆ 22        ┆ 0.9803    │\n",
       "│ American   ┆ 66MR       ┆       ┆ T00:00:00. ┆   ┆ Nel - Dr. ┆           ┆           ┆           │\n",
       "│ Icon       ┆            ┆       ┆ 000        ┆   ┆ Seuss:    ┆           ┆           ┆           │\n",
       "│            ┆            ┆       ┆            ┆   ┆ Americ…   ┆           ┆           ┆           │\n",
       "│ …          ┆ …          ┆ …     ┆ …          ┆ … ┆ …         ┆ …         ┆ …         ┆ …         │\n",
       "│ The Idea   ┆ AI1QNMVF2E ┆ 5.0   ┆ 2003-07-01 ┆ … ┆ Highly    ┆ 1632      ┆ 36        ┆ 0.9595    │\n",
       "│ of History ┆ 3TN        ┆       ┆ T00:00:00. ┆   ┆ Recommend ┆           ┆           ┆           │\n",
       "│            ┆            ┆       ┆ 000        ┆   ┆ ed.This   ┆           ┆           ┆           │\n",
       "│            ┆            ┆       ┆            ┆   ┆ book i…   ┆           ┆           ┆           │\n",
       "│ The Idea   ┆ AOFGOUMXLM ┆ 4.0   ┆ 2012-07-17 ┆ … ┆ History   ┆ 12422     ┆ 28        ┆ -0.9643   │\n",
       "│ of History ┆ VZS        ┆       ┆ T00:00:00. ┆   ┆ is not a  ┆           ┆           ┆           │\n",
       "│            ┆            ┆       ┆ 000        ┆   ┆ scientifi ┆           ┆           ┆           │\n",
       "│            ┆            ┆       ┆            ┆   ┆ c pr…     ┆           ┆           ┆           │\n",
       "│ The Idea   ┆ A1SMUB9ASL ┆ 4.0   ┆ 2012-03-14 ┆ … ┆ This is   ┆ 597       ┆ 45        ┆ 0.875     │\n",
       "│ of History ┆ 5L9Y       ┆       ┆ T00:00:00. ┆   ┆ pretty    ┆           ┆           ┆           │\n",
       "│            ┆            ┆       ┆ 000        ┆   ┆ interesti ┆           ┆           ┆           │\n",
       "│            ┆            ┆       ┆            ┆   ┆ ng. Co…   ┆           ┆           ┆           │\n",
       "│ The Idea   ┆ A2AQMEKZKK ┆ 4.0   ┆ 2007-05-27 ┆ … ┆ This is a ┆ 161       ┆ 55        ┆ 0.6858    │\n",
       "│ of History ┆ 5EE4       ┆       ┆ T00:00:00. ┆   ┆ good book ┆           ┆           ┆           │\n",
       "│            ┆            ┆       ┆ 000        ┆   ┆ but very  ┆           ┆           ┆           │\n",
       "│            ┆            ┆       ┆            ┆   ┆ e…        ┆           ┆           ┆           │\n",
       "│ The Idea   ┆ A18SQGYBKS ┆ 5.0   ┆ 2006-11-09 ┆ … ┆ My        ┆ 258       ┆ 48        ┆ 0.0       │\n",
       "│ of History ┆ 852K       ┆       ┆ T00:00:00. ┆   ┆ daughter, ┆           ┆           ┆           │\n",
       "│            ┆            ┆       ┆ 000        ┆   ┆ a         ┆           ┆           ┆           │\n",
       "│            ┆            ┆       ┆            ┆   ┆ freshman  ┆           ┆           ┆           │\n",
       "│            ┆            ┆       ┆            ┆   ┆ at Ind…   ┆           ┆           ┆           │\n",
       "└────────────┴────────────┴───────┴────────────┴───┴───────────┴───────────┴───────────┴───────────┘"
      ]
     },
     "execution_count": 17,
     "metadata": {},
     "output_type": "execute_result"
    }
   ],
   "source": [
    "reviews"
   ]
  },
  {
   "cell_type": "code",
   "execution_count": 18,
   "metadata": {},
   "outputs": [
    {
     "name": "stderr",
     "output_type": "stream",
     "text": [
      "ERROR - Error in review age calculation: 'ExprDateTimeNameSpace' object has no attribute 'days'\n"
     ]
    }
   ],
   "source": [
    "try:\n",
    "    current_date = datetime.now()\n",
    "    reviews = reviews.with_columns(\n",
    "        (pl.lit(current_date) - pl.col(\"time\")).dt.days().alias(\"review_age_days\")\n",
    "    )\n",
    "    logger.info(\"Review age calculated successfully.\")\n",
    "except Exception as e:\n",
    "    logger.error(f\"Error in review age calculation: {e}\")\n"
   ]
  },
  {
   "cell_type": "code",
   "execution_count": 19,
   "metadata": {},
   "outputs": [
    {
     "name": "stderr",
     "output_type": "stream",
     "text": [
      "ERROR - Error in book age calculation: `year` operation not supported for dtype `str`\n"
     ]
    }
   ],
   "source": [
    "try:\n",
    "    current_year = datetime.now().year\n",
    "    books_info = books_info.with_columns(\n",
    "        (current_year - pl.col(\"publishedDate\").dt.year()).alias(\"book_age\")\n",
    "    )\n",
    "    logger.info(\"Book age feature calculated successfully.\")\n",
    "except Exception as e:\n",
    "    logger.error(f\"Error in book age calculation: {e}\")\n"
   ]
  },
  {
   "cell_type": "code",
   "execution_count": 20,
   "metadata": {},
   "outputs": [
    {
     "name": "stderr",
     "output_type": "stream",
     "text": [
      "ERROR - Error in average rating calculation: 'DataFrame' object has no attribute 'groupby'\n"
     ]
    }
   ],
   "source": [
    "try:\n",
    "    avg_ratings = reviews.groupby(\"Title\").agg(pl.col(\"score\").mean().alias(\"avg_score\"))\n",
    "    books_info = books_info.join(avg_ratings, on=\"Title\", how=\"left\")\n",
    "    logger.info(\"Average rating per book calculated successfully.\")\n",
    "except Exception as e:\n",
    "    logger.error(f\"Error in average rating calculation: {e}\")\n"
   ]
  },
  {
   "cell_type": "code",
   "execution_count": 21,
   "metadata": {},
   "outputs": [
    {
     "name": "stderr",
     "output_type": "stream",
     "text": [
      "ERROR - Error in review count calculation: 'DataFrame' object has no attribute 'groupby'\n"
     ]
    }
   ],
   "source": [
    "try:\n",
    "    author_review_counts = reviews.groupby(\"Title\").count().alias(\"review_count\")\n",
    "    books_info = books_info.join(author_review_counts, on=\"Title\", how=\"left\")\n",
    "    logger.info(\"Review count per book calculated successfully.\")\n",
    "except Exception as e:\n",
    "    logger.error(f\"Error in review count calculation: {e}\")\n"
   ]
  },
  {
   "cell_type": "code",
   "execution_count": null,
   "metadata": {},
   "outputs": [],
   "source": [
    "try:\n",
    "    reviews.write_csv(FEATURE_STORE_DIR / \"rating_reviews_features.csv\")\n",
    "    books_info.write_csv(FEATURE_STORE_DIR / \"books_info_features.csv\")\n",
    "    logger.info(\"Feature-engineered data saved to feature_store successfully.\")\n",
    "except Exception as e:\n",
    "    logger.error(f\"Error saving feature-engineered data: {e}\")\n"
   ]
  }
 ],
 "metadata": {
  "kernelspec": {
   "display_name": "book-review-0Q8IVYaC-py3.10",
   "language": "python",
   "name": "python3"
  },
  "language_info": {
   "codemirror_mode": {
    "name": "ipython",
    "version": 3
   },
   "file_extension": ".py",
   "mimetype": "text/x-python",
   "name": "python",
   "nbconvert_exporter": "python",
   "pygments_lexer": "ipython3",
   "version": "3.10.12"
  }
 },
 "nbformat": 4,
 "nbformat_minor": 2
}
