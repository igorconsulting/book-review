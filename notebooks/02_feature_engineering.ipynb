{
 "cells": [
  {
   "cell_type": "code",
   "execution_count": 2,
   "metadata": {},
   "outputs": [
    {
     "name": "stderr",
     "output_type": "stream",
     "text": [
      "/home/igor/.cache/pypoetry/virtualenvs/book-review-0Q8IVYaC-py3.10/lib/python3.10/site-packages/tqdm/auto.py:21: TqdmWarning: IProgress not found. Please update jupyter and ipywidgets. See https://ipywidgets.readthedocs.io/en/stable/user_install.html\n",
      "  from .autonotebook import tqdm as notebook_tqdm\n"
     ]
    }
   ],
   "source": [
    "import polars as pl\n",
    "import sys\n",
    "from pathlib import Path\n",
    "\n",
    "# Define o caminho para o diretório raiz do projeto\n",
    "project_root = Path(\"/home/igor/github-projects/book-review\")\n",
    "\n",
    "# Adiciona o diretório raiz do projeto ao sys.path\n",
    "if str(project_root) not in sys.path:\n",
    "    sys.path.append(str(project_root))\n",
    "from datetime import datetime\n",
    "import logging\n",
    "from src.sentiment_analysis import analyze_sentiment  # Ensure this function is correctly implemented\n",
    "from src.paths import FEATURE_STORE_DIR, FILTERED_DATA_DIR\n",
    "\n",
    "# Logger setup for notebook visualization\n",
    "logger = logging.getLogger(\"feature_engineering_test\")\n",
    "logger.setLevel(logging.INFO)\n",
    "ch = logging.StreamHandler()\n",
    "ch.setLevel(logging.INFO)\n",
    "formatter = logging.Formatter('%(levelname)s - %(message)s')\n",
    "ch.setFormatter(formatter)\n",
    "logger.addHandler(ch)\n"
   ]
  },
  {
   "cell_type": "code",
   "execution_count": 13,
   "metadata": {},
   "outputs": [
    {
     "name": "stderr",
     "output_type": "stream",
     "text": [
      "INFO - Filtered data loaded successfully.\n"
     ]
    }
   ],
   "source": [
    "# Load filtered data\n",
    "try:\n",
    "    reviews = pl.read_csv(project_root / \"data/filtered/rating_reviews_filtered.csv\")\n",
    "    books_info = pl.read_csv(project_root / \"data/filtered/books_info_filtered.csv\")\n",
    "    logger.info(\"Filtered data loaded successfully.\")\n",
    "except Exception as e:\n",
    "    logger.error(f\"Error loading filtered data: {e}\")\n"
   ]
  },
  {
   "cell_type": "code",
   "execution_count": 14,
   "metadata": {},
   "outputs": [
    {
     "name": "stderr",
     "output_type": "stream",
     "text": [
      "INFO - Review and summary length features calculated successfully.\n"
     ]
    }
   ],
   "source": [
    "# Review and summary length features\n",
    "try:\n",
    "    reviews = reviews.with_columns([\n",
    "        pl.col(\"text\").str.len_chars().alias(\"review_length\"),\n",
    "        pl.col(\"summary\").str.len_chars().alias(\"summary_length\")\n",
    "    ])\n",
    "    logger.info(\"Review and summary length features calculated successfully.\")\n",
    "except Exception as e:\n",
    "    logger.error(f\"Error in review length calculation: {e}\")\n"
   ]
  },
  {
   "cell_type": "code",
   "execution_count": 15,
   "metadata": {},
   "outputs": [
    {
     "data": {
      "text/html": [
       "<div><style>\n",
       ".dataframe > thead > tr,\n",
       ".dataframe > tbody > tr {\n",
       "  text-align: right;\n",
       "  white-space: pre-wrap;\n",
       "}\n",
       "</style>\n",
       "<small>shape: (2_438_018, 8)</small><table border=\"1\" class=\"dataframe\"><thead><tr><th>Title</th><th>User_id</th><th>score</th><th>time</th><th>summary</th><th>text</th><th>review_length</th><th>summary_length</th></tr><tr><td>str</td><td>str</td><td>f64</td><td>str</td><td>str</td><td>str</td><td>u32</td><td>u32</td></tr></thead><tbody><tr><td>&quot;Its Only Art If Its Well Hung!&quot;</td><td>&quot;AVCGYZL8FQQTD&quot;</td><td>4.0</td><td>&quot;1999-10-23T00:00:00.000&quot;</td><td>&quot;Nice collection of Julie Strai…</td><td>&quot;This is only for Julie Strain …</td><td>457</td><td>38</td></tr><tr><td>&quot;Dr. Seuss: American Icon&quot;</td><td>&quot;A30TK6U7DNS82R&quot;</td><td>5.0</td><td>&quot;2004-09-21T00:00:00.000&quot;</td><td>&quot;Really Enjoyed It&quot;</td><td>&quot;I don&#x27;t care much for Dr. Seus…</td><td>1423</td><td>17</td></tr><tr><td>&quot;Dr. Seuss: American Icon&quot;</td><td>&quot;A3UH4UZ4RSVO82&quot;</td><td>5.0</td><td>&quot;2004-03-09T00:00:00.000&quot;</td><td>&quot;Essential for every personal a…</td><td>&quot;If people become the books the…</td><td>1752</td><td>47</td></tr><tr><td>&quot;Dr. Seuss: American Icon&quot;</td><td>&quot;A2MVUWT453QH61&quot;</td><td>4.0</td><td>&quot;2004-07-25T00:00:00.000&quot;</td><td>&quot;Phlip Nel gives silly Seuss a …</td><td>&quot;Theodore Seuss Geisel (1904-19…</td><td>3662</td><td>47</td></tr><tr><td>&quot;Dr. Seuss: American Icon&quot;</td><td>&quot;A22X4XUPKF66MR&quot;</td><td>4.0</td><td>&quot;2005-02-10T00:00:00.000&quot;</td><td>&quot;Good academic overview&quot;</td><td>&quot;Philip Nel - Dr. Seuss: Americ…</td><td>1542</td><td>22</td></tr><tr><td>&hellip;</td><td>&hellip;</td><td>&hellip;</td><td>&hellip;</td><td>&hellip;</td><td>&hellip;</td><td>&hellip;</td><td>&hellip;</td></tr><tr><td>&quot;The Idea of History&quot;</td><td>&quot;AI1QNMVF2E3TN&quot;</td><td>5.0</td><td>&quot;2003-07-01T00:00:00.000&quot;</td><td>&quot;R. G. Collingwood&#x27;s Most Famou…</td><td>&quot;Highly Recommended.This book i…</td><td>1632</td><td>36</td></tr><tr><td>&quot;The Idea of History&quot;</td><td>&quot;AOFGOUMXLMVZS&quot;</td><td>4.0</td><td>&quot;2012-07-17T00:00:00.000&quot;</td><td>&quot;Thoughtful Critic of History&quot;</td><td>&quot;History is not a scientific pr…</td><td>12422</td><td>28</td></tr><tr><td>&quot;The Idea of History&quot;</td><td>&quot;A1SMUB9ASL5L9Y&quot;</td><td>4.0</td><td>&quot;2012-03-14T00:00:00.000&quot;</td><td>&quot;Quite good and ahead of its ti…</td><td>&quot;This is pretty interesting. Co…</td><td>597</td><td>45</td></tr><tr><td>&quot;The Idea of History&quot;</td><td>&quot;A2AQMEKZKK5EE4&quot;</td><td>4.0</td><td>&quot;2007-05-27T00:00:00.000&quot;</td><td>&quot;Easier reads of those not well…</td><td>&quot;This is a good book but very e…</td><td>161</td><td>55</td></tr><tr><td>&quot;The Idea of History&quot;</td><td>&quot;A18SQGYBKS852K&quot;</td><td>5.0</td><td>&quot;2006-11-09T00:00:00.000&quot;</td><td>&quot;Yes, it is cheaper than the Un…</td><td>&quot;My daughter, a freshman at Ind…</td><td>258</td><td>48</td></tr></tbody></table></div>"
      ],
      "text/plain": [
       "shape: (2_438_018, 8)\n",
       "┌────────────┬────────────┬───────┬────────────┬────────────┬────────────┬────────────┬────────────┐\n",
       "│ Title      ┆ User_id    ┆ score ┆ time       ┆ summary    ┆ text       ┆ review_len ┆ summary_le │\n",
       "│ ---        ┆ ---        ┆ ---   ┆ ---        ┆ ---        ┆ ---        ┆ gth        ┆ ngth       │\n",
       "│ str        ┆ str        ┆ f64   ┆ str        ┆ str        ┆ str        ┆ ---        ┆ ---        │\n",
       "│            ┆            ┆       ┆            ┆            ┆            ┆ u32        ┆ u32        │\n",
       "╞════════════╪════════════╪═══════╪════════════╪════════════╪════════════╪════════════╪════════════╡\n",
       "│ Its Only   ┆ AVCGYZL8FQ ┆ 4.0   ┆ 1999-10-23 ┆ Nice       ┆ This is    ┆ 457        ┆ 38         │\n",
       "│ Art If Its ┆ QTD        ┆       ┆ T00:00:00. ┆ collection ┆ only for   ┆            ┆            │\n",
       "│ Well Hung! ┆            ┆       ┆ 000        ┆ of Julie   ┆ Julie      ┆            ┆            │\n",
       "│            ┆            ┆       ┆            ┆ Strai…     ┆ Strain …   ┆            ┆            │\n",
       "│ Dr. Seuss: ┆ A30TK6U7DN ┆ 5.0   ┆ 2004-09-21 ┆ Really     ┆ I don't    ┆ 1423       ┆ 17         │\n",
       "│ American   ┆ S82R       ┆       ┆ T00:00:00. ┆ Enjoyed It ┆ care much  ┆            ┆            │\n",
       "│ Icon       ┆            ┆       ┆ 000        ┆            ┆ for Dr.    ┆            ┆            │\n",
       "│            ┆            ┆       ┆            ┆            ┆ Seus…      ┆            ┆            │\n",
       "│ Dr. Seuss: ┆ A3UH4UZ4RS ┆ 5.0   ┆ 2004-03-09 ┆ Essential  ┆ If people  ┆ 1752       ┆ 47         │\n",
       "│ American   ┆ VO82       ┆       ┆ T00:00:00. ┆ for every  ┆ become the ┆            ┆            │\n",
       "│ Icon       ┆            ┆       ┆ 000        ┆ personal   ┆ books the… ┆            ┆            │\n",
       "│            ┆            ┆       ┆            ┆ a…         ┆            ┆            ┆            │\n",
       "│ Dr. Seuss: ┆ A2MVUWT453 ┆ 4.0   ┆ 2004-07-25 ┆ Phlip Nel  ┆ Theodore   ┆ 3662       ┆ 47         │\n",
       "│ American   ┆ QH61       ┆       ┆ T00:00:00. ┆ gives      ┆ Seuss      ┆            ┆            │\n",
       "│ Icon       ┆            ┆       ┆ 000        ┆ silly      ┆ Geisel     ┆            ┆            │\n",
       "│            ┆            ┆       ┆            ┆ Seuss a …  ┆ (1904-19…  ┆            ┆            │\n",
       "│ Dr. Seuss: ┆ A22X4XUPKF ┆ 4.0   ┆ 2005-02-10 ┆ Good       ┆ Philip Nel ┆ 1542       ┆ 22         │\n",
       "│ American   ┆ 66MR       ┆       ┆ T00:00:00. ┆ academic   ┆ - Dr.      ┆            ┆            │\n",
       "│ Icon       ┆            ┆       ┆ 000        ┆ overview   ┆ Seuss:     ┆            ┆            │\n",
       "│            ┆            ┆       ┆            ┆            ┆ Americ…    ┆            ┆            │\n",
       "│ …          ┆ …          ┆ …     ┆ …          ┆ …          ┆ …          ┆ …          ┆ …          │\n",
       "│ The Idea   ┆ AI1QNMVF2E ┆ 5.0   ┆ 2003-07-01 ┆ R. G. Coll ┆ Highly Rec ┆ 1632       ┆ 36         │\n",
       "│ of History ┆ 3TN        ┆       ┆ T00:00:00. ┆ ingwood's  ┆ ommended.T ┆            ┆            │\n",
       "│            ┆            ┆       ┆ 000        ┆ Most       ┆ his book   ┆            ┆            │\n",
       "│            ┆            ┆       ┆            ┆ Famou…     ┆ i…         ┆            ┆            │\n",
       "│ The Idea   ┆ AOFGOUMXLM ┆ 4.0   ┆ 2012-07-17 ┆ Thoughtful ┆ History is ┆ 12422      ┆ 28         │\n",
       "│ of History ┆ VZS        ┆       ┆ T00:00:00. ┆ Critic of  ┆ not a      ┆            ┆            │\n",
       "│            ┆            ┆       ┆ 000        ┆ History    ┆ scientific ┆            ┆            │\n",
       "│            ┆            ┆       ┆            ┆            ┆ pr…        ┆            ┆            │\n",
       "│ The Idea   ┆ A1SMUB9ASL ┆ 4.0   ┆ 2012-03-14 ┆ Quite good ┆ This is    ┆ 597        ┆ 45         │\n",
       "│ of History ┆ 5L9Y       ┆       ┆ T00:00:00. ┆ and ahead  ┆ pretty int ┆            ┆            │\n",
       "│            ┆            ┆       ┆ 000        ┆ of its ti… ┆ eresting.  ┆            ┆            │\n",
       "│            ┆            ┆       ┆            ┆            ┆ Co…        ┆            ┆            │\n",
       "│ The Idea   ┆ A2AQMEKZKK ┆ 4.0   ┆ 2007-05-27 ┆ Easier     ┆ This is a  ┆ 161        ┆ 55         │\n",
       "│ of History ┆ 5EE4       ┆       ┆ T00:00:00. ┆ reads of   ┆ good book  ┆            ┆            │\n",
       "│            ┆            ┆       ┆ 000        ┆ those not  ┆ but very   ┆            ┆            │\n",
       "│            ┆            ┆       ┆            ┆ well…      ┆ e…         ┆            ┆            │\n",
       "│ The Idea   ┆ A18SQGYBKS ┆ 5.0   ┆ 2006-11-09 ┆ Yes, it is ┆ My         ┆ 258        ┆ 48         │\n",
       "│ of History ┆ 852K       ┆       ┆ T00:00:00. ┆ cheaper    ┆ daughter,  ┆            ┆            │\n",
       "│            ┆            ┆       ┆ 000        ┆ than the   ┆ a freshman ┆            ┆            │\n",
       "│            ┆            ┆       ┆            ┆ Un…        ┆ at Ind…    ┆            ┆            │\n",
       "└────────────┴────────────┴───────┴────────────┴────────────┴────────────┴────────────┴────────────┘"
      ]
     },
     "execution_count": 15,
     "metadata": {},
     "output_type": "execute_result"
    }
   ],
   "source": [
    "reviews"
   ]
  },
  {
   "cell_type": "code",
   "execution_count": 16,
   "metadata": {},
   "outputs": [
    {
     "name": "stderr",
     "output_type": "stream",
     "text": [
      "INFO - Sentiment analysis completed successfully.\n"
     ]
    }
   ],
   "source": [
    "try:\n",
    "    sentiment_scores = analyze_sentiment(reviews[\"text\"].to_list())\n",
    "    reviews = reviews.with_columns(\n",
    "        pl.Series(sentiment_scores).alias(\"sentiment_score\")\n",
    "    )\n",
    "    logger.info(\"Sentiment analysis completed successfully.\")\n",
    "except Exception as e:\n",
    "    logger.error(f\"Error in sentiment analysis: {e}\")\n"
   ]
  },
  {
   "cell_type": "code",
   "execution_count": 17,
   "metadata": {},
   "outputs": [
    {
     "data": {
      "text/html": [
       "<div><style>\n",
       ".dataframe > thead > tr,\n",
       ".dataframe > tbody > tr {\n",
       "  text-align: right;\n",
       "  white-space: pre-wrap;\n",
       "}\n",
       "</style>\n",
       "<small>shape: (2_438_018, 9)</small><table border=\"1\" class=\"dataframe\"><thead><tr><th>Title</th><th>User_id</th><th>score</th><th>time</th><th>summary</th><th>text</th><th>review_length</th><th>summary_length</th><th>sentiment_score</th></tr><tr><td>str</td><td>str</td><td>f64</td><td>str</td><td>str</td><td>str</td><td>u32</td><td>u32</td><td>f64</td></tr></thead><tbody><tr><td>&quot;Its Only Art If Its Well Hung!&quot;</td><td>&quot;AVCGYZL8FQQTD&quot;</td><td>4.0</td><td>&quot;1999-10-23T00:00:00.000&quot;</td><td>&quot;Nice collection of Julie Strai…</td><td>&quot;This is only for Julie Strain …</td><td>457</td><td>38</td><td>0.9408</td></tr><tr><td>&quot;Dr. Seuss: American Icon&quot;</td><td>&quot;A30TK6U7DNS82R&quot;</td><td>5.0</td><td>&quot;2004-09-21T00:00:00.000&quot;</td><td>&quot;Really Enjoyed It&quot;</td><td>&quot;I don&#x27;t care much for Dr. Seus…</td><td>1423</td><td>17</td><td>0.9876</td></tr><tr><td>&quot;Dr. Seuss: American Icon&quot;</td><td>&quot;A3UH4UZ4RSVO82&quot;</td><td>5.0</td><td>&quot;2004-03-09T00:00:00.000&quot;</td><td>&quot;Essential for every personal a…</td><td>&quot;If people become the books the…</td><td>1752</td><td>47</td><td>0.9935</td></tr><tr><td>&quot;Dr. Seuss: American Icon&quot;</td><td>&quot;A2MVUWT453QH61&quot;</td><td>4.0</td><td>&quot;2004-07-25T00:00:00.000&quot;</td><td>&quot;Phlip Nel gives silly Seuss a …</td><td>&quot;Theodore Seuss Geisel (1904-19…</td><td>3662</td><td>47</td><td>0.9807</td></tr><tr><td>&quot;Dr. Seuss: American Icon&quot;</td><td>&quot;A22X4XUPKF66MR&quot;</td><td>4.0</td><td>&quot;2005-02-10T00:00:00.000&quot;</td><td>&quot;Good academic overview&quot;</td><td>&quot;Philip Nel - Dr. Seuss: Americ…</td><td>1542</td><td>22</td><td>0.9803</td></tr><tr><td>&hellip;</td><td>&hellip;</td><td>&hellip;</td><td>&hellip;</td><td>&hellip;</td><td>&hellip;</td><td>&hellip;</td><td>&hellip;</td><td>&hellip;</td></tr><tr><td>&quot;The Idea of History&quot;</td><td>&quot;AI1QNMVF2E3TN&quot;</td><td>5.0</td><td>&quot;2003-07-01T00:00:00.000&quot;</td><td>&quot;R. G. Collingwood&#x27;s Most Famou…</td><td>&quot;Highly Recommended.This book i…</td><td>1632</td><td>36</td><td>0.9595</td></tr><tr><td>&quot;The Idea of History&quot;</td><td>&quot;AOFGOUMXLMVZS&quot;</td><td>4.0</td><td>&quot;2012-07-17T00:00:00.000&quot;</td><td>&quot;Thoughtful Critic of History&quot;</td><td>&quot;History is not a scientific pr…</td><td>12422</td><td>28</td><td>-0.9643</td></tr><tr><td>&quot;The Idea of History&quot;</td><td>&quot;A1SMUB9ASL5L9Y&quot;</td><td>4.0</td><td>&quot;2012-03-14T00:00:00.000&quot;</td><td>&quot;Quite good and ahead of its ti…</td><td>&quot;This is pretty interesting. Co…</td><td>597</td><td>45</td><td>0.875</td></tr><tr><td>&quot;The Idea of History&quot;</td><td>&quot;A2AQMEKZKK5EE4&quot;</td><td>4.0</td><td>&quot;2007-05-27T00:00:00.000&quot;</td><td>&quot;Easier reads of those not well…</td><td>&quot;This is a good book but very e…</td><td>161</td><td>55</td><td>0.6858</td></tr><tr><td>&quot;The Idea of History&quot;</td><td>&quot;A18SQGYBKS852K&quot;</td><td>5.0</td><td>&quot;2006-11-09T00:00:00.000&quot;</td><td>&quot;Yes, it is cheaper than the Un…</td><td>&quot;My daughter, a freshman at Ind…</td><td>258</td><td>48</td><td>0.0</td></tr></tbody></table></div>"
      ],
      "text/plain": [
       "shape: (2_438_018, 9)\n",
       "┌────────────┬────────────┬───────┬────────────┬───┬───────────┬───────────┬───────────┬───────────┐\n",
       "│ Title      ┆ User_id    ┆ score ┆ time       ┆ … ┆ text      ┆ review_le ┆ summary_l ┆ sentiment │\n",
       "│ ---        ┆ ---        ┆ ---   ┆ ---        ┆   ┆ ---       ┆ ngth      ┆ ength     ┆ _score    │\n",
       "│ str        ┆ str        ┆ f64   ┆ str        ┆   ┆ str       ┆ ---       ┆ ---       ┆ ---       │\n",
       "│            ┆            ┆       ┆            ┆   ┆           ┆ u32       ┆ u32       ┆ f64       │\n",
       "╞════════════╪════════════╪═══════╪════════════╪═══╪═══════════╪═══════════╪═══════════╪═══════════╡\n",
       "│ Its Only   ┆ AVCGYZL8FQ ┆ 4.0   ┆ 1999-10-23 ┆ … ┆ This is   ┆ 457       ┆ 38        ┆ 0.9408    │\n",
       "│ Art If Its ┆ QTD        ┆       ┆ T00:00:00. ┆   ┆ only for  ┆           ┆           ┆           │\n",
       "│ Well Hung! ┆            ┆       ┆ 000        ┆   ┆ Julie     ┆           ┆           ┆           │\n",
       "│            ┆            ┆       ┆            ┆   ┆ Strain …  ┆           ┆           ┆           │\n",
       "│ Dr. Seuss: ┆ A30TK6U7DN ┆ 5.0   ┆ 2004-09-21 ┆ … ┆ I don't   ┆ 1423      ┆ 17        ┆ 0.9876    │\n",
       "│ American   ┆ S82R       ┆       ┆ T00:00:00. ┆   ┆ care much ┆           ┆           ┆           │\n",
       "│ Icon       ┆            ┆       ┆ 000        ┆   ┆ for Dr.   ┆           ┆           ┆           │\n",
       "│            ┆            ┆       ┆            ┆   ┆ Seus…     ┆           ┆           ┆           │\n",
       "│ Dr. Seuss: ┆ A3UH4UZ4RS ┆ 5.0   ┆ 2004-03-09 ┆ … ┆ If people ┆ 1752      ┆ 47        ┆ 0.9935    │\n",
       "│ American   ┆ VO82       ┆       ┆ T00:00:00. ┆   ┆ become    ┆           ┆           ┆           │\n",
       "│ Icon       ┆            ┆       ┆ 000        ┆   ┆ the books ┆           ┆           ┆           │\n",
       "│            ┆            ┆       ┆            ┆   ┆ the…      ┆           ┆           ┆           │\n",
       "│ Dr. Seuss: ┆ A2MVUWT453 ┆ 4.0   ┆ 2004-07-25 ┆ … ┆ Theodore  ┆ 3662      ┆ 47        ┆ 0.9807    │\n",
       "│ American   ┆ QH61       ┆       ┆ T00:00:00. ┆   ┆ Seuss     ┆           ┆           ┆           │\n",
       "│ Icon       ┆            ┆       ┆ 000        ┆   ┆ Geisel    ┆           ┆           ┆           │\n",
       "│            ┆            ┆       ┆            ┆   ┆ (1904-19… ┆           ┆           ┆           │\n",
       "│ Dr. Seuss: ┆ A22X4XUPKF ┆ 4.0   ┆ 2005-02-10 ┆ … ┆ Philip    ┆ 1542      ┆ 22        ┆ 0.9803    │\n",
       "│ American   ┆ 66MR       ┆       ┆ T00:00:00. ┆   ┆ Nel - Dr. ┆           ┆           ┆           │\n",
       "│ Icon       ┆            ┆       ┆ 000        ┆   ┆ Seuss:    ┆           ┆           ┆           │\n",
       "│            ┆            ┆       ┆            ┆   ┆ Americ…   ┆           ┆           ┆           │\n",
       "│ …          ┆ …          ┆ …     ┆ …          ┆ … ┆ …         ┆ …         ┆ …         ┆ …         │\n",
       "│ The Idea   ┆ AI1QNMVF2E ┆ 5.0   ┆ 2003-07-01 ┆ … ┆ Highly    ┆ 1632      ┆ 36        ┆ 0.9595    │\n",
       "│ of History ┆ 3TN        ┆       ┆ T00:00:00. ┆   ┆ Recommend ┆           ┆           ┆           │\n",
       "│            ┆            ┆       ┆ 000        ┆   ┆ ed.This   ┆           ┆           ┆           │\n",
       "│            ┆            ┆       ┆            ┆   ┆ book i…   ┆           ┆           ┆           │\n",
       "│ The Idea   ┆ AOFGOUMXLM ┆ 4.0   ┆ 2012-07-17 ┆ … ┆ History   ┆ 12422     ┆ 28        ┆ -0.9643   │\n",
       "│ of History ┆ VZS        ┆       ┆ T00:00:00. ┆   ┆ is not a  ┆           ┆           ┆           │\n",
       "│            ┆            ┆       ┆ 000        ┆   ┆ scientifi ┆           ┆           ┆           │\n",
       "│            ┆            ┆       ┆            ┆   ┆ c pr…     ┆           ┆           ┆           │\n",
       "│ The Idea   ┆ A1SMUB9ASL ┆ 4.0   ┆ 2012-03-14 ┆ … ┆ This is   ┆ 597       ┆ 45        ┆ 0.875     │\n",
       "│ of History ┆ 5L9Y       ┆       ┆ T00:00:00. ┆   ┆ pretty    ┆           ┆           ┆           │\n",
       "│            ┆            ┆       ┆ 000        ┆   ┆ interesti ┆           ┆           ┆           │\n",
       "│            ┆            ┆       ┆            ┆   ┆ ng. Co…   ┆           ┆           ┆           │\n",
       "│ The Idea   ┆ A2AQMEKZKK ┆ 4.0   ┆ 2007-05-27 ┆ … ┆ This is a ┆ 161       ┆ 55        ┆ 0.6858    │\n",
       "│ of History ┆ 5EE4       ┆       ┆ T00:00:00. ┆   ┆ good book ┆           ┆           ┆           │\n",
       "│            ┆            ┆       ┆ 000        ┆   ┆ but very  ┆           ┆           ┆           │\n",
       "│            ┆            ┆       ┆            ┆   ┆ e…        ┆           ┆           ┆           │\n",
       "│ The Idea   ┆ A18SQGYBKS ┆ 5.0   ┆ 2006-11-09 ┆ … ┆ My        ┆ 258       ┆ 48        ┆ 0.0       │\n",
       "│ of History ┆ 852K       ┆       ┆ T00:00:00. ┆   ┆ daughter, ┆           ┆           ┆           │\n",
       "│            ┆            ┆       ┆ 000        ┆   ┆ a         ┆           ┆           ┆           │\n",
       "│            ┆            ┆       ┆            ┆   ┆ freshman  ┆           ┆           ┆           │\n",
       "│            ┆            ┆       ┆            ┆   ┆ at Ind…   ┆           ┆           ┆           │\n",
       "└────────────┴────────────┴───────┴────────────┴───┴───────────┴───────────┴───────────┴───────────┘"
      ]
     },
     "execution_count": 17,
     "metadata": {},
     "output_type": "execute_result"
    }
   ],
   "source": [
    "reviews"
   ]
  },
  {
   "cell_type": "markdown",
   "metadata": {},
   "source": [
    "## date"
   ]
  },
  {
   "cell_type": "code",
   "execution_count": 64,
   "metadata": {},
   "outputs": [],
   "source": [
    "current_date = datetime.now().strftime(\"%Y-%m-%d\")"
   ]
  },
  {
   "cell_type": "code",
   "execution_count": 68,
   "metadata": {},
   "outputs": [],
   "source": [
    "# Convert the string to datetime and calculate review_age_days\n",
    "reviews = reviews.with_columns([\n",
    "    # Convert the current_date string to datetime type\n",
    "    pl.lit(current_date).str.to_datetime().cast(pl.Date).alias(\"current_date\")\n",
    "])\n",
    "# Convert the string to datetime and calculate review_age_days\n",
    "#reviews = reviews.with_columns([\n",
    "#    # Convert the current_date string to datetime type\n",
    "#    pl.col(\"time\").str.to_datetime().cast(pl.Date).alias(\"time\")\n",
    "#])\n",
    "\n",
    "# Calculate the review age in days by subtracting 'time' from 'current_date'\n",
    "reviews = reviews.with_columns( review_age_days =\n",
    "    pl.col(\"current_date\") - pl.col(\"time\")\n",
    ")\n"
   ]
  },
  {
   "cell_type": "code",
   "execution_count": 111,
   "metadata": {},
   "outputs": [
    {
     "data": {
      "text/html": [
       "<div><style>\n",
       ".dataframe > thead > tr,\n",
       ".dataframe > tbody > tr {\n",
       "  text-align: right;\n",
       "  white-space: pre-wrap;\n",
       "}\n",
       "</style>\n",
       "<small>shape: (2_438_018, 11)</small><table border=\"1\" class=\"dataframe\"><thead><tr><th>Title</th><th>User_id</th><th>score</th><th>time</th><th>summary</th><th>text</th><th>review_length</th><th>summary_length</th><th>sentiment_score</th><th>current_date</th><th>review_age_days</th></tr><tr><td>str</td><td>str</td><td>f64</td><td>date</td><td>str</td><td>str</td><td>u32</td><td>u32</td><td>f64</td><td>date</td><td>str</td></tr></thead><tbody><tr><td>&quot;Its Only Art If Its Well Hung!&quot;</td><td>&quot;AVCGYZL8FQQTD&quot;</td><td>4.0</td><td>1999-10-23</td><td>&quot;Nice collection of Julie Strai…</td><td>&quot;This is only for Julie Strain …</td><td>457</td><td>38</td><td>0.9408</td><td>2024-11-11</td><td>&quot;790646400000000000&quot;</td></tr><tr><td>&quot;Dr. Seuss: American Icon&quot;</td><td>&quot;A30TK6U7DNS82R&quot;</td><td>5.0</td><td>2004-09-21</td><td>&quot;Really Enjoyed It&quot;</td><td>&quot;I don&#x27;t care much for Dr. Seus…</td><td>1423</td><td>17</td><td>0.9876</td><td>2024-11-11</td><td>&quot;635558400000000000&quot;</td></tr><tr><td>&quot;Dr. Seuss: American Icon&quot;</td><td>&quot;A3UH4UZ4RSVO82&quot;</td><td>5.0</td><td>2004-03-09</td><td>&quot;Essential for every personal a…</td><td>&quot;If people become the books the…</td><td>1752</td><td>47</td><td>0.9935</td><td>2024-11-11</td><td>&quot;652492800000000000&quot;</td></tr><tr><td>&quot;Dr. Seuss: American Icon&quot;</td><td>&quot;A2MVUWT453QH61&quot;</td><td>4.0</td><td>2004-07-25</td><td>&quot;Phlip Nel gives silly Seuss a …</td><td>&quot;Theodore Seuss Geisel (1904-19…</td><td>3662</td><td>47</td><td>0.9807</td><td>2024-11-11</td><td>&quot;640569600000000000&quot;</td></tr><tr><td>&quot;Dr. Seuss: American Icon&quot;</td><td>&quot;A22X4XUPKF66MR&quot;</td><td>4.0</td><td>2005-02-10</td><td>&quot;Good academic overview&quot;</td><td>&quot;Philip Nel - Dr. Seuss: Americ…</td><td>1542</td><td>22</td><td>0.9803</td><td>2024-11-11</td><td>&quot;623289600000000000&quot;</td></tr><tr><td>&hellip;</td><td>&hellip;</td><td>&hellip;</td><td>&hellip;</td><td>&hellip;</td><td>&hellip;</td><td>&hellip;</td><td>&hellip;</td><td>&hellip;</td><td>&hellip;</td><td>&hellip;</td></tr><tr><td>&quot;The Idea of History&quot;</td><td>&quot;AI1QNMVF2E3TN&quot;</td><td>5.0</td><td>2003-07-01</td><td>&quot;R. G. Collingwood&#x27;s Most Famou…</td><td>&quot;Highly Recommended.This book i…</td><td>1632</td><td>36</td><td>0.9595</td><td>2024-11-11</td><td>&quot;674265600000000000&quot;</td></tr><tr><td>&quot;The Idea of History&quot;</td><td>&quot;AOFGOUMXLMVZS&quot;</td><td>4.0</td><td>2012-07-17</td><td>&quot;Thoughtful Critic of History&quot;</td><td>&quot;History is not a scientific pr…</td><td>12422</td><td>28</td><td>-0.9643</td><td>2024-11-11</td><td>&quot;388800000000000000&quot;</td></tr><tr><td>&quot;The Idea of History&quot;</td><td>&quot;A1SMUB9ASL5L9Y&quot;</td><td>4.0</td><td>2012-03-14</td><td>&quot;Quite good and ahead of its ti…</td><td>&quot;This is pretty interesting. Co…</td><td>597</td><td>45</td><td>0.875</td><td>2024-11-11</td><td>&quot;399600000000000000&quot;</td></tr><tr><td>&quot;The Idea of History&quot;</td><td>&quot;A2AQMEKZKK5EE4&quot;</td><td>4.0</td><td>2007-05-27</td><td>&quot;Easier reads of those not well…</td><td>&quot;This is a good book but very e…</td><td>161</td><td>55</td><td>0.6858</td><td>2024-11-11</td><td>&quot;551059200000000000&quot;</td></tr><tr><td>&quot;The Idea of History&quot;</td><td>&quot;A18SQGYBKS852K&quot;</td><td>5.0</td><td>2006-11-09</td><td>&quot;Yes, it is cheaper than the Un…</td><td>&quot;My daughter, a freshman at Ind…</td><td>258</td><td>48</td><td>0.0</td><td>2024-11-11</td><td>&quot;568252800000000000&quot;</td></tr></tbody></table></div>"
      ],
      "text/plain": [
       "shape: (2_438_018, 11)\n",
       "┌────────────┬────────────┬───────┬────────────┬───┬───────────┬───────────┬───────────┬───────────┐\n",
       "│ Title      ┆ User_id    ┆ score ┆ time       ┆ … ┆ summary_l ┆ sentiment ┆ current_d ┆ review_ag │\n",
       "│ ---        ┆ ---        ┆ ---   ┆ ---        ┆   ┆ ength     ┆ _score    ┆ ate       ┆ e_days    │\n",
       "│ str        ┆ str        ┆ f64   ┆ date       ┆   ┆ ---       ┆ ---       ┆ ---       ┆ ---       │\n",
       "│            ┆            ┆       ┆            ┆   ┆ u32       ┆ f64       ┆ date      ┆ str       │\n",
       "╞════════════╪════════════╪═══════╪════════════╪═══╪═══════════╪═══════════╪═══════════╪═══════════╡\n",
       "│ Its Only   ┆ AVCGYZL8FQ ┆ 4.0   ┆ 1999-10-23 ┆ … ┆ 38        ┆ 0.9408    ┆ 2024-11-1 ┆ 790646400 │\n",
       "│ Art If Its ┆ QTD        ┆       ┆            ┆   ┆           ┆           ┆ 1         ┆ 000000000 │\n",
       "│ Well Hung! ┆            ┆       ┆            ┆   ┆           ┆           ┆           ┆           │\n",
       "│ Dr. Seuss: ┆ A30TK6U7DN ┆ 5.0   ┆ 2004-09-21 ┆ … ┆ 17        ┆ 0.9876    ┆ 2024-11-1 ┆ 635558400 │\n",
       "│ American   ┆ S82R       ┆       ┆            ┆   ┆           ┆           ┆ 1         ┆ 000000000 │\n",
       "│ Icon       ┆            ┆       ┆            ┆   ┆           ┆           ┆           ┆           │\n",
       "│ Dr. Seuss: ┆ A3UH4UZ4RS ┆ 5.0   ┆ 2004-03-09 ┆ … ┆ 47        ┆ 0.9935    ┆ 2024-11-1 ┆ 652492800 │\n",
       "│ American   ┆ VO82       ┆       ┆            ┆   ┆           ┆           ┆ 1         ┆ 000000000 │\n",
       "│ Icon       ┆            ┆       ┆            ┆   ┆           ┆           ┆           ┆           │\n",
       "│ Dr. Seuss: ┆ A2MVUWT453 ┆ 4.0   ┆ 2004-07-25 ┆ … ┆ 47        ┆ 0.9807    ┆ 2024-11-1 ┆ 640569600 │\n",
       "│ American   ┆ QH61       ┆       ┆            ┆   ┆           ┆           ┆ 1         ┆ 000000000 │\n",
       "│ Icon       ┆            ┆       ┆            ┆   ┆           ┆           ┆           ┆           │\n",
       "│ Dr. Seuss: ┆ A22X4XUPKF ┆ 4.0   ┆ 2005-02-10 ┆ … ┆ 22        ┆ 0.9803    ┆ 2024-11-1 ┆ 623289600 │\n",
       "│ American   ┆ 66MR       ┆       ┆            ┆   ┆           ┆           ┆ 1         ┆ 000000000 │\n",
       "│ Icon       ┆            ┆       ┆            ┆   ┆           ┆           ┆           ┆           │\n",
       "│ …          ┆ …          ┆ …     ┆ …          ┆ … ┆ …         ┆ …         ┆ …         ┆ …         │\n",
       "│ The Idea   ┆ AI1QNMVF2E ┆ 5.0   ┆ 2003-07-01 ┆ … ┆ 36        ┆ 0.9595    ┆ 2024-11-1 ┆ 674265600 │\n",
       "│ of History ┆ 3TN        ┆       ┆            ┆   ┆           ┆           ┆ 1         ┆ 000000000 │\n",
       "│ The Idea   ┆ AOFGOUMXLM ┆ 4.0   ┆ 2012-07-17 ┆ … ┆ 28        ┆ -0.9643   ┆ 2024-11-1 ┆ 388800000 │\n",
       "│ of History ┆ VZS        ┆       ┆            ┆   ┆           ┆           ┆ 1         ┆ 000000000 │\n",
       "│ The Idea   ┆ A1SMUB9ASL ┆ 4.0   ┆ 2012-03-14 ┆ … ┆ 45        ┆ 0.875     ┆ 2024-11-1 ┆ 399600000 │\n",
       "│ of History ┆ 5L9Y       ┆       ┆            ┆   ┆           ┆           ┆ 1         ┆ 000000000 │\n",
       "│ The Idea   ┆ A2AQMEKZKK ┆ 4.0   ┆ 2007-05-27 ┆ … ┆ 55        ┆ 0.6858    ┆ 2024-11-1 ┆ 551059200 │\n",
       "│ of History ┆ 5EE4       ┆       ┆            ┆   ┆           ┆           ┆ 1         ┆ 000000000 │\n",
       "│ The Idea   ┆ A18SQGYBKS ┆ 5.0   ┆ 2006-11-09 ┆ … ┆ 48        ┆ 0.0       ┆ 2024-11-1 ┆ 568252800 │\n",
       "│ of History ┆ 852K       ┆       ┆            ┆   ┆           ┆           ┆ 1         ┆ 000000000 │\n",
       "└────────────┴────────────┴───────┴────────────┴───┴───────────┴───────────┴───────────┴───────────┘"
      ]
     },
     "execution_count": 111,
     "metadata": {},
     "output_type": "execute_result"
    }
   ],
   "source": [
    "reviews"
   ]
  },
  {
   "cell_type": "code",
   "execution_count": 62,
   "metadata": {},
   "outputs": [
    {
     "data": {
      "text/html": [
       "<div><style>\n",
       ".dataframe > thead > tr,\n",
       ".dataframe > tbody > tr {\n",
       "  text-align: right;\n",
       "  white-space: pre-wrap;\n",
       "}\n",
       "</style>\n",
       "<small>shape: (2_438_018, 11)</small><table border=\"1\" class=\"dataframe\"><thead><tr><th>Title</th><th>User_id</th><th>score</th><th>time</th><th>summary</th><th>text</th><th>review_length</th><th>summary_length</th><th>sentiment_score</th><th>current_date</th><th>review_age_days</th></tr><tr><td>str</td><td>str</td><td>f64</td><td>date</td><td>str</td><td>str</td><td>u32</td><td>u32</td><td>f64</td><td>date</td><td>duration[ms]</td></tr></thead><tbody><tr><td>&quot;Its Only Art If Its Well Hung!&quot;</td><td>&quot;AVCGYZL8FQQTD&quot;</td><td>4.0</td><td>1999-10-23</td><td>&quot;Nice collection of Julie Strai…</td><td>&quot;This is only for Julie Strain …</td><td>457</td><td>38</td><td>0.9408</td><td>2024-11-11</td><td>9151d</td></tr><tr><td>&quot;Dr. Seuss: American Icon&quot;</td><td>&quot;A30TK6U7DNS82R&quot;</td><td>5.0</td><td>2004-09-21</td><td>&quot;Really Enjoyed It&quot;</td><td>&quot;I don&#x27;t care much for Dr. Seus…</td><td>1423</td><td>17</td><td>0.9876</td><td>2024-11-11</td><td>7356d</td></tr><tr><td>&quot;Dr. Seuss: American Icon&quot;</td><td>&quot;A3UH4UZ4RSVO82&quot;</td><td>5.0</td><td>2004-03-09</td><td>&quot;Essential for every personal a…</td><td>&quot;If people become the books the…</td><td>1752</td><td>47</td><td>0.9935</td><td>2024-11-11</td><td>7552d</td></tr><tr><td>&quot;Dr. Seuss: American Icon&quot;</td><td>&quot;A2MVUWT453QH61&quot;</td><td>4.0</td><td>2004-07-25</td><td>&quot;Phlip Nel gives silly Seuss a …</td><td>&quot;Theodore Seuss Geisel (1904-19…</td><td>3662</td><td>47</td><td>0.9807</td><td>2024-11-11</td><td>7414d</td></tr><tr><td>&quot;Dr. Seuss: American Icon&quot;</td><td>&quot;A22X4XUPKF66MR&quot;</td><td>4.0</td><td>2005-02-10</td><td>&quot;Good academic overview&quot;</td><td>&quot;Philip Nel - Dr. Seuss: Americ…</td><td>1542</td><td>22</td><td>0.9803</td><td>2024-11-11</td><td>7214d</td></tr><tr><td>&hellip;</td><td>&hellip;</td><td>&hellip;</td><td>&hellip;</td><td>&hellip;</td><td>&hellip;</td><td>&hellip;</td><td>&hellip;</td><td>&hellip;</td><td>&hellip;</td><td>&hellip;</td></tr><tr><td>&quot;The Idea of History&quot;</td><td>&quot;AI1QNMVF2E3TN&quot;</td><td>5.0</td><td>2003-07-01</td><td>&quot;R. G. Collingwood&#x27;s Most Famou…</td><td>&quot;Highly Recommended.This book i…</td><td>1632</td><td>36</td><td>0.9595</td><td>2024-11-11</td><td>7804d</td></tr><tr><td>&quot;The Idea of History&quot;</td><td>&quot;AOFGOUMXLMVZS&quot;</td><td>4.0</td><td>2012-07-17</td><td>&quot;Thoughtful Critic of History&quot;</td><td>&quot;History is not a scientific pr…</td><td>12422</td><td>28</td><td>-0.9643</td><td>2024-11-11</td><td>4500d</td></tr><tr><td>&quot;The Idea of History&quot;</td><td>&quot;A1SMUB9ASL5L9Y&quot;</td><td>4.0</td><td>2012-03-14</td><td>&quot;Quite good and ahead of its ti…</td><td>&quot;This is pretty interesting. Co…</td><td>597</td><td>45</td><td>0.875</td><td>2024-11-11</td><td>4625d</td></tr><tr><td>&quot;The Idea of History&quot;</td><td>&quot;A2AQMEKZKK5EE4&quot;</td><td>4.0</td><td>2007-05-27</td><td>&quot;Easier reads of those not well…</td><td>&quot;This is a good book but very e…</td><td>161</td><td>55</td><td>0.6858</td><td>2024-11-11</td><td>6378d</td></tr><tr><td>&quot;The Idea of History&quot;</td><td>&quot;A18SQGYBKS852K&quot;</td><td>5.0</td><td>2006-11-09</td><td>&quot;Yes, it is cheaper than the Un…</td><td>&quot;My daughter, a freshman at Ind…</td><td>258</td><td>48</td><td>0.0</td><td>2024-11-11</td><td>6577d</td></tr></tbody></table></div>"
      ],
      "text/plain": [
       "shape: (2_438_018, 11)\n",
       "┌────────────┬────────────┬───────┬────────────┬───┬───────────┬───────────┬───────────┬───────────┐\n",
       "│ Title      ┆ User_id    ┆ score ┆ time       ┆ … ┆ summary_l ┆ sentiment ┆ current_d ┆ review_ag │\n",
       "│ ---        ┆ ---        ┆ ---   ┆ ---        ┆   ┆ ength     ┆ _score    ┆ ate       ┆ e_days    │\n",
       "│ str        ┆ str        ┆ f64   ┆ date       ┆   ┆ ---       ┆ ---       ┆ ---       ┆ ---       │\n",
       "│            ┆            ┆       ┆            ┆   ┆ u32       ┆ f64       ┆ date      ┆ duration[ │\n",
       "│            ┆            ┆       ┆            ┆   ┆           ┆           ┆           ┆ ms]       │\n",
       "╞════════════╪════════════╪═══════╪════════════╪═══╪═══════════╪═══════════╪═══════════╪═══════════╡\n",
       "│ Its Only   ┆ AVCGYZL8FQ ┆ 4.0   ┆ 1999-10-23 ┆ … ┆ 38        ┆ 0.9408    ┆ 2024-11-1 ┆ 9151d     │\n",
       "│ Art If Its ┆ QTD        ┆       ┆            ┆   ┆           ┆           ┆ 1         ┆           │\n",
       "│ Well Hung! ┆            ┆       ┆            ┆   ┆           ┆           ┆           ┆           │\n",
       "│ Dr. Seuss: ┆ A30TK6U7DN ┆ 5.0   ┆ 2004-09-21 ┆ … ┆ 17        ┆ 0.9876    ┆ 2024-11-1 ┆ 7356d     │\n",
       "│ American   ┆ S82R       ┆       ┆            ┆   ┆           ┆           ┆ 1         ┆           │\n",
       "│ Icon       ┆            ┆       ┆            ┆   ┆           ┆           ┆           ┆           │\n",
       "│ Dr. Seuss: ┆ A3UH4UZ4RS ┆ 5.0   ┆ 2004-03-09 ┆ … ┆ 47        ┆ 0.9935    ┆ 2024-11-1 ┆ 7552d     │\n",
       "│ American   ┆ VO82       ┆       ┆            ┆   ┆           ┆           ┆ 1         ┆           │\n",
       "│ Icon       ┆            ┆       ┆            ┆   ┆           ┆           ┆           ┆           │\n",
       "│ Dr. Seuss: ┆ A2MVUWT453 ┆ 4.0   ┆ 2004-07-25 ┆ … ┆ 47        ┆ 0.9807    ┆ 2024-11-1 ┆ 7414d     │\n",
       "│ American   ┆ QH61       ┆       ┆            ┆   ┆           ┆           ┆ 1         ┆           │\n",
       "│ Icon       ┆            ┆       ┆            ┆   ┆           ┆           ┆           ┆           │\n",
       "│ Dr. Seuss: ┆ A22X4XUPKF ┆ 4.0   ┆ 2005-02-10 ┆ … ┆ 22        ┆ 0.9803    ┆ 2024-11-1 ┆ 7214d     │\n",
       "│ American   ┆ 66MR       ┆       ┆            ┆   ┆           ┆           ┆ 1         ┆           │\n",
       "│ Icon       ┆            ┆       ┆            ┆   ┆           ┆           ┆           ┆           │\n",
       "│ …          ┆ …          ┆ …     ┆ …          ┆ … ┆ …         ┆ …         ┆ …         ┆ …         │\n",
       "│ The Idea   ┆ AI1QNMVF2E ┆ 5.0   ┆ 2003-07-01 ┆ … ┆ 36        ┆ 0.9595    ┆ 2024-11-1 ┆ 7804d     │\n",
       "│ of History ┆ 3TN        ┆       ┆            ┆   ┆           ┆           ┆ 1         ┆           │\n",
       "│ The Idea   ┆ AOFGOUMXLM ┆ 4.0   ┆ 2012-07-17 ┆ … ┆ 28        ┆ -0.9643   ┆ 2024-11-1 ┆ 4500d     │\n",
       "│ of History ┆ VZS        ┆       ┆            ┆   ┆           ┆           ┆ 1         ┆           │\n",
       "│ The Idea   ┆ A1SMUB9ASL ┆ 4.0   ┆ 2012-03-14 ┆ … ┆ 45        ┆ 0.875     ┆ 2024-11-1 ┆ 4625d     │\n",
       "│ of History ┆ 5L9Y       ┆       ┆            ┆   ┆           ┆           ┆ 1         ┆           │\n",
       "│ The Idea   ┆ A2AQMEKZKK ┆ 4.0   ┆ 2007-05-27 ┆ … ┆ 55        ┆ 0.6858    ┆ 2024-11-1 ┆ 6378d     │\n",
       "│ of History ┆ 5EE4       ┆       ┆            ┆   ┆           ┆           ┆ 1         ┆           │\n",
       "│ The Idea   ┆ A18SQGYBKS ┆ 5.0   ┆ 2006-11-09 ┆ … ┆ 48        ┆ 0.0       ┆ 2024-11-1 ┆ 6577d     │\n",
       "│ of History ┆ 852K       ┆       ┆            ┆   ┆           ┆           ┆ 1         ┆           │\n",
       "└────────────┴────────────┴───────┴────────────┴───┴───────────┴───────────┴───────────┴───────────┘"
      ]
     },
     "execution_count": 62,
     "metadata": {},
     "output_type": "execute_result"
    }
   ],
   "source": [
    "reviews"
   ]
  },
  {
   "cell_type": "code",
   "execution_count": 74,
   "metadata": {},
   "outputs": [
    {
     "name": "stderr",
     "output_type": "stream",
     "text": [
      "INFO - Average rating per book calculated successfully.\n"
     ]
    }
   ],
   "source": [
    "try:\n",
    "    avg_ratings = reviews.group_by(\"Title\").agg(pl.col(\"score\").mean().alias(\"avg_score\"))\n",
    "    books_info = books_info.join(avg_ratings, on=\"Title\", how=\"left\")\n",
    "    logger.info(\"Average rating per book calculated successfully.\")\n",
    "except Exception as e:\n",
    "    logger.error(f\"Error in average rating calculation: {e}\")\n"
   ]
  },
  {
   "cell_type": "code",
   "execution_count": 76,
   "metadata": {},
   "outputs": [
    {
     "data": {
      "text/html": [
       "<div><style>\n",
       ".dataframe > thead > tr,\n",
       ".dataframe > tbody > tr {\n",
       "  text-align: right;\n",
       "  white-space: pre-wrap;\n",
       "}\n",
       "</style>\n",
       "<small>shape: (212_403, 7)</small><table border=\"1\" class=\"dataframe\"><thead><tr><th>Title</th><th>description</th><th>authors</th><th>publisher</th><th>publishedDate</th><th>categories</th><th>avg_score</th></tr><tr><td>str</td><td>str</td><td>str</td><td>str</td><td>str</td><td>str</td><td>f64</td></tr></thead><tbody><tr><td>&quot;Its Only Art If Its Well Hung!&quot;</td><td>&quot;Unknown&quot;</td><td>&quot;[&#x27;Julie Strain&#x27;]&quot;</td><td>&quot;Unknown&quot;</td><td>&quot;1996&quot;</td><td>&quot;[&#x27;Comics &amp; Graphic Novels&#x27;]&quot;</td><td>4.0</td></tr><tr><td>&quot;Dr. Seuss: American Icon&quot;</td><td>&quot;Philip Nel takes a fascinating…</td><td>&quot;[&#x27;Philip Nel&#x27;]&quot;</td><td>&quot;A&amp;C Black&quot;</td><td>&quot;2005-01-01&quot;</td><td>&quot;[&#x27;Biography &amp; Autobiography&#x27;]&quot;</td><td>4.555556</td></tr><tr><td>&quot;Wonderful Worship in Smaller C…</td><td>&quot;This resource includes twelve …</td><td>&quot;[&#x27;David R. Ray&#x27;]&quot;</td><td>&quot;Unknown&quot;</td><td>&quot;2000&quot;</td><td>&quot;[&#x27;Religion&#x27;]&quot;</td><td>5.0</td></tr><tr><td>&quot;Whispers of the Wicked Saints&quot;</td><td>&quot;Julia Thomas finds her life sp…</td><td>&quot;[&#x27;Veronica Haddon&#x27;]&quot;</td><td>&quot;iUniverse&quot;</td><td>&quot;2005-02&quot;</td><td>&quot;[&#x27;Fiction&#x27;]&quot;</td><td>3.71875</td></tr><tr><td>&quot;Nation Dance: Religion, Identi…</td><td>&quot;Unknown&quot;</td><td>&quot;[&#x27;Edward Long&#x27;]&quot;</td><td>&quot;Unknown&quot;</td><td>&quot;2003-03-01&quot;</td><td>&quot;Uncategorized&quot;</td><td>5.0</td></tr><tr><td>&hellip;</td><td>&hellip;</td><td>&hellip;</td><td>&hellip;</td><td>&hellip;</td><td>&hellip;</td><td>&hellip;</td></tr><tr><td>&quot;The Orphan Of Ellis Island (Ti…</td><td>&quot;During a school trip to Ellis …</td><td>&quot;[&#x27;Elvira Woodruff&#x27;]&quot;</td><td>&quot;Scholastic Paperbacks&quot;</td><td>&quot;2000-06-01&quot;</td><td>&quot;[&#x27;Juvenile Fiction&#x27;]&quot;</td><td>4.5</td></tr><tr><td>&quot;Red Boots for Christmas&quot;</td><td>&quot;Everyone in the village of Fri…</td><td>&quot;Unknown&quot;</td><td>&quot;Unknown&quot;</td><td>&quot;1995&quot;</td><td>&quot;[&#x27;Juvenile Fiction&#x27;]&quot;</td><td>5.0</td></tr><tr><td>&quot;Mamaw&quot;</td><td>&quot;Give your Mamaw a useful, beau…</td><td>&quot;[&#x27;Wild Wild Cabbage&#x27;]&quot;</td><td>&quot;Unknown&quot;</td><td>&quot;2018-01-17&quot;</td><td>&quot;Uncategorized&quot;</td><td>5.0</td></tr><tr><td>&quot;The Autograph Man&quot;</td><td>&quot;Alex-Li Tandem sells autograph…</td><td>&quot;[&#x27;Zadie Smith&#x27;]&quot;</td><td>&quot;Vintage&quot;</td><td>&quot;2003-08-12&quot;</td><td>&quot;[&#x27;Fiction&#x27;]&quot;</td><td>2.5</td></tr><tr><td>&quot;Student&#x27;s Solutions Manual for…</td><td>&quot;Discover the many ways mathema…</td><td>&quot;[&#x27;David B. Johnson&#x27;, &#x27;Thomas A…</td><td>&quot;Brooks/Cole Publishing Company&quot;</td><td>&quot;1998-01-01&quot;</td><td>&quot;Uncategorized&quot;</td><td>2.666667</td></tr></tbody></table></div>"
      ],
      "text/plain": [
       "shape: (212_403, 7)\n",
       "┌──────────────┬──────────────┬──────────────┬─────────────┬─────────────┬─────────────┬───────────┐\n",
       "│ Title        ┆ description  ┆ authors      ┆ publisher   ┆ publishedDa ┆ categories  ┆ avg_score │\n",
       "│ ---          ┆ ---          ┆ ---          ┆ ---         ┆ te          ┆ ---         ┆ ---       │\n",
       "│ str          ┆ str          ┆ str          ┆ str         ┆ ---         ┆ str         ┆ f64       │\n",
       "│              ┆              ┆              ┆             ┆ str         ┆             ┆           │\n",
       "╞══════════════╪══════════════╪══════════════╪═════════════╪═════════════╪═════════════╪═══════════╡\n",
       "│ Its Only Art ┆ Unknown      ┆ ['Julie      ┆ Unknown     ┆ 1996        ┆ ['Comics &  ┆ 4.0       │\n",
       "│ If Its Well  ┆              ┆ Strain']     ┆             ┆             ┆ Graphic     ┆           │\n",
       "│ Hung!        ┆              ┆              ┆             ┆             ┆ Novels']    ┆           │\n",
       "│ Dr. Seuss:   ┆ Philip Nel   ┆ ['Philip     ┆ A&C Black   ┆ 2005-01-01  ┆ ['Biography ┆ 4.555556  │\n",
       "│ American     ┆ takes a      ┆ Nel']        ┆             ┆             ┆ & Autobiogr ┆           │\n",
       "│ Icon         ┆ fascinating… ┆              ┆             ┆             ┆ aphy']      ┆           │\n",
       "│ Wonderful    ┆ This         ┆ ['David R.   ┆ Unknown     ┆ 2000        ┆ ['Religion' ┆ 5.0       │\n",
       "│ Worship in   ┆ resource     ┆ Ray']        ┆             ┆             ┆ ]           ┆           │\n",
       "│ Smaller C…   ┆ includes     ┆              ┆             ┆             ┆             ┆           │\n",
       "│              ┆ twelve …     ┆              ┆             ┆             ┆             ┆           │\n",
       "│ Whispers of  ┆ Julia Thomas ┆ ['Veronica   ┆ iUniverse   ┆ 2005-02     ┆ ['Fiction'] ┆ 3.71875   │\n",
       "│ the Wicked   ┆ finds her    ┆ Haddon']     ┆             ┆             ┆             ┆           │\n",
       "│ Saints       ┆ life sp…     ┆              ┆             ┆             ┆             ┆           │\n",
       "│ Nation       ┆ Unknown      ┆ ['Edward     ┆ Unknown     ┆ 2003-03-01  ┆ Uncategoriz ┆ 5.0       │\n",
       "│ Dance:       ┆              ┆ Long']       ┆             ┆             ┆ ed          ┆           │\n",
       "│ Religion,    ┆              ┆              ┆             ┆             ┆             ┆           │\n",
       "│ Identi…      ┆              ┆              ┆             ┆             ┆             ┆           │\n",
       "│ …            ┆ …            ┆ …            ┆ …           ┆ …           ┆ …           ┆ …         │\n",
       "│ The Orphan   ┆ During a     ┆ ['Elvira     ┆ Scholastic  ┆ 2000-06-01  ┆ ['Juvenile  ┆ 4.5       │\n",
       "│ Of Ellis     ┆ school trip  ┆ Woodruff']   ┆ Paperbacks  ┆             ┆ Fiction']   ┆           │\n",
       "│ Island (Ti…  ┆ to Ellis …   ┆              ┆             ┆             ┆             ┆           │\n",
       "│ Red Boots    ┆ Everyone in  ┆ Unknown      ┆ Unknown     ┆ 1995        ┆ ['Juvenile  ┆ 5.0       │\n",
       "│ for          ┆ the village  ┆              ┆             ┆             ┆ Fiction']   ┆           │\n",
       "│ Christmas    ┆ of Fri…      ┆              ┆             ┆             ┆             ┆           │\n",
       "│ Mamaw        ┆ Give your    ┆ ['Wild Wild  ┆ Unknown     ┆ 2018-01-17  ┆ Uncategoriz ┆ 5.0       │\n",
       "│              ┆ Mamaw a      ┆ Cabbage']    ┆             ┆             ┆ ed          ┆           │\n",
       "│              ┆ useful,      ┆              ┆             ┆             ┆             ┆           │\n",
       "│              ┆ beau…        ┆              ┆             ┆             ┆             ┆           │\n",
       "│ The          ┆ Alex-Li      ┆ ['Zadie      ┆ Vintage     ┆ 2003-08-12  ┆ ['Fiction'] ┆ 2.5       │\n",
       "│ Autograph    ┆ Tandem sells ┆ Smith']      ┆             ┆             ┆             ┆           │\n",
       "│ Man          ┆ autograph…   ┆              ┆             ┆             ┆             ┆           │\n",
       "│ Student's    ┆ Discover the ┆ ['David B.   ┆ Brooks/Cole ┆ 1998-01-01  ┆ Uncategoriz ┆ 2.666667  │\n",
       "│ Solutions    ┆ many ways    ┆ Johnson',    ┆ Publishing  ┆             ┆ ed          ┆           │\n",
       "│ Manual for…  ┆ mathema…     ┆ 'Thomas A…   ┆ Company     ┆             ┆             ┆           │\n",
       "└──────────────┴──────────────┴──────────────┴─────────────┴─────────────┴─────────────┴───────────┘"
      ]
     },
     "execution_count": 76,
     "metadata": {},
     "output_type": "execute_result"
    }
   ],
   "source": [
    "books_info"
   ]
  },
  {
   "cell_type": "code",
   "execution_count": 110,
   "metadata": {},
   "outputs": [
    {
     "name": "stderr",
     "output_type": "stream",
     "text": [
      "INFO - Review count per book calculated successfully.\n"
     ]
    }
   ],
   "source": [
    "try:\n",
    "    author_review_counts = reviews.group_by(\"Title\").len()\n",
    "    books_info = books_info.join(author_review_counts, on=\"Title\", how=\"left\")\n",
    "    logger.info(\"Review count per book calculated successfully.\")\n",
    "except Exception as e:\n",
    "    logger.error(f\"Error in review count calculation: {e}\")\n"
   ]
  },
  {
   "cell_type": "code",
   "execution_count": 79,
   "metadata": {},
   "outputs": [
    {
     "data": {
      "text/html": [
       "<div><style>\n",
       ".dataframe > thead > tr,\n",
       ".dataframe > tbody > tr {\n",
       "  text-align: right;\n",
       "  white-space: pre-wrap;\n",
       "}\n",
       "</style>\n",
       "<small>shape: (206_711, 2)</small><table border=\"1\" class=\"dataframe\"><thead><tr><th>Title</th><th>count</th></tr><tr><td>str</td><td>u32</td></tr></thead><tbody><tr><td>&quot;Fast Food for the Soul:&quot;</td><td>9</td></tr><tr><td>&quot;Teaching Developmental Reading…</td><td>1</td></tr><tr><td>&quot;Who&#x27;s Grace? (John Smyth Myste…</td><td>3</td></tr><tr><td>&quot;The adventures of Jerry Muskra…</td><td>8</td></tr><tr><td>&quot;The Ice Mask (Severn House Lar…</td><td>1</td></tr><tr><td>&hellip;</td><td>&hellip;</td></tr><tr><td>&quot;Jackie: A Life in Pictures&quot;</td><td>7</td></tr><tr><td>&quot;Flik&#x27;s Perfect Gift (Disney&#x27;s …</td><td>1</td></tr><tr><td>&quot;Minute for Murder&quot;</td><td>1</td></tr><tr><td>&quot;How to Repair and Maintain Ame…</td><td>5</td></tr><tr><td>&quot;Male Model&quot;</td><td>17</td></tr></tbody></table></div>"
      ],
      "text/plain": [
       "shape: (206_711, 2)\n",
       "┌─────────────────────────────────┬───────┐\n",
       "│ Title                           ┆ count │\n",
       "│ ---                             ┆ ---   │\n",
       "│ str                             ┆ u32   │\n",
       "╞═════════════════════════════════╪═══════╡\n",
       "│ Fast Food for the Soul:         ┆ 9     │\n",
       "│ Teaching Developmental Reading… ┆ 1     │\n",
       "│ Who's Grace? (John Smyth Myste… ┆ 3     │\n",
       "│ The adventures of Jerry Muskra… ┆ 8     │\n",
       "│ The Ice Mask (Severn House Lar… ┆ 1     │\n",
       "│ …                               ┆ …     │\n",
       "│ Jackie: A Life in Pictures      ┆ 7     │\n",
       "│ Flik's Perfect Gift (Disney's … ┆ 1     │\n",
       "│ Minute for Murder               ┆ 1     │\n",
       "│ How to Repair and Maintain Ame… ┆ 5     │\n",
       "│ Male Model                      ┆ 17    │\n",
       "└─────────────────────────────────┴───────┘"
      ]
     },
     "execution_count": 79,
     "metadata": {},
     "output_type": "execute_result"
    }
   ],
   "source": [
    "author_review_counts"
   ]
  },
  {
   "cell_type": "code",
   "execution_count": 80,
   "metadata": {},
   "outputs": [
    {
     "data": {
      "text/html": [
       "<div><style>\n",
       ".dataframe > thead > tr,\n",
       ".dataframe > tbody > tr {\n",
       "  text-align: right;\n",
       "  white-space: pre-wrap;\n",
       "}\n",
       "</style>\n",
       "<small>shape: (212_403, 8)</small><table border=\"1\" class=\"dataframe\"><thead><tr><th>Title</th><th>description</th><th>authors</th><th>publisher</th><th>publishedDate</th><th>categories</th><th>avg_score</th><th>count</th></tr><tr><td>str</td><td>str</td><td>str</td><td>str</td><td>str</td><td>str</td><td>f64</td><td>u32</td></tr></thead><tbody><tr><td>&quot;Its Only Art If Its Well Hung!&quot;</td><td>&quot;Unknown&quot;</td><td>&quot;[&#x27;Julie Strain&#x27;]&quot;</td><td>&quot;Unknown&quot;</td><td>&quot;1996&quot;</td><td>&quot;[&#x27;Comics &amp; Graphic Novels&#x27;]&quot;</td><td>4.0</td><td>1</td></tr><tr><td>&quot;Dr. Seuss: American Icon&quot;</td><td>&quot;Philip Nel takes a fascinating…</td><td>&quot;[&#x27;Philip Nel&#x27;]&quot;</td><td>&quot;A&amp;C Black&quot;</td><td>&quot;2005-01-01&quot;</td><td>&quot;[&#x27;Biography &amp; Autobiography&#x27;]&quot;</td><td>4.555556</td><td>9</td></tr><tr><td>&quot;Wonderful Worship in Smaller C…</td><td>&quot;This resource includes twelve …</td><td>&quot;[&#x27;David R. Ray&#x27;]&quot;</td><td>&quot;Unknown&quot;</td><td>&quot;2000&quot;</td><td>&quot;[&#x27;Religion&#x27;]&quot;</td><td>5.0</td><td>4</td></tr><tr><td>&quot;Whispers of the Wicked Saints&quot;</td><td>&quot;Julia Thomas finds her life sp…</td><td>&quot;[&#x27;Veronica Haddon&#x27;]&quot;</td><td>&quot;iUniverse&quot;</td><td>&quot;2005-02&quot;</td><td>&quot;[&#x27;Fiction&#x27;]&quot;</td><td>3.71875</td><td>32</td></tr><tr><td>&quot;Nation Dance: Religion, Identi…</td><td>&quot;Unknown&quot;</td><td>&quot;[&#x27;Edward Long&#x27;]&quot;</td><td>&quot;Unknown&quot;</td><td>&quot;2003-03-01&quot;</td><td>&quot;Uncategorized&quot;</td><td>5.0</td><td>1</td></tr><tr><td>&hellip;</td><td>&hellip;</td><td>&hellip;</td><td>&hellip;</td><td>&hellip;</td><td>&hellip;</td><td>&hellip;</td><td>&hellip;</td></tr><tr><td>&quot;The Orphan Of Ellis Island (Ti…</td><td>&quot;During a school trip to Ellis …</td><td>&quot;[&#x27;Elvira Woodruff&#x27;]&quot;</td><td>&quot;Scholastic Paperbacks&quot;</td><td>&quot;2000-06-01&quot;</td><td>&quot;[&#x27;Juvenile Fiction&#x27;]&quot;</td><td>4.5</td><td>8</td></tr><tr><td>&quot;Red Boots for Christmas&quot;</td><td>&quot;Everyone in the village of Fri…</td><td>&quot;Unknown&quot;</td><td>&quot;Unknown&quot;</td><td>&quot;1995&quot;</td><td>&quot;[&#x27;Juvenile Fiction&#x27;]&quot;</td><td>5.0</td><td>1</td></tr><tr><td>&quot;Mamaw&quot;</td><td>&quot;Give your Mamaw a useful, beau…</td><td>&quot;[&#x27;Wild Wild Cabbage&#x27;]&quot;</td><td>&quot;Unknown&quot;</td><td>&quot;2018-01-17&quot;</td><td>&quot;Uncategorized&quot;</td><td>5.0</td><td>1</td></tr><tr><td>&quot;The Autograph Man&quot;</td><td>&quot;Alex-Li Tandem sells autograph…</td><td>&quot;[&#x27;Zadie Smith&#x27;]&quot;</td><td>&quot;Vintage&quot;</td><td>&quot;2003-08-12&quot;</td><td>&quot;[&#x27;Fiction&#x27;]&quot;</td><td>2.5</td><td>4</td></tr><tr><td>&quot;Student&#x27;s Solutions Manual for…</td><td>&quot;Discover the many ways mathema…</td><td>&quot;[&#x27;David B. Johnson&#x27;, &#x27;Thomas A…</td><td>&quot;Brooks/Cole Publishing Company&quot;</td><td>&quot;1998-01-01&quot;</td><td>&quot;Uncategorized&quot;</td><td>2.666667</td><td>3</td></tr></tbody></table></div>"
      ],
      "text/plain": [
       "shape: (212_403, 8)\n",
       "┌─────────────┬────────────┬────────────┬────────────┬────────────┬────────────┬───────────┬───────┐\n",
       "│ Title       ┆ descriptio ┆ authors    ┆ publisher  ┆ publishedD ┆ categories ┆ avg_score ┆ count │\n",
       "│ ---         ┆ n          ┆ ---        ┆ ---        ┆ ate        ┆ ---        ┆ ---       ┆ ---   │\n",
       "│ str         ┆ ---        ┆ str        ┆ str        ┆ ---        ┆ str        ┆ f64       ┆ u32   │\n",
       "│             ┆ str        ┆            ┆            ┆ str        ┆            ┆           ┆       │\n",
       "╞═════════════╪════════════╪════════════╪════════════╪════════════╪════════════╪═══════════╪═══════╡\n",
       "│ Its Only    ┆ Unknown    ┆ ['Julie    ┆ Unknown    ┆ 1996       ┆ ['Comics & ┆ 4.0       ┆ 1     │\n",
       "│ Art If Its  ┆            ┆ Strain']   ┆            ┆            ┆ Graphic    ┆           ┆       │\n",
       "│ Well Hung!  ┆            ┆            ┆            ┆            ┆ Novels']   ┆           ┆       │\n",
       "│ Dr. Seuss:  ┆ Philip Nel ┆ ['Philip   ┆ A&C Black  ┆ 2005-01-01 ┆ ['Biograph ┆ 4.555556  ┆ 9     │\n",
       "│ American    ┆ takes a    ┆ Nel']      ┆            ┆            ┆ y & Autobi ┆           ┆       │\n",
       "│ Icon        ┆ fascinatin ┆            ┆            ┆            ┆ ography']  ┆           ┆       │\n",
       "│             ┆ g…         ┆            ┆            ┆            ┆            ┆           ┆       │\n",
       "│ Wonderful   ┆ This       ┆ ['David R. ┆ Unknown    ┆ 2000       ┆ ['Religion ┆ 5.0       ┆ 4     │\n",
       "│ Worship in  ┆ resource   ┆ Ray']      ┆            ┆            ┆ ']         ┆           ┆       │\n",
       "│ Smaller C…  ┆ includes   ┆            ┆            ┆            ┆            ┆           ┆       │\n",
       "│             ┆ twelve …   ┆            ┆            ┆            ┆            ┆           ┆       │\n",
       "│ Whispers of ┆ Julia      ┆ ['Veronica ┆ iUniverse  ┆ 2005-02    ┆ ['Fiction' ┆ 3.71875   ┆ 32    │\n",
       "│ the Wicked  ┆ Thomas     ┆ Haddon']   ┆            ┆            ┆ ]          ┆           ┆       │\n",
       "│ Saints      ┆ finds her  ┆            ┆            ┆            ┆            ┆           ┆       │\n",
       "│             ┆ life sp…   ┆            ┆            ┆            ┆            ┆           ┆       │\n",
       "│ Nation      ┆ Unknown    ┆ ['Edward   ┆ Unknown    ┆ 2003-03-01 ┆ Uncategori ┆ 5.0       ┆ 1     │\n",
       "│ Dance:      ┆            ┆ Long']     ┆            ┆            ┆ zed        ┆           ┆       │\n",
       "│ Religion,   ┆            ┆            ┆            ┆            ┆            ┆           ┆       │\n",
       "│ Identi…     ┆            ┆            ┆            ┆            ┆            ┆           ┆       │\n",
       "│ …           ┆ …          ┆ …          ┆ …          ┆ …          ┆ …          ┆ …         ┆ …     │\n",
       "│ The Orphan  ┆ During a   ┆ ['Elvira   ┆ Scholastic ┆ 2000-06-01 ┆ ['Juvenile ┆ 4.5       ┆ 8     │\n",
       "│ Of Ellis    ┆ school     ┆ Woodruff'] ┆ Paperbacks ┆            ┆ Fiction']  ┆           ┆       │\n",
       "│ Island (Ti… ┆ trip to    ┆            ┆            ┆            ┆            ┆           ┆       │\n",
       "│             ┆ Ellis …    ┆            ┆            ┆            ┆            ┆           ┆       │\n",
       "│ Red Boots   ┆ Everyone   ┆ Unknown    ┆ Unknown    ┆ 1995       ┆ ['Juvenile ┆ 5.0       ┆ 1     │\n",
       "│ for         ┆ in the     ┆            ┆            ┆            ┆ Fiction']  ┆           ┆       │\n",
       "│ Christmas   ┆ village of ┆            ┆            ┆            ┆            ┆           ┆       │\n",
       "│             ┆ Fri…       ┆            ┆            ┆            ┆            ┆           ┆       │\n",
       "│ Mamaw       ┆ Give your  ┆ ['Wild     ┆ Unknown    ┆ 2018-01-17 ┆ Uncategori ┆ 5.0       ┆ 1     │\n",
       "│             ┆ Mamaw a    ┆ Wild       ┆            ┆            ┆ zed        ┆           ┆       │\n",
       "│             ┆ useful,    ┆ Cabbage']  ┆            ┆            ┆            ┆           ┆       │\n",
       "│             ┆ beau…      ┆            ┆            ┆            ┆            ┆           ┆       │\n",
       "│ The         ┆ Alex-Li    ┆ ['Zadie    ┆ Vintage    ┆ 2003-08-12 ┆ ['Fiction' ┆ 2.5       ┆ 4     │\n",
       "│ Autograph   ┆ Tandem     ┆ Smith']    ┆            ┆            ┆ ]          ┆           ┆       │\n",
       "│ Man         ┆ sells      ┆            ┆            ┆            ┆            ┆           ┆       │\n",
       "│             ┆ autograph… ┆            ┆            ┆            ┆            ┆           ┆       │\n",
       "│ Student's   ┆ Discover   ┆ ['David B. ┆ Brooks/Col ┆ 1998-01-01 ┆ Uncategori ┆ 2.666667  ┆ 3     │\n",
       "│ Solutions   ┆ the many   ┆ Johnson',  ┆ e          ┆            ┆ zed        ┆           ┆       │\n",
       "│ Manual for… ┆ ways       ┆ 'Thomas A… ┆ Publishing ┆            ┆            ┆           ┆       │\n",
       "│             ┆ mathema…   ┆            ┆ Company    ┆            ┆            ┆           ┆       │\n",
       "└─────────────┴────────────┴────────────┴────────────┴────────────┴────────────┴───────────┴───────┘"
      ]
     },
     "execution_count": 80,
     "metadata": {},
     "output_type": "execute_result"
    }
   ],
   "source": [
    "books_info"
   ]
  },
  {
   "cell_type": "code",
   "execution_count": 82,
   "metadata": {},
   "outputs": [
    {
     "data": {
      "text/html": [
       "<div><style>\n",
       ".dataframe > thead > tr,\n",
       ".dataframe > tbody > tr {\n",
       "  text-align: right;\n",
       "  white-space: pre-wrap;\n",
       "}\n",
       "</style>\n",
       "<small>shape: (2_438_018, 11)</small><table border=\"1\" class=\"dataframe\"><thead><tr><th>Title</th><th>User_id</th><th>score</th><th>time</th><th>summary</th><th>text</th><th>review_length</th><th>summary_length</th><th>sentiment_score</th><th>current_date</th><th>review_age_days</th></tr><tr><td>str</td><td>str</td><td>f64</td><td>date</td><td>str</td><td>str</td><td>u32</td><td>u32</td><td>f64</td><td>date</td><td>duration[ms]</td></tr></thead><tbody><tr><td>&quot;Its Only Art If Its Well Hung!&quot;</td><td>&quot;AVCGYZL8FQQTD&quot;</td><td>4.0</td><td>1999-10-23</td><td>&quot;Nice collection of Julie Strai…</td><td>&quot;This is only for Julie Strain …</td><td>457</td><td>38</td><td>0.9408</td><td>2024-11-11</td><td>9151d</td></tr><tr><td>&quot;Dr. Seuss: American Icon&quot;</td><td>&quot;A30TK6U7DNS82R&quot;</td><td>5.0</td><td>2004-09-21</td><td>&quot;Really Enjoyed It&quot;</td><td>&quot;I don&#x27;t care much for Dr. Seus…</td><td>1423</td><td>17</td><td>0.9876</td><td>2024-11-11</td><td>7356d</td></tr><tr><td>&quot;Dr. Seuss: American Icon&quot;</td><td>&quot;A3UH4UZ4RSVO82&quot;</td><td>5.0</td><td>2004-03-09</td><td>&quot;Essential for every personal a…</td><td>&quot;If people become the books the…</td><td>1752</td><td>47</td><td>0.9935</td><td>2024-11-11</td><td>7552d</td></tr><tr><td>&quot;Dr. Seuss: American Icon&quot;</td><td>&quot;A2MVUWT453QH61&quot;</td><td>4.0</td><td>2004-07-25</td><td>&quot;Phlip Nel gives silly Seuss a …</td><td>&quot;Theodore Seuss Geisel (1904-19…</td><td>3662</td><td>47</td><td>0.9807</td><td>2024-11-11</td><td>7414d</td></tr><tr><td>&quot;Dr. Seuss: American Icon&quot;</td><td>&quot;A22X4XUPKF66MR&quot;</td><td>4.0</td><td>2005-02-10</td><td>&quot;Good academic overview&quot;</td><td>&quot;Philip Nel - Dr. Seuss: Americ…</td><td>1542</td><td>22</td><td>0.9803</td><td>2024-11-11</td><td>7214d</td></tr><tr><td>&hellip;</td><td>&hellip;</td><td>&hellip;</td><td>&hellip;</td><td>&hellip;</td><td>&hellip;</td><td>&hellip;</td><td>&hellip;</td><td>&hellip;</td><td>&hellip;</td><td>&hellip;</td></tr><tr><td>&quot;The Idea of History&quot;</td><td>&quot;AI1QNMVF2E3TN&quot;</td><td>5.0</td><td>2003-07-01</td><td>&quot;R. G. Collingwood&#x27;s Most Famou…</td><td>&quot;Highly Recommended.This book i…</td><td>1632</td><td>36</td><td>0.9595</td><td>2024-11-11</td><td>7804d</td></tr><tr><td>&quot;The Idea of History&quot;</td><td>&quot;AOFGOUMXLMVZS&quot;</td><td>4.0</td><td>2012-07-17</td><td>&quot;Thoughtful Critic of History&quot;</td><td>&quot;History is not a scientific pr…</td><td>12422</td><td>28</td><td>-0.9643</td><td>2024-11-11</td><td>4500d</td></tr><tr><td>&quot;The Idea of History&quot;</td><td>&quot;A1SMUB9ASL5L9Y&quot;</td><td>4.0</td><td>2012-03-14</td><td>&quot;Quite good and ahead of its ti…</td><td>&quot;This is pretty interesting. Co…</td><td>597</td><td>45</td><td>0.875</td><td>2024-11-11</td><td>4625d</td></tr><tr><td>&quot;The Idea of History&quot;</td><td>&quot;A2AQMEKZKK5EE4&quot;</td><td>4.0</td><td>2007-05-27</td><td>&quot;Easier reads of those not well…</td><td>&quot;This is a good book but very e…</td><td>161</td><td>55</td><td>0.6858</td><td>2024-11-11</td><td>6378d</td></tr><tr><td>&quot;The Idea of History&quot;</td><td>&quot;A18SQGYBKS852K&quot;</td><td>5.0</td><td>2006-11-09</td><td>&quot;Yes, it is cheaper than the Un…</td><td>&quot;My daughter, a freshman at Ind…</td><td>258</td><td>48</td><td>0.0</td><td>2024-11-11</td><td>6577d</td></tr></tbody></table></div>"
      ],
      "text/plain": [
       "shape: (2_438_018, 11)\n",
       "┌────────────┬────────────┬───────┬────────────┬───┬───────────┬───────────┬───────────┬───────────┐\n",
       "│ Title      ┆ User_id    ┆ score ┆ time       ┆ … ┆ summary_l ┆ sentiment ┆ current_d ┆ review_ag │\n",
       "│ ---        ┆ ---        ┆ ---   ┆ ---        ┆   ┆ ength     ┆ _score    ┆ ate       ┆ e_days    │\n",
       "│ str        ┆ str        ┆ f64   ┆ date       ┆   ┆ ---       ┆ ---       ┆ ---       ┆ ---       │\n",
       "│            ┆            ┆       ┆            ┆   ┆ u32       ┆ f64       ┆ date      ┆ duration[ │\n",
       "│            ┆            ┆       ┆            ┆   ┆           ┆           ┆           ┆ ms]       │\n",
       "╞════════════╪════════════╪═══════╪════════════╪═══╪═══════════╪═══════════╪═══════════╪═══════════╡\n",
       "│ Its Only   ┆ AVCGYZL8FQ ┆ 4.0   ┆ 1999-10-23 ┆ … ┆ 38        ┆ 0.9408    ┆ 2024-11-1 ┆ 9151d     │\n",
       "│ Art If Its ┆ QTD        ┆       ┆            ┆   ┆           ┆           ┆ 1         ┆           │\n",
       "│ Well Hung! ┆            ┆       ┆            ┆   ┆           ┆           ┆           ┆           │\n",
       "│ Dr. Seuss: ┆ A30TK6U7DN ┆ 5.0   ┆ 2004-09-21 ┆ … ┆ 17        ┆ 0.9876    ┆ 2024-11-1 ┆ 7356d     │\n",
       "│ American   ┆ S82R       ┆       ┆            ┆   ┆           ┆           ┆ 1         ┆           │\n",
       "│ Icon       ┆            ┆       ┆            ┆   ┆           ┆           ┆           ┆           │\n",
       "│ Dr. Seuss: ┆ A3UH4UZ4RS ┆ 5.0   ┆ 2004-03-09 ┆ … ┆ 47        ┆ 0.9935    ┆ 2024-11-1 ┆ 7552d     │\n",
       "│ American   ┆ VO82       ┆       ┆            ┆   ┆           ┆           ┆ 1         ┆           │\n",
       "│ Icon       ┆            ┆       ┆            ┆   ┆           ┆           ┆           ┆           │\n",
       "│ Dr. Seuss: ┆ A2MVUWT453 ┆ 4.0   ┆ 2004-07-25 ┆ … ┆ 47        ┆ 0.9807    ┆ 2024-11-1 ┆ 7414d     │\n",
       "│ American   ┆ QH61       ┆       ┆            ┆   ┆           ┆           ┆ 1         ┆           │\n",
       "│ Icon       ┆            ┆       ┆            ┆   ┆           ┆           ┆           ┆           │\n",
       "│ Dr. Seuss: ┆ A22X4XUPKF ┆ 4.0   ┆ 2005-02-10 ┆ … ┆ 22        ┆ 0.9803    ┆ 2024-11-1 ┆ 7214d     │\n",
       "│ American   ┆ 66MR       ┆       ┆            ┆   ┆           ┆           ┆ 1         ┆           │\n",
       "│ Icon       ┆            ┆       ┆            ┆   ┆           ┆           ┆           ┆           │\n",
       "│ …          ┆ …          ┆ …     ┆ …          ┆ … ┆ …         ┆ …         ┆ …         ┆ …         │\n",
       "│ The Idea   ┆ AI1QNMVF2E ┆ 5.0   ┆ 2003-07-01 ┆ … ┆ 36        ┆ 0.9595    ┆ 2024-11-1 ┆ 7804d     │\n",
       "│ of History ┆ 3TN        ┆       ┆            ┆   ┆           ┆           ┆ 1         ┆           │\n",
       "│ The Idea   ┆ AOFGOUMXLM ┆ 4.0   ┆ 2012-07-17 ┆ … ┆ 28        ┆ -0.9643   ┆ 2024-11-1 ┆ 4500d     │\n",
       "│ of History ┆ VZS        ┆       ┆            ┆   ┆           ┆           ┆ 1         ┆           │\n",
       "│ The Idea   ┆ A1SMUB9ASL ┆ 4.0   ┆ 2012-03-14 ┆ … ┆ 45        ┆ 0.875     ┆ 2024-11-1 ┆ 4625d     │\n",
       "│ of History ┆ 5L9Y       ┆       ┆            ┆   ┆           ┆           ┆ 1         ┆           │\n",
       "│ The Idea   ┆ A2AQMEKZKK ┆ 4.0   ┆ 2007-05-27 ┆ … ┆ 55        ┆ 0.6858    ┆ 2024-11-1 ┆ 6378d     │\n",
       "│ of History ┆ 5EE4       ┆       ┆            ┆   ┆           ┆           ┆ 1         ┆           │\n",
       "│ The Idea   ┆ A18SQGYBKS ┆ 5.0   ┆ 2006-11-09 ┆ … ┆ 48        ┆ 0.0       ┆ 2024-11-1 ┆ 6577d     │\n",
       "│ of History ┆ 852K       ┆       ┆            ┆   ┆           ┆           ┆ 1         ┆           │\n",
       "└────────────┴────────────┴───────┴────────────┴───┴───────────┴───────────┴───────────┴───────────┘"
      ]
     },
     "execution_count": 82,
     "metadata": {},
     "output_type": "execute_result"
    }
   ],
   "source": [
    "reviews"
   ]
  },
  {
   "cell_type": "code",
   "execution_count": 104,
   "metadata": {},
   "outputs": [],
   "source": [
    "# Convert 'review_age_days' from duration to string for CSV compatibility\n",
    "reviews = reviews.with_columns(\n",
    "        pl.col(\"review_age_days\").cast(pl.Int64).cast(pl.Utf8)  # Convert duration to string\n",
    "    )"
   ]
  },
  {
   "cell_type": "code",
   "execution_count": 105,
   "metadata": {},
   "outputs": [
    {
     "data": {
      "text/html": [
       "<div><style>\n",
       ".dataframe > thead > tr,\n",
       ".dataframe > tbody > tr {\n",
       "  text-align: right;\n",
       "  white-space: pre-wrap;\n",
       "}\n",
       "</style>\n",
       "<small>shape: (2_438_018, 11)</small><table border=\"1\" class=\"dataframe\"><thead><tr><th>Title</th><th>User_id</th><th>score</th><th>time</th><th>summary</th><th>text</th><th>review_length</th><th>summary_length</th><th>sentiment_score</th><th>current_date</th><th>review_age_days</th></tr><tr><td>str</td><td>str</td><td>f64</td><td>date</td><td>str</td><td>str</td><td>u32</td><td>u32</td><td>f64</td><td>date</td><td>str</td></tr></thead><tbody><tr><td>&quot;Its Only Art If Its Well Hung!&quot;</td><td>&quot;AVCGYZL8FQQTD&quot;</td><td>4.0</td><td>1999-10-23</td><td>&quot;Nice collection of Julie Strai…</td><td>&quot;This is only for Julie Strain …</td><td>457</td><td>38</td><td>0.9408</td><td>2024-11-11</td><td>&quot;790646400000000000&quot;</td></tr><tr><td>&quot;Dr. Seuss: American Icon&quot;</td><td>&quot;A30TK6U7DNS82R&quot;</td><td>5.0</td><td>2004-09-21</td><td>&quot;Really Enjoyed It&quot;</td><td>&quot;I don&#x27;t care much for Dr. Seus…</td><td>1423</td><td>17</td><td>0.9876</td><td>2024-11-11</td><td>&quot;635558400000000000&quot;</td></tr><tr><td>&quot;Dr. Seuss: American Icon&quot;</td><td>&quot;A3UH4UZ4RSVO82&quot;</td><td>5.0</td><td>2004-03-09</td><td>&quot;Essential for every personal a…</td><td>&quot;If people become the books the…</td><td>1752</td><td>47</td><td>0.9935</td><td>2024-11-11</td><td>&quot;652492800000000000&quot;</td></tr><tr><td>&quot;Dr. Seuss: American Icon&quot;</td><td>&quot;A2MVUWT453QH61&quot;</td><td>4.0</td><td>2004-07-25</td><td>&quot;Phlip Nel gives silly Seuss a …</td><td>&quot;Theodore Seuss Geisel (1904-19…</td><td>3662</td><td>47</td><td>0.9807</td><td>2024-11-11</td><td>&quot;640569600000000000&quot;</td></tr><tr><td>&quot;Dr. Seuss: American Icon&quot;</td><td>&quot;A22X4XUPKF66MR&quot;</td><td>4.0</td><td>2005-02-10</td><td>&quot;Good academic overview&quot;</td><td>&quot;Philip Nel - Dr. Seuss: Americ…</td><td>1542</td><td>22</td><td>0.9803</td><td>2024-11-11</td><td>&quot;623289600000000000&quot;</td></tr><tr><td>&hellip;</td><td>&hellip;</td><td>&hellip;</td><td>&hellip;</td><td>&hellip;</td><td>&hellip;</td><td>&hellip;</td><td>&hellip;</td><td>&hellip;</td><td>&hellip;</td><td>&hellip;</td></tr><tr><td>&quot;The Idea of History&quot;</td><td>&quot;AI1QNMVF2E3TN&quot;</td><td>5.0</td><td>2003-07-01</td><td>&quot;R. G. Collingwood&#x27;s Most Famou…</td><td>&quot;Highly Recommended.This book i…</td><td>1632</td><td>36</td><td>0.9595</td><td>2024-11-11</td><td>&quot;674265600000000000&quot;</td></tr><tr><td>&quot;The Idea of History&quot;</td><td>&quot;AOFGOUMXLMVZS&quot;</td><td>4.0</td><td>2012-07-17</td><td>&quot;Thoughtful Critic of History&quot;</td><td>&quot;History is not a scientific pr…</td><td>12422</td><td>28</td><td>-0.9643</td><td>2024-11-11</td><td>&quot;388800000000000000&quot;</td></tr><tr><td>&quot;The Idea of History&quot;</td><td>&quot;A1SMUB9ASL5L9Y&quot;</td><td>4.0</td><td>2012-03-14</td><td>&quot;Quite good and ahead of its ti…</td><td>&quot;This is pretty interesting. Co…</td><td>597</td><td>45</td><td>0.875</td><td>2024-11-11</td><td>&quot;399600000000000000&quot;</td></tr><tr><td>&quot;The Idea of History&quot;</td><td>&quot;A2AQMEKZKK5EE4&quot;</td><td>4.0</td><td>2007-05-27</td><td>&quot;Easier reads of those not well…</td><td>&quot;This is a good book but very e…</td><td>161</td><td>55</td><td>0.6858</td><td>2024-11-11</td><td>&quot;551059200000000000&quot;</td></tr><tr><td>&quot;The Idea of History&quot;</td><td>&quot;A18SQGYBKS852K&quot;</td><td>5.0</td><td>2006-11-09</td><td>&quot;Yes, it is cheaper than the Un…</td><td>&quot;My daughter, a freshman at Ind…</td><td>258</td><td>48</td><td>0.0</td><td>2024-11-11</td><td>&quot;568252800000000000&quot;</td></tr></tbody></table></div>"
      ],
      "text/plain": [
       "shape: (2_438_018, 11)\n",
       "┌────────────┬────────────┬───────┬────────────┬───┬───────────┬───────────┬───────────┬───────────┐\n",
       "│ Title      ┆ User_id    ┆ score ┆ time       ┆ … ┆ summary_l ┆ sentiment ┆ current_d ┆ review_ag │\n",
       "│ ---        ┆ ---        ┆ ---   ┆ ---        ┆   ┆ ength     ┆ _score    ┆ ate       ┆ e_days    │\n",
       "│ str        ┆ str        ┆ f64   ┆ date       ┆   ┆ ---       ┆ ---       ┆ ---       ┆ ---       │\n",
       "│            ┆            ┆       ┆            ┆   ┆ u32       ┆ f64       ┆ date      ┆ str       │\n",
       "╞════════════╪════════════╪═══════╪════════════╪═══╪═══════════╪═══════════╪═══════════╪═══════════╡\n",
       "│ Its Only   ┆ AVCGYZL8FQ ┆ 4.0   ┆ 1999-10-23 ┆ … ┆ 38        ┆ 0.9408    ┆ 2024-11-1 ┆ 790646400 │\n",
       "│ Art If Its ┆ QTD        ┆       ┆            ┆   ┆           ┆           ┆ 1         ┆ 000000000 │\n",
       "│ Well Hung! ┆            ┆       ┆            ┆   ┆           ┆           ┆           ┆           │\n",
       "│ Dr. Seuss: ┆ A30TK6U7DN ┆ 5.0   ┆ 2004-09-21 ┆ … ┆ 17        ┆ 0.9876    ┆ 2024-11-1 ┆ 635558400 │\n",
       "│ American   ┆ S82R       ┆       ┆            ┆   ┆           ┆           ┆ 1         ┆ 000000000 │\n",
       "│ Icon       ┆            ┆       ┆            ┆   ┆           ┆           ┆           ┆           │\n",
       "│ Dr. Seuss: ┆ A3UH4UZ4RS ┆ 5.0   ┆ 2004-03-09 ┆ … ┆ 47        ┆ 0.9935    ┆ 2024-11-1 ┆ 652492800 │\n",
       "│ American   ┆ VO82       ┆       ┆            ┆   ┆           ┆           ┆ 1         ┆ 000000000 │\n",
       "│ Icon       ┆            ┆       ┆            ┆   ┆           ┆           ┆           ┆           │\n",
       "│ Dr. Seuss: ┆ A2MVUWT453 ┆ 4.0   ┆ 2004-07-25 ┆ … ┆ 47        ┆ 0.9807    ┆ 2024-11-1 ┆ 640569600 │\n",
       "│ American   ┆ QH61       ┆       ┆            ┆   ┆           ┆           ┆ 1         ┆ 000000000 │\n",
       "│ Icon       ┆            ┆       ┆            ┆   ┆           ┆           ┆           ┆           │\n",
       "│ Dr. Seuss: ┆ A22X4XUPKF ┆ 4.0   ┆ 2005-02-10 ┆ … ┆ 22        ┆ 0.9803    ┆ 2024-11-1 ┆ 623289600 │\n",
       "│ American   ┆ 66MR       ┆       ┆            ┆   ┆           ┆           ┆ 1         ┆ 000000000 │\n",
       "│ Icon       ┆            ┆       ┆            ┆   ┆           ┆           ┆           ┆           │\n",
       "│ …          ┆ …          ┆ …     ┆ …          ┆ … ┆ …         ┆ …         ┆ …         ┆ …         │\n",
       "│ The Idea   ┆ AI1QNMVF2E ┆ 5.0   ┆ 2003-07-01 ┆ … ┆ 36        ┆ 0.9595    ┆ 2024-11-1 ┆ 674265600 │\n",
       "│ of History ┆ 3TN        ┆       ┆            ┆   ┆           ┆           ┆ 1         ┆ 000000000 │\n",
       "│ The Idea   ┆ AOFGOUMXLM ┆ 4.0   ┆ 2012-07-17 ┆ … ┆ 28        ┆ -0.9643   ┆ 2024-11-1 ┆ 388800000 │\n",
       "│ of History ┆ VZS        ┆       ┆            ┆   ┆           ┆           ┆ 1         ┆ 000000000 │\n",
       "│ The Idea   ┆ A1SMUB9ASL ┆ 4.0   ┆ 2012-03-14 ┆ … ┆ 45        ┆ 0.875     ┆ 2024-11-1 ┆ 399600000 │\n",
       "│ of History ┆ 5L9Y       ┆       ┆            ┆   ┆           ┆           ┆ 1         ┆ 000000000 │\n",
       "│ The Idea   ┆ A2AQMEKZKK ┆ 4.0   ┆ 2007-05-27 ┆ … ┆ 55        ┆ 0.6858    ┆ 2024-11-1 ┆ 551059200 │\n",
       "│ of History ┆ 5EE4       ┆       ┆            ┆   ┆           ┆           ┆ 1         ┆ 000000000 │\n",
       "│ The Idea   ┆ A18SQGYBKS ┆ 5.0   ┆ 2006-11-09 ┆ … ┆ 48        ┆ 0.0       ┆ 2024-11-1 ┆ 568252800 │\n",
       "│ of History ┆ 852K       ┆       ┆            ┆   ┆           ┆           ┆ 1         ┆ 000000000 │\n",
       "└────────────┴────────────┴───────┴────────────┴───┴───────────┴───────────┴───────────┴───────────┘"
      ]
     },
     "execution_count": 105,
     "metadata": {},
     "output_type": "execute_result"
    }
   ],
   "source": [
    "reviews"
   ]
  },
  {
   "cell_type": "code",
   "execution_count": 108,
   "metadata": {},
   "outputs": [
    {
     "name": "stderr",
     "output_type": "stream",
     "text": [
      "INFO - File /home/igor/github-projects/book-review/data/feature_store/rating_reviews_features.parquet already exists, skipping save.\n",
      "INFO - File /home/igor/github-projects/book-review/data/feature_store/books_info_features.parquet already exists, skipping save.\n"
     ]
    }
   ],
   "source": [
    "from src.utils import save_to_parquet_if_not_exists\n",
    "\n",
    "# Usage in feature engineering step\n",
    "try:\n",
    "    # Paths to save Parquet files\n",
    "    reviews_path = FEATURE_STORE_DIR / \"rating_reviews_features.parquet\"\n",
    "    books_info_path = FEATURE_STORE_DIR / \"books_info_features.parquet\"\n",
    "    \n",
    "    # Save DataFrames if files do not already exist\n",
    "    save_to_parquet_if_not_exists(reviews, reviews_path, logger)\n",
    "    save_to_parquet_if_not_exists(books_info, books_info_path, logger)\n",
    "    \n",
    "except Exception as e:\n",
    "    logger.error(f\"Error during Parquet file saving: {e}\")\n"
   ]
  }
 ],
 "metadata": {
  "kernelspec": {
   "display_name": "book-review-0Q8IVYaC-py3.10",
   "language": "python",
   "name": "python3"
  },
  "language_info": {
   "codemirror_mode": {
    "name": "ipython",
    "version": 3
   },
   "file_extension": ".py",
   "mimetype": "text/x-python",
   "name": "python",
   "nbconvert_exporter": "python",
   "pygments_lexer": "ipython3",
   "version": "3.10.12"
  }
 },
 "nbformat": 4,
 "nbformat_minor": 2
}
