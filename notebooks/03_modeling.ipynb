{
 "cells": [
  {
   "cell_type": "code",
   "execution_count": 3,
   "metadata": {},
   "outputs": [],
   "source": [
    "\n",
    "import sys\n",
    "from pathlib import Path\n",
    "\n",
    "# Define o caminho para o diretório raiz do projeto\n",
    "project_root = Path(\"/home/igor/github-projects/book-review\")\n",
    "\n",
    "# Adiciona o diretório raiz do projeto ao sys.path\n",
    "if str(project_root) not in sys.path:\n",
    "    sys.path.append(str(project_root))\n",
    "\n",
    "import polars as pl\n",
    "from src.paths import * \n",
    "from src.config import *\n",
    "model_data = pl.read_parquet(FEATURE_STORE_DIR / 'model_data.parquet')"
   ]
  },
  {
   "cell_type": "code",
   "execution_count": 4,
   "metadata": {},
   "outputs": [
    {
     "data": {
      "text/html": [
       "<div><style>\n",
       ".dataframe > thead > tr,\n",
       ".dataframe > tbody > tr {\n",
       "  text-align: right;\n",
       "  white-space: pre-wrap;\n",
       "}\n",
       "</style>\n",
       "<small>shape: (5, 18)</small><table border=\"1\" class=\"dataframe\"><thead><tr><th>Title</th><th>User_id</th><th>score</th><th>summary</th><th>text</th><th>review_length</th><th>summary_length</th><th>sentiment_score</th><th>current_date</th><th>review_age_days</th><th>text_length</th><th>description</th><th>authors</th><th>publisher</th><th>publishedDate</th><th>categories</th><th>avg_score</th><th>count</th></tr><tr><td>str</td><td>str</td><td>f64</td><td>str</td><td>str</td><td>u32</td><td>u32</td><td>f64</td><td>date</td><td>str</td><td>u32</td><td>str</td><td>str</td><td>str</td><td>str</td><td>str</td><td>f64</td><td>u32</td></tr></thead><tbody><tr><td>&quot;Its Only Art If Its Well Hung!&quot;</td><td>&quot;AVCGYZL8FQQTD&quot;</td><td>4.0</td><td>&quot;Nice collection of Julie Strai…</td><td>&quot;This is only for Julie Strain …</td><td>457</td><td>38</td><td>0.9408</td><td>2024-11-11</td><td>&quot;790646400000000000&quot;</td><td>457</td><td>&quot;Unknown&quot;</td><td>&quot;[&#x27;Julie Strain&#x27;]&quot;</td><td>&quot;Unknown&quot;</td><td>&quot;1996&quot;</td><td>&quot;[&#x27;Comics &amp; Graphic Novels&#x27;]&quot;</td><td>4.0</td><td>1</td></tr><tr><td>&quot;Dr. Seuss: American Icon&quot;</td><td>&quot;A30TK6U7DNS82R&quot;</td><td>5.0</td><td>&quot;Really Enjoyed It&quot;</td><td>&quot;I don&#x27;t care much for Dr. Seus…</td><td>1423</td><td>17</td><td>0.9876</td><td>2024-11-11</td><td>&quot;635558400000000000&quot;</td><td>1423</td><td>&quot;Philip Nel takes a fascinating…</td><td>&quot;[&#x27;Philip Nel&#x27;]&quot;</td><td>&quot;A&amp;C Black&quot;</td><td>&quot;2005-01-01&quot;</td><td>&quot;[&#x27;Biography &amp; Autobiography&#x27;]&quot;</td><td>4.555556</td><td>9</td></tr><tr><td>&quot;Dr. Seuss: American Icon&quot;</td><td>&quot;A3UH4UZ4RSVO82&quot;</td><td>5.0</td><td>&quot;Essential for every personal a…</td><td>&quot;If people become the books the…</td><td>1752</td><td>47</td><td>0.9935</td><td>2024-11-11</td><td>&quot;652492800000000000&quot;</td><td>1752</td><td>&quot;Philip Nel takes a fascinating…</td><td>&quot;[&#x27;Philip Nel&#x27;]&quot;</td><td>&quot;A&amp;C Black&quot;</td><td>&quot;2005-01-01&quot;</td><td>&quot;[&#x27;Biography &amp; Autobiography&#x27;]&quot;</td><td>4.555556</td><td>9</td></tr><tr><td>&quot;Dr. Seuss: American Icon&quot;</td><td>&quot;A2MVUWT453QH61&quot;</td><td>4.0</td><td>&quot;Phlip Nel gives silly Seuss a …</td><td>&quot;Theodore Seuss Geisel (1904-19…</td><td>3662</td><td>47</td><td>0.9807</td><td>2024-11-11</td><td>&quot;640569600000000000&quot;</td><td>3662</td><td>&quot;Philip Nel takes a fascinating…</td><td>&quot;[&#x27;Philip Nel&#x27;]&quot;</td><td>&quot;A&amp;C Black&quot;</td><td>&quot;2005-01-01&quot;</td><td>&quot;[&#x27;Biography &amp; Autobiography&#x27;]&quot;</td><td>4.555556</td><td>9</td></tr><tr><td>&quot;Dr. Seuss: American Icon&quot;</td><td>&quot;A22X4XUPKF66MR&quot;</td><td>4.0</td><td>&quot;Good academic overview&quot;</td><td>&quot;Philip Nel - Dr. Seuss: Americ…</td><td>1542</td><td>22</td><td>0.9803</td><td>2024-11-11</td><td>&quot;623289600000000000&quot;</td><td>1542</td><td>&quot;Philip Nel takes a fascinating…</td><td>&quot;[&#x27;Philip Nel&#x27;]&quot;</td><td>&quot;A&amp;C Black&quot;</td><td>&quot;2005-01-01&quot;</td><td>&quot;[&#x27;Biography &amp; Autobiography&#x27;]&quot;</td><td>4.555556</td><td>9</td></tr></tbody></table></div>"
      ],
      "text/plain": [
       "shape: (5, 18)\n",
       "┌─────────────┬─────────────┬───────┬────────────┬───┬────────────┬────────────┬───────────┬───────┐\n",
       "│ Title       ┆ User_id     ┆ score ┆ summary    ┆ … ┆ publishedD ┆ categories ┆ avg_score ┆ count │\n",
       "│ ---         ┆ ---         ┆ ---   ┆ ---        ┆   ┆ ate        ┆ ---        ┆ ---       ┆ ---   │\n",
       "│ str         ┆ str         ┆ f64   ┆ str        ┆   ┆ ---        ┆ str        ┆ f64       ┆ u32   │\n",
       "│             ┆             ┆       ┆            ┆   ┆ str        ┆            ┆           ┆       │\n",
       "╞═════════════╪═════════════╪═══════╪════════════╪═══╪════════════╪════════════╪═══════════╪═══════╡\n",
       "│ Its Only    ┆ AVCGYZL8FQQ ┆ 4.0   ┆ Nice       ┆ … ┆ 1996       ┆ ['Comics & ┆ 4.0       ┆ 1     │\n",
       "│ Art If Its  ┆ TD          ┆       ┆ collection ┆   ┆            ┆ Graphic    ┆           ┆       │\n",
       "│ Well Hung!  ┆             ┆       ┆ of Julie   ┆   ┆            ┆ Novels']   ┆           ┆       │\n",
       "│             ┆             ┆       ┆ Strai…     ┆   ┆            ┆            ┆           ┆       │\n",
       "│ Dr. Seuss:  ┆ A30TK6U7DNS ┆ 5.0   ┆ Really     ┆ … ┆ 2005-01-01 ┆ ['Biograph ┆ 4.555556  ┆ 9     │\n",
       "│ American    ┆ 82R         ┆       ┆ Enjoyed It ┆   ┆            ┆ y & Autobi ┆           ┆       │\n",
       "│ Icon        ┆             ┆       ┆            ┆   ┆            ┆ ography']  ┆           ┆       │\n",
       "│ Dr. Seuss:  ┆ A3UH4UZ4RSV ┆ 5.0   ┆ Essential  ┆ … ┆ 2005-01-01 ┆ ['Biograph ┆ 4.555556  ┆ 9     │\n",
       "│ American    ┆ O82         ┆       ┆ for every  ┆   ┆            ┆ y & Autobi ┆           ┆       │\n",
       "│ Icon        ┆             ┆       ┆ personal   ┆   ┆            ┆ ography']  ┆           ┆       │\n",
       "│             ┆             ┆       ┆ a…         ┆   ┆            ┆            ┆           ┆       │\n",
       "│ Dr. Seuss:  ┆ A2MVUWT453Q ┆ 4.0   ┆ Phlip Nel  ┆ … ┆ 2005-01-01 ┆ ['Biograph ┆ 4.555556  ┆ 9     │\n",
       "│ American    ┆ H61         ┆       ┆ gives      ┆   ┆            ┆ y & Autobi ┆           ┆       │\n",
       "│ Icon        ┆             ┆       ┆ silly      ┆   ┆            ┆ ography']  ┆           ┆       │\n",
       "│             ┆             ┆       ┆ Seuss a …  ┆   ┆            ┆            ┆           ┆       │\n",
       "│ Dr. Seuss:  ┆ A22X4XUPKF6 ┆ 4.0   ┆ Good       ┆ … ┆ 2005-01-01 ┆ ['Biograph ┆ 4.555556  ┆ 9     │\n",
       "│ American    ┆ 6MR         ┆       ┆ academic   ┆   ┆            ┆ y & Autobi ┆           ┆       │\n",
       "│ Icon        ┆             ┆       ┆ overview   ┆   ┆            ┆ ography']  ┆           ┆       │\n",
       "└─────────────┴─────────────┴───────┴────────────┴───┴────────────┴────────────┴───────────┴───────┘"
      ]
     },
     "execution_count": 4,
     "metadata": {},
     "output_type": "execute_result"
    }
   ],
   "source": [
    "model_data.head()"
   ]
  },
  {
   "cell_type": "code",
   "execution_count": 6,
   "metadata": {},
   "outputs": [],
   "source": [
    "# Sample the data for testing to reduce computation\n",
    "sample_data = model_data.sample(fraction=0.1, seed=42,shuffle=True)"
   ]
  },
  {
   "cell_type": "code",
   "execution_count": 8,
   "metadata": {},
   "outputs": [],
   "source": [
    "# Combine relevant columns into a single text string for each book review\n",
    "combined_texts = [\n",
    "    f\"Title: {row['Title']}\\n\"\n",
    "    f\"Description: {row['description']}\\n\"\n",
    "    f\"Authors: {row['authors']}\\n\"\n",
    "    f\"Publisher: {row['publisher']}\\n\"\n",
    "    f\"Published Date: {row['publishedDate']}\\n\"\n",
    "    f\"Categories: {row['categories']}\\n\"\n",
    "    f\"Average Score: {row['avg_score']}\\n\"\n",
    "    f\"Review Summary: {row['summary']}\\n\"\n",
    "    f\"Review Text: {row['text']}\\n\"\n",
    "    f\"Review Score: {row['score']}\\n\"\n",
    "    for row in sample_data.to_dicts()\n",
    "]"
   ]
  },
  {
   "cell_type": "code",
   "execution_count": 9,
   "metadata": {},
   "outputs": [],
   "source": [
    "# Define generic question templates\n",
    "questions = [\n",
    "    \"What is the general opinion about this book?\",\n",
    "    \"What do readers think about the book's narrative and style?\",\n",
    "    \"Could you summarize the feedback for this book?\",\n",
    "    \"What are the strong and weak points mentioned in the reviews?\"\n",
    "]\n",
    "\n",
    "# Prepare the training pairs by combining each text with each question\n",
    "training_pairs = [{\"question\": q, \"context\": combined_text} for combined_text in combined_texts for q in questions]\n"
   ]
  },
  {
   "cell_type": "code",
   "execution_count": 3,
   "metadata": {},
   "outputs": [
    {
     "ename": "",
     "evalue": "",
     "output_type": "error",
     "traceback": [
      "\u001b[1;31mThe Kernel crashed while executing code in the current cell or a previous cell. \n",
      "\u001b[1;31mPlease review the code in the cell(s) to identify a possible cause of the failure. \n",
      "\u001b[1;31mClick <a href='https://aka.ms/vscodeJupyterKernelCrash'>here</a> for more info. \n",
      "\u001b[1;31mView Jupyter <a href='command:jupyter.viewOutput'>log</a> for further details."
     ]
    }
   ],
   "source": [
    "import sys\n",
    "from pathlib import Path\n",
    "from transformers import AutoTokenizer, AutoModel\n",
    "import torch\n",
    "from torch.nn.functional import cosine_similarity\n",
    "\n",
    "# Inicializa o caminho do projeto\n",
    "project_root = Path(\"/home/igor/github-projects/book-review\")\n",
    "if str(project_root) not in sys.path:\n",
    "    sys.path.append(str(project_root))\n",
    "\n",
    "from src.paths import *\n",
    "from src.config import *\n",
    "import polars as pl\n",
    "\n",
    "# Carrega o modelo e tokenizador\n",
    "model_name = \"sentence-transformers/multi-qa-mpnet-base-dot-v1\"\n",
    "tokenizer = AutoTokenizer.from_pretrained(model_name)\n",
    "model = AutoModel.from_pretrained(model_name)\n",
    "\n",
    "# Carrega o dado\n",
    "model_data = pl.read_parquet(FEATURE_STORE_DIR / 'model_data.parquet')\n",
    "sample_data = model_data.sample(fraction=0.001, seed=42, shuffle=True)\n",
    "\n",
    "# Combina colunas relevantes em um único texto\n",
    "combined_texts = [\n",
    "    f\"Title: {row['Title']}\\nDescription: {row['description']}\\nAuthors: {row['authors']}\\n\"\n",
    "    f\"Publisher: {row['publisher']}\\nPublished Date: {row['publishedDate']}\\nCategories: {row['categories']}\\n\"\n",
    "    f\"Average Score: {row['avg_score']}\\nReview Summary: {row['summary']}\\nReview Text: {row['text']}\\n\"\n",
    "    for row in sample_data.to_dicts()\n",
    "]\n",
    "\n",
    "# Perguntas de exemplo\n",
    "questions = [\n",
    "    \"What is the general opinion about this book?\",\n",
    "    \"What do readers think about the book's narrative and style?\",\n",
    "    \"Could you summarize the feedback for this book?\",\n",
    "    \"What are the strong and weak points mentioned in the reviews?\"\n",
    "]\n",
    "\n",
    "# Função para gerar embeddings\n",
    "def generate_embeddings(texts):\n",
    "    inputs = tokenizer(texts, padding=True, truncation=True, return_tensors=\"pt\", max_length=512)\n",
    "    with torch.no_grad():\n",
    "        embeddings = model(**inputs).last_hidden_state[:, 0, :]  # CLS pooling\n",
    "    return embeddings\n",
    "\n",
    "# Gera embeddings das perguntas e contextos\n",
    "question_embeddings = generate_embeddings(questions)\n",
    "context_embeddings = generate_embeddings(combined_texts)\n",
    "\n",
    "# Função para responder perguntas encontrando a similaridade máxima\n",
    "def get_most_relevant_answer(question_embedding, context_embeddings, contexts):\n",
    "    similarities = cosine_similarity(question_embedding, context_embeddings)\n",
    "    max_index = similarities.argmax().item()\n",
    "    return contexts[max_index], similarities[max_index].item()\n",
    "\n",
    "# Teste com uma pergunta de exemplo\n",
    "question_text = \"What is the most loved book?\"\n",
    "question_embedding = generate_embeddings([question_text])\n",
    "\n",
    "# Encontra e exibe a resposta mais relevante\n",
    "most_relevant_answer, similarity_score = get_most_relevant_answer(question_embedding, context_embeddings, combined_texts)\n",
    "print(f\"Question: {question_text}\")\n",
    "print(f\"Most Relevant Answer: {most_relevant_answer}\")\n",
    "print(f\"Similarity Score: {similarity_score}\")\n"
   ]
  },
  {
   "cell_type": "code",
   "execution_count": null,
   "metadata": {},
   "outputs": [],
   "source": [
    "def ask_model(question, context):\n",
    "    inputs = tokenizer(question, context, return_tensors=\"pt\", truncation=True, max_length=512)\n",
    "    with torch.no_grad():\n",
    "        outputs = model(**inputs)\n",
    "        start_scores, end_scores = outputs.start_logits, outputs.end_logits\n",
    "        start_idx = torch.argmax(start_scores)\n",
    "        end_idx = torch.argmax(end_scores) + 1\n",
    "        answer = tokenizer.convert_tokens_to_string(tokenizer.convert_ids_to_tokens(inputs[\"input_ids\"][0][start_idx:end_idx]))\n",
    "    return answer\n",
    "\n",
    "# Test a sample question\n",
    "sample_question = \"What is the general opinion about this book?\"\n",
    "sample_context = combined_texts[0]  # Test on the first sample\n",
    "print(ask_model(sample_question, sample_context))"
   ]
  }
 ],
 "metadata": {
  "kernelspec": {
   "display_name": "book-review-0Q8IVYaC-py3.10",
   "language": "python",
   "name": "python3"
  },
  "language_info": {
   "codemirror_mode": {
    "name": "ipython",
    "version": 3
   },
   "file_extension": ".py",
   "mimetype": "text/x-python",
   "name": "python",
   "nbconvert_exporter": "python",
   "pygments_lexer": "ipython3",
   "version": "3.10.12"
  }
 },
 "nbformat": 4,
 "nbformat_minor": 2
}
